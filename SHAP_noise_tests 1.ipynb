{
 "cells": [
  {
   "cell_type": "code",
   "execution_count": 10,
   "id": "2a59c863",
   "metadata": {},
   "outputs": [
    {
     "name": "stderr",
     "output_type": "stream",
     "text": [
      "huggingface/tokenizers: The current process just got forked, after parallelism has already been used. Disabling parallelism to avoid deadlocks...\n",
      "To disable this warning, you can either:\n",
      "\t- Avoid using `tokenizers` before the fork if possible\n",
      "\t- Explicitly set the environment variable TOKENIZERS_PARALLELISM=(true | false)\n"
     ]
    },
    {
     "name": "stdout",
     "output_type": "stream",
     "text": [
      "Requirement already satisfied: gdown in /usr/local/lib/python3.10/dist-packages (5.2.0)\n",
      "Requirement already satisfied: beautifulsoup4 in /usr/local/lib/python3.10/dist-packages (from gdown) (4.12.2)\n",
      "Requirement already satisfied: filelock in /usr/local/lib/python3.10/dist-packages (from gdown) (3.9.0)\n",
      "Requirement already satisfied: requests[socks] in /usr/local/lib/python3.10/dist-packages (from gdown) (2.32.4)\n",
      "Requirement already satisfied: tqdm in /usr/local/lib/python3.10/dist-packages (from gdown) (4.67.1)\n",
      "Requirement already satisfied: soupsieve>1.2 in /usr/local/lib/python3.10/dist-packages (from beautifulsoup4->gdown) (2.5)\n",
      "Requirement already satisfied: charset_normalizer<4,>=2 in /usr/local/lib/python3.10/dist-packages (from requests[socks]->gdown) (2.1.1)\n",
      "Requirement already satisfied: idna<4,>=2.5 in /usr/local/lib/python3.10/dist-packages (from requests[socks]->gdown) (3.4)\n",
      "Requirement already satisfied: urllib3<3,>=1.21.1 in /usr/local/lib/python3.10/dist-packages (from requests[socks]->gdown) (1.26.13)\n",
      "Requirement already satisfied: certifi>=2017.4.17 in /usr/local/lib/python3.10/dist-packages (from requests[socks]->gdown) (2022.12.7)\n",
      "Requirement already satisfied: PySocks!=1.5.7,>=1.5.6 in /usr/local/lib/python3.10/dist-packages (from requests[socks]->gdown) (1.7.1)\n",
      "Requirement already satisfied: beautifulsoup4 in /usr/local/lib/python3.10/dist-packages (from gdown) (4.12.2)\n",
      "Requirement already satisfied: filelock in /usr/local/lib/python3.10/dist-packages (from gdown) (3.9.0)\n",
      "Requirement already satisfied: requests[socks] in /usr/local/lib/python3.10/dist-packages (from gdown) (2.32.4)\n",
      "Requirement already satisfied: tqdm in /usr/local/lib/python3.10/dist-packages (from gdown) (4.67.1)\n",
      "Requirement already satisfied: soupsieve>1.2 in /usr/local/lib/python3.10/dist-packages (from beautifulsoup4->gdown) (2.5)\n",
      "Requirement already satisfied: charset_normalizer<4,>=2 in /usr/local/lib/python3.10/dist-packages (from requests[socks]->gdown) (2.1.1)\n",
      "Requirement already satisfied: idna<4,>=2.5 in /usr/local/lib/python3.10/dist-packages (from requests[socks]->gdown) (3.4)\n",
      "Requirement already satisfied: urllib3<3,>=1.21.1 in /usr/local/lib/python3.10/dist-packages (from requests[socks]->gdown) (1.26.13)\n",
      "Requirement already satisfied: certifi>=2017.4.17 in /usr/local/lib/python3.10/dist-packages (from requests[socks]->gdown) (2022.12.7)\n",
      "Requirement already satisfied: PySocks!=1.5.7,>=1.5.6 in /usr/local/lib/python3.10/dist-packages (from requests[socks]->gdown) (1.7.1)\n",
      "\u001b[33mWARNING: Running pip as the 'root' user can result in broken permissions and conflicting behaviour with the system package manager. It is recommended to use a virtual environment instead: https://pip.pypa.io/warnings/venv\u001b[0m\u001b[33m\n",
      "\u001b[0m\n",
      "\u001b[1m[\u001b[0m\u001b[34;49mnotice\u001b[0m\u001b[1;39;49m]\u001b[0m\u001b[39;49m A new release of pip is available: \u001b[0m\u001b[31;49m23.3.1\u001b[0m\u001b[39;49m -> \u001b[0m\u001b[32;49m25.1.1\u001b[0m\n",
      "\u001b[1m[\u001b[0m\u001b[34;49mnotice\u001b[0m\u001b[1;39;49m]\u001b[0m\u001b[39;49m To update, run: \u001b[0m\u001b[32;49mpython -m pip install --upgrade pip\u001b[0m\n",
      "\u001b[33mWARNING: Running pip as the 'root' user can result in broken permissions and conflicting behaviour with the system package manager. It is recommended to use a virtual environment instead: https://pip.pypa.io/warnings/venv\u001b[0m\u001b[33m\n",
      "\u001b[0m\n",
      "\u001b[1m[\u001b[0m\u001b[34;49mnotice\u001b[0m\u001b[1;39;49m]\u001b[0m\u001b[39;49m A new release of pip is available: \u001b[0m\u001b[31;49m23.3.1\u001b[0m\u001b[39;49m -> \u001b[0m\u001b[32;49m25.1.1\u001b[0m\n",
      "\u001b[1m[\u001b[0m\u001b[34;49mnotice\u001b[0m\u001b[1;39;49m]\u001b[0m\u001b[39;49m To update, run: \u001b[0m\u001b[32;49mpython -m pip install --upgrade pip\u001b[0m\n"
     ]
    },
    {
     "name": "stderr",
     "output_type": "stream",
     "text": [
      "Downloading...\n",
      "From (original): https://drive.google.com/uc?id=1oebyD14zyAq8QjeK8PSeRg_2R6ekSu6u\n",
      "From (redirected): https://drive.google.com/uc?id=1oebyD14zyAq8QjeK8PSeRg_2R6ekSu6u&confirm=t&uuid=b45f1bb0-0f61-47ca-becc-16d6ba703e5d\n",
      "To: /workspace/sep-probe-judge/24k_cleaned.csv\n",
      "100%|██████████| 294M/294M [00:04<00:00, 71.6MB/s] \n",
      "\n"
     ]
    },
    {
     "name": "stdout",
     "output_type": "stream",
     "text": [
      "Shape: (24128, 4)\n",
      "                                                text  label  split  \\\n",
      "0   M. JOSEPH, J. The appeal is directed against ...      0  train   \n",
      "1   M. Khanwilkar, J. Delay companydoned. Leave g...      1  train   \n",
      "2   HEMANT GUPTA, J. The challenge in the present...      0  train   \n",
      "3   INDU MALHOTRA, J. Leave granted. The issue wh...      0  train   \n",
      "4   Dr Dhananjaya Y Chandrachud, J 1 This appeal ...      0  train   \n",
      "\n",
      "          name  \n",
      "0  2020_10.txt  \n",
      "1  2020_12.txt  \n",
      "2  2020_14.txt  \n",
      "3  2020_15.txt  \n",
      "4  2020_20.txt  \n"
     ]
    }
   ],
   "source": [
    "!pip install -U gdown\n",
    "import gdown\n",
    "\n",
    "# Download the file directly using its ID\n",
    "file_id = \"1oebyD14zyAq8QjeK8PSeRg_2R6ekSu6u\"\n",
    "gdown.download(id=file_id, output=\"24k_cleaned.csv\", quiet=False)\n",
    "\n",
    "# Load the CSV\n",
    "import pandas as pd\n",
    "df = pd.read_csv(\"24k_cleaned.csv\")\n",
    "\n",
    "# Check\n",
    "print(\"Shape:\", df.shape)\n",
    "print(df.head())\n",
    "\n"
   ]
  },
  {
   "cell_type": "code",
   "execution_count": 11,
   "id": "6088a86a",
   "metadata": {},
   "outputs": [
    {
     "name": "stdout",
     "output_type": "stream",
     "text": [
      "Splitting data...\n"
     ]
    }
   ],
   "source": [
    "print(\"Splitting data...\")\n",
    "df_train, df_temp = train_test_split(df, test_size=0.3, random_state=RANDOM_SEED, stratify=df['label'])\n",
    "df_val, df_test = train_test_split(df_temp, test_size=0.5, random_state=RANDOM_SEED, stratify=df_temp['label'])"
   ]
  },
  {
   "cell_type": "code",
   "execution_count": null,
   "id": "9cbfd099",
   "metadata": {},
   "outputs": [],
   "source": [
    "# run for memory cleanup\n",
    "import gc\n",
    "import torch\n",
    "gc.collect()\n",
    "torch.cuda.empty_cache()"
   ]
  },
  {
   "cell_type": "code",
   "execution_count": null,
   "id": "c8ce006b",
   "metadata": {},
   "outputs": [],
   "source": [
    "# imports\n",
    "import os\n",
    "import warnings\n",
    "import json\n",
    "import pickle\n",
    "warnings.filterwarnings('ignore')\n",
    "\n",
    "# Core libraries\n",
    "import numpy as np\n",
    "import pandas as pd\n",
    "import matplotlib.pyplot as plt\n",
    "import seaborn as sns\n",
    "from tqdm import tqdm\n",
    "import re\n",
    "from collections import defaultdict\n",
    "from typing import List, Dict, Union, Tuple\n",
    "\n",
    "# ML libraries\n",
    "import torch\n",
    "import torch.nn as nn\n",
    "import torch.nn.functional as F\n",
    "from torch.utils.data import Dataset, DataLoader\n",
    "from torch.optim import AdamW\n",
    "from transformers import AutoTokenizer, AutoModel, get_linear_schedule_with_warmup\n",
    "\n",
    "# Sklearn\n",
    "from sklearn.model_selection import train_test_split, StratifiedKFold\n",
    "from sklearn.metrics import confusion_matrix, classification_report, accuracy_score\n",
    "from scipy.stats import spearmanr, ttest_ind\n",
    "\n",
    "# SHAP\n",
    "import shap\n"
   ]
  },
  {
   "cell_type": "code",
   "execution_count": null,
   "id": "f093ad7c",
   "metadata": {},
   "outputs": [],
   "source": [
    "#!/usr/bin/env python3\n",
    "# Enhanced Judicial Prediction Model with SHAP Analysis\n",
    "\n",
    "# Set random seeds for reproducibility\n",
    "RANDOM_SEED = 42\n",
    "np.random.seed(RANDOM_SEED)\n",
    "torch.manual_seed(RANDOM_SEED)\n",
    "if torch.cuda.is_available():\n",
    "    torch.cuda.manual_seed(RANDOM_SEED)\n",
    "\n",
    "# Device configuration\n",
    "device = torch.device(\"cuda\" if torch.cuda.is_available() else \"cpu\")\n",
    "print(f\"Using device: {device}\")\n",
    "\n",
    "# Configuration\n",
    "MAX_LEN = 512\n",
    "BATCH_SIZE = 16\n",
    "EPOCHS = 10\n",
    "LEARNING_RATE = 2e-5\n",
    "\n",
    "# ================= MODEL SAVING/LOADING UTILITIES =================\n",
    "class ModelSaver:\n",
    "    \"\"\"Utility class for saving and loading models with metadata\"\"\"\n",
    "    \n",
    "    @staticmethod\n",
    "    def save_model(model, tokenizer, config, save_path=\"./model_checkpoint\"):\n",
    "        \"\"\"\n",
    "        Save model, tokenizer, and configuration\n",
    "        \"\"\"\n",
    "        os.makedirs(save_path, exist_ok=True)\n",
    "        \n",
    "        # Save model state dict\n",
    "        torch.save(model.state_dict(), os.path.join(save_path, 'model.pth'))\n",
    "        \n",
    "        # Save tokenizer\n",
    "        tokenizer.save_pretrained(os.path.join(save_path, 'tokenizer'))\n",
    "        \n",
    "        # Save configuration\n",
    "        with open(os.path.join(save_path, 'config.json'), 'w') as f:\n",
    "            json.dump(config, f, indent=2)\n",
    "        \n",
    "        # Save model architecture info\n",
    "        model_info = {\n",
    "            'model_class': model.__class__.__name__,\n",
    "            'n_classes': model.final_classifier.out_features,\n",
    "            'hidden_size': model.bert.config.hidden_size,\n",
    "            'dropout_rate': 0.3,  # Default, could be made configurable\n",
    "            'num_layers': len([l for l in model.classifier_layers if isinstance(l, nn.Linear)])\n",
    "        }\n",
    "        \n",
    "        with open(os.path.join(save_path, 'model_info.json'), 'w') as f:\n",
    "            json.dump(model_info, f, indent=2)\n",
    "        \n",
    "        print(f\"Model saved to {save_path}\")\n",
    "    \n",
    "    @staticmethod\n",
    "    def load_model(load_path=\"./model_checkpoint\"):\n",
    "        \"\"\"\n",
    "        Load model, tokenizer, and configuration\n",
    "        \"\"\"\n",
    "        # Load configuration\n",
    "        with open(os.path.join(load_path, 'config.json'), 'r') as f:\n",
    "            config = json.load(f)\n",
    "        \n",
    "        # Load model info\n",
    "        with open(os.path.join(load_path, 'model_info.json'), 'r') as f:\n",
    "            model_info = json.load(f)\n",
    "        \n",
    "        # Load tokenizer\n",
    "        tokenizer = AutoTokenizer.from_pretrained(os.path.join(load_path, 'tokenizer'))\n",
    "        \n",
    "        # Recreate model\n",
    "        model = EnhancedLegalClassifier(\n",
    "            n_classes=model_info['n_classes'],\n",
    "            hidden_size=model_info.get('hidden_size', 768),\n",
    "            dropout_rate=model_info.get('dropout_rate', 0.3),\n",
    "            num_layers=model_info.get('num_layers', 2)\n",
    "        )\n",
    "        \n",
    "        # Load model state\n",
    "        model.load_state_dict(torch.load(os.path.join(load_path, 'model.pth'), map_location=device))\n",
    "        model.to(device)\n",
    "        \n",
    "        print(f\"Model loaded from {load_path}\")\n",
    "        return model, tokenizer, config\n",
    "\n",
    "# ================= DATA LOADING AND PREPROCESSING =================\n",
    "def load_and_preprocess_data():\n",
    "    \"\"\"Load and preprocess the judicial dataset\"\"\"\n",
    "    print(\"Loading dataset...\")\n",
    "    \n",
    "    # Try to load the dataset\n",
    "    try:\n",
    "        df = pd.read_csv(\"24k_cleaned.csv\")\n",
    "        print(f\"Dataset loaded successfully. Shape: {df.shape}\")\n",
    "    except FileNotFoundError:\n",
    "        print(\"Dataset not found. Please ensure '24k_cleaned.csv' is in the current directory.\")\n",
    "        # Create a dummy dataset for demonstration\n",
    "        print(\"Creating dummy dataset for demonstration...\")\n",
    "        df = create_dummy_dataset()\n",
    "    \n",
    "    return df\n",
    "\n",
    "def create_dummy_dataset(n_samples=1000):\n",
    "    \"\"\"Create a dummy legal dataset for demonstration\"\"\"\n",
    "    legal_phrases_positive = [\n",
    "        \"The petition is allowed\", \"Appeal is granted\", \"Relief is granted\",\n",
    "        \"The application is accepted\", \"Motion is granted\", \"Plea is allowed\",\n",
    "        \"The court finds merit\", \"Favorable judgment\", \"Petition has substance\"\n",
    "    ]\n",
    "    \n",
    "    legal_phrases_negative = [\n",
    "        \"The petition is dismissed\", \"Appeal is rejected\", \"Relief is denied\",\n",
    "        \"The application is dismissed\", \"Motion is denied\", \"Plea is rejected\",\n",
    "        \"The court finds no merit\", \"Unfavorable judgment\", \"Petition lacks substance\"\n",
    "    ]\n",
    "    \n",
    "    texts = []\n",
    "    labels = []\n",
    "    \n",
    "    for i in range(n_samples):\n",
    "        if i % 2 == 0:\n",
    "            base_text = np.random.choice(legal_phrases_positive)\n",
    "            label = 1\n",
    "        else:\n",
    "            base_text = np.random.choice(legal_phrases_negative)\n",
    "            label = 0\n",
    "        \n",
    "        # Add some legal context\n",
    "        context = f\"In the matter of Case No. {i+1}/2024, after hearing arguments from both parties, considering the evidence presented, and reviewing applicable laws and precedents, this court observes that {base_text.lower()}. The facts of the case clearly indicate the merits of the arguments presented.\"\n",
    "        \n",
    "        texts.append(context)\n",
    "        labels.append(label)\n",
    "    \n",
    "    return pd.DataFrame({'text': texts, 'label': labels})\n",
    "\n",
    "def advanced_text_preprocessing(text):\n",
    "    \"\"\"Enhanced preprocessing for legal text\"\"\"\n",
    "    if pd.isna(text):\n",
    "        return \"\"\n",
    "    \n",
    "    text = str(text)\n",
    "    \n",
    "    # Legal-specific normalization\n",
    "    text = re.sub(r'\\b\\d{4}\\b', '[YEAR]', text)  # Replace years\n",
    "    text = re.sub(r'(?i)\\b[A-Z][a-z]+ v\\.? [A-Z][a-z]+\\b', '[CASE_NAME]', text)  # Case names\n",
    "    text = re.sub(r'\\b\\d+\\.\\d+\\b', '[DECIMAL]', text)  # Decimal numbers\n",
    "    text = re.sub(r'\\bSection \\d+\\b', '[SECTION]', text)  # Legal sections\n",
    "    text = re.sub(r'\\bArticle \\d+\\b', '[ARTICLE]', text)  # Articles\n",
    "    \n",
    "    # Remove excessive whitespace and normalize\n",
    "    text = ' '.join(text.split())\n",
    "    return text\n",
    "\n",
    "# ================= DATASET CLASS =================\n",
    "class EnhancedLegalDataset(Dataset):\n",
    "    def __init__(self, reviews, targets, tokenizer, max_len):\n",
    "        self.reviews = reviews\n",
    "        self.targets = targets\n",
    "        self.tokenizer = tokenizer\n",
    "        self.max_len = max_len\n",
    "\n",
    "    def __len__(self):\n",
    "        return len(self.reviews)\n",
    "\n",
    "    def __getitem__(self, item):\n",
    "        review = str(self.reviews[item])\n",
    "        target = self.targets[item]\n",
    "\n",
    "        encoding = self.tokenizer.encode_plus(\n",
    "            review,\n",
    "            add_special_tokens=True,\n",
    "            max_length=self.max_len,\n",
    "            return_token_type_ids=False,  # Important: Set to False\n",
    "            padding='max_length',\n",
    "            return_attention_mask=True,\n",
    "            return_tensors='pt',\n",
    "            truncation=True\n",
    "        )\n",
    "\n",
    "        return {\n",
    "            'review_text': review,\n",
    "            'input_ids': encoding['input_ids'].flatten(),\n",
    "            'attention_mask': encoding['attention_mask'].flatten(),\n",
    "            'targets': torch.tensor(target, dtype=torch.long)\n",
    "        }\n",
    "\n",
    "def create_data_loader(df, tokenizer, max_len, batch_size):\n",
    "    ds = EnhancedLegalDataset(\n",
    "        reviews=df.text.to_numpy(),\n",
    "        targets=df.label.to_numpy(),\n",
    "        tokenizer=tokenizer,\n",
    "        max_len=max_len\n",
    "    )\n",
    "    return DataLoader(ds, batch_size=batch_size, num_workers=0, shuffle=True)\n",
    "\n",
    "# ================= ENHANCED MODEL ARCHITECTURE =================\n",
    "class FocalLoss(nn.Module):\n",
    "    \"\"\"Focal Loss for addressing class imbalance\"\"\"\n",
    "    def __init__(self, alpha=0.25, gamma=2.0):\n",
    "        super().__init__()\n",
    "        self.alpha = alpha\n",
    "        self.gamma = gamma\n",
    "        \n",
    "    def forward(self, inputs, targets):\n",
    "        ce_loss = F.cross_entropy(inputs, targets, reduction='none')\n",
    "        pt = torch.exp(-ce_loss)\n",
    "        focal_loss = self.alpha * (1-pt)**self.gamma * ce_loss\n",
    "        return focal_loss.mean()\n",
    "\n",
    "class EnhancedLegalClassifier(nn.Module):\n",
    "    def __init__(self, n_classes=2, hidden_size=768, dropout_rate=0.3, num_layers=2):\n",
    "        super(EnhancedLegalClassifier, self).__init__()\n",
    "        \n",
    "        # Load legal BERT model\n",
    "        self.bert = AutoModel.from_pretrained(\"law-ai/InLegalBERT\")\n",
    "        \n",
    "        # Freeze early layers (optional - improves training speed)\n",
    "        for param in self.bert.embeddings.parameters():\n",
    "            param.requires_grad = False\n",
    "        \n",
    "        # Multi-layer classifier with batch normalization\n",
    "        self.classifier_layers = nn.ModuleList()\n",
    "        current_size = self.bert.config.hidden_size\n",
    "        \n",
    "        for i in range(num_layers):\n",
    "            next_size = hidden_size // (2 ** i)\n",
    "            self.classifier_layers.extend([\n",
    "                nn.Linear(current_size, next_size),\n",
    "                nn.BatchNorm1d(next_size),\n",
    "                nn.ReLU(),\n",
    "                nn.Dropout(dropout_rate)\n",
    "            ])\n",
    "            current_size = next_size\n",
    "        \n",
    "        self.final_classifier = nn.Linear(current_size, n_classes)\n",
    "        \n",
    "        # Attention pooling mechanism\n",
    "        self.attention_pooling = nn.MultiheadAttention(\n",
    "            embed_dim=self.bert.config.hidden_size,\n",
    "            num_heads=8,\n",
    "            batch_first=True,\n",
    "            dropout=dropout_rate\n",
    "        )\n",
    "        \n",
    "        # Layer normalization\n",
    "        self.layer_norm = nn.LayerNorm(self.bert.config.hidden_size)\n",
    "        \n",
    "    def forward(self, input_ids, attention_mask, **kwargs):\n",
    "        # Handle extra kwargs (like token_type_ids) that might be passed\n",
    "        # Get BERT outputs\n",
    "        outputs = self.bert(input_ids=input_ids, attention_mask=attention_mask)\n",
    "        hidden_states = outputs.last_hidden_state\n",
    "        \n",
    "        # Apply attention pooling\n",
    "        pooled_output, attention_weights = self.attention_pooling(\n",
    "            hidden_states, hidden_states, hidden_states,\n",
    "            key_padding_mask=~attention_mask.bool()\n",
    "        )\n",
    "        \n",
    "        # Mean pooling across sequence length\n",
    "        pooled_output = pooled_output.mean(dim=1)\n",
    "        pooled_output = self.layer_norm(pooled_output)\n",
    "        \n",
    "        # Pass through classifier layers\n",
    "        x = pooled_output\n",
    "        for layer in self.classifier_layers:\n",
    "            x = layer(x)\n",
    "        \n",
    "        return self.final_classifier(x)\n",
    "\n",
    "# ================= PREDICTION FUNCTIONS =================\n",
    "def predict_single_text(model, tokenizer, text, max_len=512):\n",
    "    \"\"\"\n",
    "    Predict on a single text input\n",
    "    \"\"\"\n",
    "    model.eval()\n",
    "    \n",
    "    # Preprocess text\n",
    "    text = advanced_text_preprocessing(text)\n",
    "    \n",
    "    # Tokenize\n",
    "    encoding = tokenizer.encode_plus(\n",
    "        text,\n",
    "        add_special_tokens=True,\n",
    "        max_length=max_len,\n",
    "        return_token_type_ids=False,\n",
    "        padding='max_length',\n",
    "        return_attention_mask=True,\n",
    "        return_tensors='pt',\n",
    "        truncation=True\n",
    "    )\n",
    "    \n",
    "    input_ids = encoding['input_ids'].to(device)\n",
    "    attention_mask = encoding['attention_mask'].to(device)\n",
    "    \n",
    "    with torch.no_grad():\n",
    "        outputs = model(input_ids=input_ids, attention_mask=attention_mask)\n",
    "        probabilities = F.softmax(outputs, dim=1)\n",
    "        prediction = torch.argmax(probabilities, dim=1)\n",
    "    \n",
    "    return {\n",
    "        'prediction': prediction.cpu().item(),\n",
    "        'probabilities': probabilities.cpu().numpy()[0],\n",
    "        'confidence': float(torch.max(probabilities).cpu())\n",
    "    }\n",
    "\n",
    "def predict_batch(model, tokenizer, texts, max_len=512, batch_size=16):\n",
    "    \"\"\"\n",
    "    Predict on a batch of texts\n",
    "    \"\"\"\n",
    "    model.eval()\n",
    "    predictions = []\n",
    "    probabilities = []\n",
    "    \n",
    "    for i in range(0, len(texts), batch_size):\n",
    "        batch_texts = texts[i:i+batch_size]\n",
    "        \n",
    "        # Preprocess batch\n",
    "        batch_texts = [advanced_text_preprocessing(text) for text in batch_texts]\n",
    "        \n",
    "        # Tokenize batch\n",
    "        encoding = tokenizer(\n",
    "            batch_texts,\n",
    "            add_special_tokens=True,\n",
    "            max_length=max_len,\n",
    "            return_token_type_ids=False,\n",
    "            padding='max_length',\n",
    "            return_attention_mask=True,\n",
    "            return_tensors='pt',\n",
    "            truncation=True\n",
    "        )\n",
    "        \n",
    "        input_ids = encoding['input_ids'].to(device)\n",
    "        attention_mask = encoding['attention_mask'].to(device)\n",
    "        \n",
    "        with torch.no_grad():\n",
    "            outputs = model(input_ids=input_ids, attention_mask=attention_mask)\n",
    "            batch_probabilities = F.softmax(outputs, dim=1)\n",
    "            batch_predictions = torch.argmax(batch_probabilities, dim=1)\n",
    "        \n",
    "        predictions.extend(batch_predictions.cpu().numpy())\n",
    "        probabilities.extend(batch_probabilities.cpu().numpy())\n",
    "    \n",
    "    return predictions, probabilities\n",
    "\n",
    "# ================= TRAINING FUNCTIONS =================\n",
    "def train_epoch(model, data_loader, loss_fn, optimizer, device, scheduler, n_examples):\n",
    "    model.train()\n",
    "    losses = []\n",
    "    correct_predictions = 0\n",
    "    progress_bar = tqdm(data_loader, desc=\"Training\")\n",
    "    \n",
    "    for d in progress_bar:\n",
    "        input_ids = d[\"input_ids\"].to(device)\n",
    "        attention_mask = d[\"attention_mask\"].to(device)\n",
    "        targets = d[\"targets\"].to(device)\n",
    "\n",
    "        outputs = model(input_ids=input_ids, attention_mask=attention_mask)\n",
    "        _, preds = torch.max(outputs, dim=1)\n",
    "        loss = loss_fn(outputs, targets)\n",
    "        \n",
    "        correct_predictions += torch.sum(preds == targets)\n",
    "        losses.append(loss.item())\n",
    "\n",
    "        loss.backward()\n",
    "        nn.utils.clip_grad_norm_(model.parameters(), max_norm=1.0)\n",
    "        optimizer.step()\n",
    "        scheduler.step()\n",
    "        optimizer.zero_grad()\n",
    "        \n",
    "        progress_bar.set_postfix({'loss': loss.item()})\n",
    "\n",
    "    return correct_predictions.double() / n_examples, np.mean(losses)\n",
    "\n",
    "def eval_model(model, data_loader, loss_fn, device, n_examples):\n",
    "    model.eval()\n",
    "    losses = []\n",
    "    correct_predictions = 0\n",
    "\n",
    "    with torch.no_grad():\n",
    "        for d in tqdm(data_loader, desc=\"Evaluating\"):\n",
    "            input_ids = d[\"input_ids\"].to(device)\n",
    "            attention_mask = d[\"attention_mask\"].to(device)\n",
    "            targets = d[\"targets\"].to(device)\n",
    "\n",
    "            outputs = model(input_ids=input_ids, attention_mask=attention_mask)\n",
    "            _, preds = torch.max(outputs, dim=1)\n",
    "            loss = loss_fn(outputs, targets)\n",
    "\n",
    "            correct_predictions += torch.sum(preds == targets)\n",
    "            losses.append(loss.item())\n",
    "\n",
    "    return correct_predictions.double() / n_examples, np.mean(losses)\n",
    "\n",
    "# ================= SHAP ANALYSIS FUNCTIONS =================\n",
    "def create_predict_function(model, tokenizer):\n",
    "    \"\"\"Create prediction function for SHAP\"\"\"\n",
    "    def predict_fn(texts):\n",
    "        if isinstance(texts, np.ndarray):\n",
    "            texts = texts.tolist()\n",
    "        \n",
    "        inputs = tokenizer(\n",
    "            texts,\n",
    "            return_tensors=\"pt\",\n",
    "            padding=True,\n",
    "            truncation=True,\n",
    "            max_length=MAX_LEN,\n",
    "            return_token_type_ids=False  # Important: Set to False\n",
    "        )\n",
    "        inputs = {k: v.to(device) for k, v in inputs.items()}\n",
    "        \n",
    "        with torch.no_grad():\n",
    "            outputs = model(**inputs)\n",
    "            probs = torch.nn.functional.softmax(outputs, dim=1)\n",
    "        return probs.cpu().numpy()\n",
    "    \n",
    "    return predict_fn\n",
    "\n",
    "# ================= SHAP VULNERABILITY TESTS =================\n",
    "def test_embedding_noise_vulnerability(model, tokenizer, sentences, noise_levels=[0.05, 0.1, 0.2]):\n",
    "    \"\"\"Test SHAP stability against embedding noise\"\"\"\n",
    "    print(\"Testing embedding noise vulnerability...\")\n",
    "    \n",
    "    results = {}\n",
    "    base_predict_fn = create_predict_function(model, tokenizer)\n",
    "    \n",
    "    for noise_std in noise_levels:\n",
    "        print(f\"Testing noise level: {noise_std}\")\n",
    "        \n",
    "        def noisy_predict_fn(texts):\n",
    "            if isinstance(texts, np.ndarray):\n",
    "                texts = texts.tolist()\n",
    "            inputs = tokenizer(texts, return_tensors=\"pt\", padding=True, \n",
    "                             truncation=True, max_length=MAX_LEN, return_token_type_ids=False)\n",
    "            inputs = {k: v.to(device) for k, v in inputs.items()}\n",
    "            with torch.no_grad():\n",
    "                # Add noise to embeddings\n",
    "                embeddings = model.bert.embeddings(input_ids=inputs['input_ids'])\n",
    "                noise = torch.randn_like(embeddings) * noise_std\n",
    "                noisy_embeddings = embeddings + noise\n",
    "                \n",
    "                # Forward pass through encoder\n",
    "                encoder_outputs = model.bert.encoder(noisy_embeddings)\n",
    "                sequence_output = encoder_outputs[0]\n",
    "                \n",
    "                # Apply attention pooling\n",
    "                pooled_output, _ = model.attention_pooling(\n",
    "                    sequence_output, sequence_output, sequence_output,\n",
    "                    key_padding_mask=~inputs['attention_mask'].bool()\n",
    "                )\n",
    "                pooled_output = pooled_output.mean(dim=1)\n",
    "                pooled_output = model.layer_norm(pooled_output)\n",
    "                \n",
    "                # Pass through classifier\n",
    "                x = pooled_output\n",
    "                for layer in model.classifier_layers:\n",
    "                    x = layer(x)\n",
    "                logits = model.final_classifier(x)\n",
    "                probs = torch.nn.functional.softmax(logits, dim=1)\n",
    "            return probs.cpu().numpy()\n",
    "        \n",
    "        # Calculate SHAP values for both functions\n",
    "        base_explainer = shap.Explainer(base_predict_fn, shap.maskers.Text(tokenizer))\n",
    "        noisy_explainer = shap.Explainer(noisy_predict_fn, shap.maskers.Text(tokenizer))\n",
    "        \n",
    "        shap_differences = []\n",
    "        prediction_flips = 0\n",
    "        \n",
    "        for sentence in sentences[:10]:  # Test on first 10 sentences\n",
    "            try:\n",
    "                base_shap = base_explainer([sentence])\n",
    "                noisy_shap = noisy_explainer([sentence])\n",
    "                \n",
    "                # Check prediction flip\n",
    "                base_pred = base_predict_fn([sentence]).argmax()\n",
    "                noisy_pred = noisy_predict_fn([sentence]).argmax()\n",
    "                if base_pred != noisy_pred:\n",
    "                    prediction_flips += 1\n",
    "                \n",
    "                # Calculate SHAP difference\n",
    "                base_vals = base_shap[0].values\n",
    "                noisy_vals = noisy_shap[0].values\n",
    "                diff = np.mean(np.abs(base_vals - noisy_vals))\n",
    "                shap_differences.append(diff)\n",
    "                \n",
    "            except Exception as e:\n",
    "                print(f\"Error processing sentence: {e}\")\n",
    "                continue\n",
    "        \n",
    "        results[noise_std] = {\n",
    "            'mean_shap_diff': np.mean(shap_differences),\n",
    "            'std_shap_diff': np.std(shap_differences),\n",
    "            'prediction_flips': prediction_flips,\n",
    "            'flip_rate': prediction_flips / len(sentences[:10])\n",
    "        }\n",
    "    \n",
    "    return results\n",
    "\n",
    "def test_input_transformations(model, tokenizer, sentence):\n",
    "    \"\"\"Test SHAP stability against input transformations\"\"\"\n",
    "    print(\"Testing input transformations...\")\n",
    "    \n",
    "    transformations = {\n",
    "        'synonym_replace': lambda s: s.replace('allowed', 'permitted').replace('dismissed', 'rejected').replace('granted', 'approved'),\n",
    "        'case_change': lambda s: s.lower(),\n",
    "        'punctuation_removal': lambda s: re.sub(r'[^\\w\\s]', '', s),\n",
    "        'double_space': lambda s: re.sub(r'\\s+', '  ', s),\n",
    "        'word_shuffle_local': lambda s: ' '.join([\n",
    "            ' '.join(np.random.permutation(sentence.split()[:3])) if len(sentence.split()) >= 3 \n",
    "            else sentence for sentence in s.split('. ')\n",
    "        ])\n",
    "    }\n",
    "    \n",
    "    base_predict_fn = create_predict_function(model, tokenizer)\n",
    "    base_explainer = shap.Explainer(base_predict_fn, shap.maskers.Text(tokenizer))\n",
    "    base_shap = base_explainer([sentence])\n",
    "    \n",
    "    transformed_results = {}\n",
    "    \n",
    "    for name, transform in transformations.items():\n",
    "        try:\n",
    "            transformed_sentence = transform(sentence)\n",
    "            if transformed_sentence != sentence:  # Only test if transformation actually changed something\n",
    "                transformed_shap = base_explainer([transformed_sentence])\n",
    "                \n",
    "                # Calculate difference\n",
    "                base_vals = base_shap[0].values\n",
    "                trans_vals = transformed_shap[0].values\n",
    "                \n",
    "                # Handle different lengths by padding/truncating\n",
    "                min_len = min(len(base_vals), len(trans_vals))\n",
    "                if min_len > 0:\n",
    "                    diff = np.mean(np.abs(base_vals[:min_len] - trans_vals[:min_len]))\n",
    "                    transformed_results[name] = {\n",
    "                        'shap_diff': diff,\n",
    "                        'transformed_text': transformed_sentence[:100] + \"...\" if len(transformed_sentence) > 100 else transformed_sentence\n",
    "                    }\n",
    "        except Exception as e:\n",
    "            print(f\"Error with transformation {name}: {e}\")\n",
    "    \n",
    "    return base_shap, transformed_results\n",
    "\n",
    "# ================= MAIN EXECUTION =================\n",
    "def main():\n",
    "    print(\"Starting Enhanced Judicial Prediction Model Training and SHAP Analysis\")\n",
    "    print(\"=\" * 70)\n",
    "    \n",
    "    # Load and preprocess data\n",
    "    df = load_and_preprocess_data()\n",
    "    \n",
    "    # Apply preprocessing\n",
    "    print(\"Applying advanced text preprocessing...\")\n",
    "    df['text'] = df['text'].apply(advanced_text_preprocessing)\n",
    "    \n",
    "    # Display class distribution\n",
    "    print(f\"\\nClass distribution:\")\n",
    "    print(df['label'].value_counts())\n",
    "    \n",
    "    # Load tokenizer\n",
    "    print(\"Loading tokenizer...\")\n",
    "    tokenizer = AutoTokenizer.from_pretrained(\"law-ai/InLegalBERT\")\n",
    "    \n",
    "    # Split data\n",
    "    print(\"Splitting data...\")\n",
    "    df_train, df_temp = train_test_split(df, test_size=0.3, random_state=RANDOM_SEED, stratify=df['label'])\n",
    "    df_val, df_test = train_test_split(df_temp, test_size=0.5, random_state=RANDOM_SEED, stratify=df_temp['label'])\n",
    "    \n",
    "    print(f\"Train: {len(df_train)}, Val: {len(df_val)}, Test: {len(df_test)}\")\n",
    "    \n",
    "    # Create data loaders\n",
    "    train_loader = create_data_loader(df_train, tokenizer, MAX_LEN, BATCH_SIZE)\n",
    "    val_loader = create_data_loader(df_val, tokenizer, MAX_LEN, BATCH_SIZE)\n",
    "    test_loader = create_data_loader(df_test, tokenizer, MAX_LEN, BATCH_SIZE)\n",
    "    \n",
    "    # Train single enhanced model\n",
    "    print(\"\\nTraining Enhanced Legal Classifier...\")\n",
    "    model = EnhancedLegalClassifier(n_classes=2).to(device)\n",
    "    \n",
    "    optimizer = AdamW(model.parameters(), lr=LEARNING_RATE, weight_decay=0.01)\n",
    "    total_steps = len(train_loader) * EPOCHS\n",
    "    scheduler = get_linear_schedule_with_warmup(\n",
    "        optimizer, num_warmup_steps=0, num_training_steps=total_steps\n",
    "    )\n",
    "    loss_fn = FocalLoss(alpha=0.25, gamma=2.0).to(device)\n",
    "    \n",
    "    # Training loop\n",
    "    history = defaultdict(list)\n",
    "    best_accuracy = 0\n",
    "    \n",
    "    for epoch in range(EPOCHS):\n",
    "        print(f\"\\nEpoch {epoch + 1}/{EPOCHS}\")\n",
    "        print(\"-\" * 30)\n",
    "        \n",
    "        train_acc, train_loss = train_epoch(\n",
    "            model, train_loader, loss_fn, optimizer, device, scheduler, len(df_train)\n",
    "        )\n",
    "        \n",
    "        val_acc, val_loss = eval_model(\n",
    "            model, val_loader, loss_fn, device, len(df_val)\n",
    "        )\n",
    "        \n",
    "        print(f\"Train Loss: {train_loss:.4f}, Train Acc: {train_acc:.4f}\")\n",
    "        print(f\"Val Loss: {val_loss:.4f}, Val Acc: {val_acc:.4f}\")\n",
    "        \n",
    "        history['train_acc'].append(train_acc.cpu().item() if torch.is_tensor(train_acc) else train_acc)\n",
    "        history['train_loss'].append(train_loss)\n",
    "        history['val_acc'].append(val_acc.cpu().item() if torch.is_tensor(val_acc) else val_acc)\n",
    "        history['val_loss'].append(val_loss)\n",
    "        \n",
    "        if val_acc > best_accuracy:\n",
    "            best_accuracy = val_acc\n",
    "            # Save best model during training\n",
    "            config = {\n",
    "                'max_len': MAX_LEN,\n",
    "                'batch_size': BATCH_SIZE,\n",
    "                'epochs': EPOCHS,\n",
    "                'learning_rate': LEARNING_RATE,\n",
    "                'best_val_accuracy': float(best_accuracy),\n",
    "                'random_seed': RANDOM_SEED\n",
    "            }\n",
    "            ModelSaver.save_model(model, tokenizer, config, \"./best_model_checkpoint\")\n",
    "    \n",
    "    # Evaluate on test set\n",
    "    print(\"\\nEvaluating on test set...\")\n",
    "    test_acc, test_loss = eval_model(model, test_loader, loss_fn, device, len(df_test))\n",
    "    print(f\"Test Accuracy: {test_acc:.4f}\")\n",
    "    print(f\"Test Loss: {test_loss:.4f}\")\n",
    "    \n",
    "    # Save final model\n",
    "    final_config = {\n",
    "        'max_len': MAX_LEN,\n",
    "        'batch_size': BATCH_SIZE,\n",
    "        'epochs': EPOCHS,\n",
    "        'learning_rate': LEARNING_RATE,\n",
    "        'final_test_accuracy': float(test_acc),\n",
    "        'final_test_loss': float(test_loss),\n",
    "        'random_seed': RANDOM_SEED,\n",
    "        'training_history': history\n",
    "    }\n",
    "    ModelSaver.save_model(model, tokenizer, final_config, \"./final_model_checkpoint\")\n",
    "    \n",
    "    # Demonstrate model loading and prediction\n",
    "    print(\"\\n\" + \"=\"*50)\n",
    "    print(\"DEMONSTRATING MODEL LOADING AND PREDICTION\")\n",
    "    print(\"=\"*50)\n",
    "    \n",
    "    # Load the saved model\n",
    "    loaded_model, loaded_tokenizer, loaded_config = ModelSaver.load_model(\"./final_model_checkpoint\")\n",
    "    \n",
    "    # Test prediction on new text\n",
    "    test_text = \"The petition is dismissed due to lack of merit and insufficient evidence presented by the petitioner.\"\n",
    "    result = predict_single_text(loaded_model, loaded_tokenizer, test_text)\n",
    "    \n",
    "    print(f\"Test text: {test_text}\")\n",
    "    print(f\"Prediction: {result['prediction']} ({'Positive' if result['prediction'] == 1 else 'Negative'})\")\n",
    "    print(f\"Confidence: {result['confidence']:.4f}\")\n",
    "    print(f\"Probabilities: [Negative: {result['probabilities'][0]:.4f}, Positive: {result['probabilities'][1]:.4f}]\")\n",
    "    \n",
    "    # Plot training history\n",
    "    plt.figure(figsize=(12, 4))\n",
    "    \n",
    "    plt.subplot(1, 2, 1)\n",
    "    plt.plot(history['train_acc'], label='Train Accuracy')\n",
    "    plt.plot(history['val_acc'], label='Validation Accuracy')\n",
    "    plt.title('Model Accuracy')\n",
    "    plt.xlabel('Epoch')\n",
    "    plt.ylabel('Accuracy')\n",
    "    plt.legend()\n",
    "    plt.grid(True)\n",
    "    \n",
    "    plt.subplot(1, 2, 2)\n",
    "    plt.plot(history['train_loss'], label='Train Loss')\n",
    "    plt.plot(history['val_loss'], label='Validation Loss')\n",
    "    plt.title('Model Loss')\n",
    "    plt.xlabel('Epoch')\n",
    "    plt.ylabel('Loss')\n",
    "    plt.legend()\n",
    "    plt.grid(True)\n",
    "    \n",
    "    plt.tight_layout()\n",
    "    plt.savefig('training_history.png', dpi=300, bbox_inches='tight')\n",
    "    plt.show()\n",
    "    \n",
    "    # SHAP Analysis and Vulnerability Testing\n",
    "    print(\"\\n\" + \"=\"*70)\n",
    "    print(\"STARTING SHAP VULNERABILITY ANALYSIS\")\n",
    "    print(\"=\"*70)\n",
    "    \n",
    "    # Select test sentences for SHAP analysis\n",
    "    test_sentences = df_test['text'].iloc[:20].tolist()\n",
    "    sample_sentence = test_sentences[0]\n",
    "    \n",
    "    print(f\"Sample sentence for analysis: {sample_sentence[:200]}...\")\n",
    "    \n",
    "    # Test 1: Embedding Noise Vulnerability\n",
    "    print(\"\\n1. Testing Embedding Noise Vulnerability\")\n",
    "    print(\"-\" * 40)\n",
    "    noise_results = test_embedding_noise_vulnerability(loaded_model, loaded_tokenizer, test_sentences)\n",
    "    \n",
    "    for noise_level, results in noise_results.items():\n",
    "        print(f\"Noise Level {noise_level}:\")\n",
    "        print(f\"  Mean SHAP Difference: {results['mean_shap_diff']:.4f} ± {results['std_shap_diff']:.4f}\")\n",
    "        print(f\"  Prediction Flip Rate: {results['flip_rate']:.2%}\")\n",
    "        print()\n",
    "    \n",
    "    # Test 2: Input Transformations\n",
    "    print(\"2. Testing Input Transformations\")\n",
    "    print(\"-\" * 40)\n",
    "    base_shap, transform_results = test_input_transformations(loaded_model, loaded_tokenizer, sample_sentence)\n",
    "    \n",
    "    for transform_name, results in transform_results.items():\n",
    "        print(f\"{transform_name}: SHAP Diff = {results['shap_diff']:.4f}\")\n",
    "        print(f\"  Transformed: {results['transformed_text']}\")\n",
    "        print()\n",
    "    \n",
    "    # Summary and Recommendations\n",
    "    print(\"\\n\" + \"=\"*70)\n",
    "    print(\"SUMMARY AND RECOMMENDATIONS\")\n",
    "    print(\"=\"*70)\n",
    "    \n",
    "    print(f\"Model Performance:\")\n",
    "    print(f\"  Final Test Accuracy: {test_acc:.2%}\")\n",
    "    print(f\"  Improvement from baseline (60%): {test_acc - 0.6:.2%}\")\n",
    "    \n",
    "    print(f\"\\nSHAP Vulnerability Analysis:\")\n",
    "    print(f\"  Embedding noise causes significant prediction flips\")\n",
    "    print(f\"  SHAP explanations show varying stability across perturbations\")\n",
    "    print(f\"  Input transformations reveal explanation inconsistencies\")\n",
    "    \n",
    "    print(f\"\\nModel Saving/Loading:\")\n",
    "    print(f\"  Best model saved to: ./best_model_checkpoint\")\n",
    "    print(f\"  Final model saved to: ./final_model_checkpoint\")\n",
    "    print(f\"  Model successfully loaded and tested for prediction\")\n",
    "\n",
    "# ================= USAGE EXAMPLE =================\n",
    "def example_usage():\n",
    "    \"\"\"\n",
    "    Example of how to use the saved model for inference\n",
    "    \"\"\"\n",
    "    print(\"\\n\" + \"=\"*50)\n",
    "    print(\"EXAMPLE USAGE FOR INFERENCE\")\n",
    "    print(\"=\"*50)\n",
    "    \n",
    "    try:\n",
    "        # Load the trained model\n",
    "        model, tokenizer, config = ModelSaver.load_model(\"./final_model_checkpoint\")\n",
    "        \n",
    "        # Example legal texts for prediction\n",
    "        legal_texts = [\n",
    "            \"The court finds that the petitioner has presented sufficient evidence to support their claim. The petition is hereby granted.\",\n",
    "            \"After reviewing all evidence and arguments, this court concludes that the petition lacks merit and is therefore dismissed.\",\n",
    "            \"The application for relief is accepted based on the compelling evidence presented by the applicant.\",\n",
    "            \"The motion is denied as the movant failed to establish grounds for the requested relief.\",\n",
    "            \"Upon careful consideration of all facts and applicable law, the court grants the requested injunction.\"\n",
    "        ]\n",
    "        \n",
    "        print(\"Predicting on multiple legal texts:\")\n",
    "        print(\"-\" * 40)\n",
    "        \n",
    "        # Single predictions\n",
    "        for i, text in enumerate(legal_texts, 1):\n",
    "            result = predict_single_text(model, tokenizer, text)\n",
    "            outcome = \"POSITIVE (Granted/Allowed)\" if result['prediction'] == 1 else \"NEGATIVE (Dismissed/Denied)\"\n",
    "            \n",
    "            print(f\"Text {i}: {text[:80]}...\")\n",
    "            print(f\"  Prediction: {outcome}\")\n",
    "            print(f\"  Confidence: {result['confidence']:.3f}\")\n",
    "            print()\n",
    "        \n",
    "        # Batch prediction\n",
    "        print(\"Batch prediction:\")\n",
    "        print(\"-\" * 20)\n",
    "        predictions, probabilities = predict_batch(model, tokenizer, legal_texts)\n",
    "        \n",
    "        for i, (pred, prob) in enumerate(zip(predictions, probabilities)):\n",
    "            outcome = \"POSITIVE\" if pred == 1 else \"NEGATIVE\"\n",
    "            confidence = max(prob)\n",
    "            print(f\"Text {i+1}: {outcome} (confidence: {confidence:.3f})\")\n",
    "    \n",
    "    except FileNotFoundError:\n",
    "        print(\"No saved model found. Please train the model first.\")\n",
    "    except Exception as e:\n",
    "        print(f\"Error during inference: {e}\")\n",
    "\n",
    "if __name__ == \"__main__\":\n",
    "    main()\n",
    "    example_usage()\n",
    "    \n",
    "    \"\"\"\n",
    "    Using device: cuda\n",
    "Starting Enhanced Judicial Prediction Model Training and SHAP Analysis\n",
    "======================================================================\n",
    "Loading dataset...\n",
    "Dataset loaded successfully. Shape: (24128, 4)\n",
    "Applying advanced text preprocessing...\n",
    "\n",
    "Class distribution:\n",
    "label\n",
    "0    14085\n",
    "1    10043\n",
    "Name: count, dtype: int64\n",
    "Loading tokenizer...\n",
    "Splitting data...\n",
    "Train: 16889, Val: 3619, Test: 3620\n",
    "\n",
    "Training Enhanced Legal Classifier...\n",
    "\n",
    "Epoch 1/10\n",
    "------------------------------\n",
    "Training: 100%|██████████| 1056/1056 [05:55<00:00,  2.97it/s, loss=0.0383]\n",
    "Evaluating: 100%|██████████| 227/227 [00:35<00:00,  6.41it/s]\n",
    "Train Loss: 0.0533, Train Acc: 0.5500\n",
    "Val Loss: 0.0438, Val Acc: 0.5662\n",
    "Model saved to ./best_model_checkpoint\n",
    "\n",
    "Epoch 2/10\n",
    "------------------------------\n",
    "Training: 100%|██████████| 1056/1056 [05:51<00:00,  3.00it/s, loss=0.0416]\n",
    "Evaluating: 100%|██████████| 227/227 [00:34<00:00,  6.60it/s]\n",
    "Train Loss: 0.0492, Train Acc: 0.5704\n",
    "Val Loss: 0.0435, Val Acc: 0.5902\n",
    "Model saved to ./best_model_checkpoint\n",
    "\n",
    "Epoch 3/10\n",
    "------------------------------\n",
    "Training: 100%|██████████| 1056/1056 [05:49<00:00,  3.02it/s, loss=0.0281]\n",
    "Evaluating: 100%|██████████| 227/227 [00:35<00:00,  6.48it/s]\n",
    "Train Loss: 0.0468, Train Acc: 0.5829\n",
    "Val Loss: 0.0425, Val Acc: 0.6029\n",
    "Model saved to ./best_model_checkpoint\n",
    "\n",
    "Epoch 4/10\n",
    "------------------------------\n",
    "Training: 100%|██████████| 1056/1056 [05:52<00:00,  3.00it/s, loss=0.0521]\n",
    "Evaluating: 100%|██████████| 227/227 [00:34<00:00,  6.61it/s]\n",
    "Train Loss: 0.0451, Train Acc: 0.5970\n",
    "Val Loss: 0.0428, Val Acc: 0.6129\n",
    "Model saved to ./best_model_checkpoint\n",
    "\n",
    "Epoch 5/10\n",
    "------------------------------\n",
    "Training: 100%|██████████| 1056/1056 [05:52<00:00,  2.99it/s, loss=0.0766]\n",
    "Evaluating: 100%|██████████| 227/227 [00:35<00:00,  6.46it/s]\n",
    "Train Loss: 0.0426, Train Acc: 0.6325\n",
    "Val Loss: 0.0435, Val Acc: 0.6308\n",
    "Model saved to ./best_model_checkpoint\n",
    "\n",
    "Epoch 6/10\n",
    "------------------------------\n",
    "Training: 100%|██████████| 1056/1056 [05:52<00:00,  3.00it/s, loss=0.0219]\n",
    "Evaluating: 100%|██████████| 227/227 [00:35<00:00,  6.42it/s]\n",
    "Train Loss: 0.0394, Train Acc: 0.6714\n",
    "Val Loss: 0.0448, Val Acc: 0.6303\n",
    "\n",
    "Epoch 7/10\n",
    "------------------------------\n",
    "Training: 100%|██████████| 1056/1056 [05:51<00:00,  3.00it/s, loss=0.0309]\n",
    "Evaluating: 100%|██████████| 227/227 [00:35<00:00,  6.44it/s]\n",
    "Train Loss: 0.0358, Train Acc: 0.7182\n",
    "Val Loss: 0.0489, Val Acc: 0.6328\n",
    "Model saved to ./best_model_checkpoint\n",
    "\n",
    "Epoch 8/10\n",
    "------------------------------\n",
    "Training: 100%|██████████| 1056/1056 [05:53<00:00,  2.99it/s, loss=0.0268]\n",
    "Evaluating: 100%|██████████| 227/227 [00:35<00:00,  6.42it/s]\n",
    "Train Loss: 0.0309, Train Acc: 0.7698\n",
    "Val Loss: 0.0537, Val Acc: 0.6170\n",
    "\n",
    "Epoch 9/10\n",
    "------------------------------\n",
    "Training: 100%|██████████| 1056/1056 [05:52<00:00,  3.00it/s, loss=0.0134] \n",
    "Evaluating: 100%|██████████| 227/227 [00:35<00:00,  6.45it/s]\n",
    "Train Loss: 0.0263, Train Acc: 0.8154\n",
    "Val Loss: 0.0596, Val Acc: 0.6187\n",
    "\n",
    "Epoch 10/10\n",
    "------------------------------\n",
    "Training: 100%|██████████| 1056/1056 [05:53<00:00,  2.99it/s, loss=0.0313] \n",
    "Evaluating: 100%|██████████| 227/227 [00:35<00:00,  6.44it/s]\n",
    "Train Loss: 0.0225, Train Acc: 0.8469\n",
    "Val Loss: 0.0655, Val Acc: 0.6079\n",
    "\n",
    "Evaluating on test set...\n",
    "Evaluating: 100%|██████████| 227/227 [00:34<00:00,  6.51it/s]\n",
    "Test Accuracy: 0.5887\n",
    "Test Loss: 0.0650\n",
    "Model saved to ./final_model_checkpoint\n",
    "\n",
    "==================================================\n",
    "DEMONSTRATING MODEL LOADING AND PREDICTION\n",
    "==================================================\n",
    "Model loaded from ./final_model_checkpoint\n",
    "Test text: The petition is dismissed due to lack of merit and insufficient evidence presented by the petitioner.\n",
    "Prediction: 0 (Negative)\n",
    "Confidence: 0.8535\n",
    "Probabilities: [Negative: 0.8535, Positive: 0.1465]\n",
    "    \"\"\""
   ]
  },
  {
   "cell_type": "code",
   "execution_count": 3,
   "id": "482da135",
   "metadata": {},
   "outputs": [],
   "source": [
    "# ================= INPUT TRANSFORMATION FLIP RATE MEASUREMENT =================\n",
    "\n",
    "def create_comprehensive_transformations():\n",
    "    \"\"\"Create a comprehensive set of text transformations for testing\"\"\"\n",
    "    transformations = {\n",
    "        # Lexical transformations\n",
    "        'synonym_replace': lambda s: s.replace('allowed', 'permitted').replace('dismissed', 'rejected').replace('granted', 'approved').replace('denied', 'refused'),\n",
    "        'antonym_replace': lambda s: s.replace('granted', 'denied').replace('allowed', 'dismissed').replace('accepted', 'rejected'),\n",
    "        'case_upper': lambda s: s.upper(),\n",
    "        'case_lower': lambda s: s.lower(),\n",
    "        'case_title': lambda s: s.title(),\n",
    "        \n",
    "        # Punctuation transformations\n",
    "        'remove_punctuation': lambda s: re.sub(r'[^\\w\\s]', '', s),\n",
    "        'add_periods': lambda s: s.replace('.', '..'),\n",
    "        'remove_periods': lambda s: s.replace('.', ''),\n",
    "        'add_commas': lambda s: s.replace(' ', ', '),\n",
    "        \n",
    "        # Spacing transformations\n",
    "        'double_space': lambda s: re.sub(r'\\s+', '  ', s),\n",
    "        'remove_extra_spaces': lambda s: re.sub(r'\\s+', ' ', s),\n",
    "        'add_newlines': lambda s: s.replace('.', '.\\n'),\n",
    "        \n",
    "        # Word order transformations\n",
    "        'reverse_words': lambda s: ' '.join(s.split()[::-1]),\n",
    "        'shuffle_words': lambda s: ' '.join(np.random.permutation(s.split())),\n",
    "        'reverse_sentences': lambda s: '. '.join(s.split('. ')[::-1]),\n",
    "        \n",
    "        # Character-level transformations\n",
    "        'add_typos': lambda s: introduce_typos(s, error_rate=0.05),\n",
    "        'duplicate_chars': lambda s: re.sub(r'([aeiou])', r'\\1\\1', s),\n",
    "        'remove_vowels': lambda s: re.sub(r'[aeiouAEIOU]', '', s),\n",
    "        \n",
    "        # Legal-specific transformations\n",
    "        'replace_legal_terms': lambda s: s.replace('petition', 'application').replace('court', 'tribunal').replace('judge', 'magistrate'),\n",
    "        'formal_to_informal': lambda s: s.replace('hereby', 'now').replace('whereas', 'since').replace('pursuant to', 'according to'),\n",
    "        'add_legal_jargon': lambda s: s + ' in accordance with applicable law and precedent',\n",
    "        \n",
    "        # Semantic preserving transformations\n",
    "        'paraphrase_simple': lambda s: simple_paraphrase(s),\n",
    "        'add_redundancy': lambda s: s + '. This decision is final and conclusive.',\n",
    "        'remove_adjectives': lambda s: remove_adjectives(s),\n",
    "    }\n",
    "    return transformations\n",
    "\n",
    "def introduce_typos(text, error_rate=0.05):\n",
    "    \"\"\"Introduce random typos in text\"\"\"\n",
    "    words = text.split()\n",
    "    for i in range(len(words)):\n",
    "        if np.random.random() < error_rate and len(words[i]) > 2:\n",
    "            # Random character substitution\n",
    "            pos = np.random.randint(1, len(words[i])-1)\n",
    "            chars = list(words[i])\n",
    "            chars[pos] = np.random.choice('abcdefghijklmnopqrstuvwxyz')\n",
    "            words[i] = ''.join(chars)\n",
    "    return ' '.join(words)\n",
    "\n",
    "def simple_paraphrase(text):\n",
    "    \"\"\"Simple paraphrasing by replacing common words\"\"\"\n",
    "    replacements = {\n",
    "        'the court': 'this tribunal',\n",
    "        'is dismissed': 'shall be dismissed',\n",
    "        'is granted': 'shall be granted',\n",
    "        'petitioner': 'applicant',\n",
    "        'respondent': 'defendant'\n",
    "    }\n",
    "    for old, new in replacements.items():\n",
    "        text = text.replace(old, new)\n",
    "    return text\n",
    "\n",
    "def remove_adjectives(text):\n",
    "    \"\"\"Remove common adjectives\"\"\"\n",
    "    adjectives = ['good', 'bad', 'great', 'excellent', 'poor', 'strong', 'weak', 'clear', 'unclear']\n",
    "    for adj in adjectives:\n",
    "        text = re.sub(rf'\\b{adj}\\b', '', text, flags=re.IGNORECASE)\n",
    "    return re.sub(r'\\s+', ' ', text).strip()\n",
    "\n",
    "def measure_transformation_flip_rates(model, tokenizer, test_sentences, transformations=None, batch_size=8):\n",
    "    \"\"\"\n",
    "    Measure prediction flip rates for various input transformations\n",
    "    \n",
    "    Args:\n",
    "        model: Trained model\n",
    "        tokenizer: Model tokenizer\n",
    "        test_sentences: List of test sentences\n",
    "        transformations: Dict of transformation functions (optional)\n",
    "        batch_size: Batch size for processing\n",
    "    \n",
    "    Returns:\n",
    "        Dictionary with flip rate statistics for each transformation\n",
    "    \"\"\"\n",
    "    if transformations is None:\n",
    "        transformations = create_comprehensive_transformations()\n",
    "    \n",
    "    print(f\"Measuring transformation flip rates on {len(test_sentences)} sentences...\")\n",
    "    print(f\"Testing {len(transformations)} different transformations...\")\n",
    "    \n",
    "    # Get baseline predictions\n",
    "    print(\"Getting baseline predictions...\")\n",
    "    baseline_predictions, baseline_probs = predict_batch(model, tokenizer, test_sentences, batch_size=batch_size)\n",
    "    \n",
    "    results = {}\n",
    "    \n",
    "    for transform_name, transform_func in transformations.items():\n",
    "        print(f\"\\nTesting transformation: {transform_name}\")\n",
    "        \n",
    "        try:\n",
    "            # Apply transformation\n",
    "            transformed_sentences = []\n",
    "            valid_indices = []\n",
    "            \n",
    "            for i, sentence in enumerate(test_sentences):\n",
    "                try:\n",
    "                    transformed = transform_func(sentence)\n",
    "                    if transformed and transformed != sentence:  # Only keep valid transformations\n",
    "                        transformed_sentences.append(transformed)\n",
    "                        valid_indices.append(i)\n",
    "                except:\n",
    "                    continue\n",
    "            \n",
    "            if not transformed_sentences:\n",
    "                print(f\"  Skipping {transform_name}: No valid transformations\")\n",
    "                continue\n",
    "            \n",
    "            # Get predictions for transformed sentences\n",
    "            transformed_predictions, transformed_probs = predict_batch(\n",
    "                model, tokenizer, transformed_sentences, batch_size=batch_size\n",
    "            )\n",
    "            \n",
    "            # Calculate flip rates\n",
    "            flips = 0\n",
    "            confidence_changes = []\n",
    "            prob_changes = []\n",
    "            \n",
    "            for j, idx in enumerate(valid_indices):\n",
    "                original_pred = baseline_predictions[idx]\n",
    "                transformed_pred = transformed_predictions[j]\n",
    "                \n",
    "                original_conf = max(baseline_probs[idx])\n",
    "                transformed_conf = max(transformed_probs[j])\n",
    "                \n",
    "                if original_pred != transformed_pred:\n",
    "                    flips += 1\n",
    "                \n",
    "                confidence_changes.append(abs(original_conf - transformed_conf))\n",
    "                prob_changes.append(np.linalg.norm(np.array(baseline_probs[idx]) - np.array(transformed_probs[j])))\n",
    "            \n",
    "            flip_rate = flips / len(valid_indices) if valid_indices else 0\n",
    "            mean_conf_change = np.mean(confidence_changes) if confidence_changes else 0\n",
    "            mean_prob_change = np.mean(prob_changes) if prob_changes else 0\n",
    "            \n",
    "            results[transform_name] = {\n",
    "                'flip_rate': flip_rate,\n",
    "                'num_flips': flips,\n",
    "                'total_samples': len(valid_indices),\n",
    "                'mean_confidence_change': mean_conf_change,\n",
    "                'mean_probability_change': mean_prob_change,\n",
    "                'examples': []\n",
    "            }\n",
    "            \n",
    "            # Store examples of flips\n",
    "            flip_examples = []\n",
    "            for j, idx in enumerate(valid_indices[:5]):  # First 5 examples\n",
    "                if baseline_predictions[idx] != transformed_predictions[j]:\n",
    "                    flip_examples.append({\n",
    "                        'original': test_sentences[idx][:100] + \"...\",\n",
    "                        'transformed': transformed_sentences[j][:100] + \"...\",\n",
    "                        'original_pred': int(baseline_predictions[idx]),\n",
    "                        'transformed_pred': int(transformed_predictions[j]),\n",
    "                        'original_conf': float(max(baseline_probs[idx])),\n",
    "                        'transformed_conf': float(max(transformed_probs[j]))\n",
    "                    })\n",
    "            \n",
    "            results[transform_name]['examples'] = flip_examples\n",
    "            \n",
    "            print(f\"  Flip rate: {flip_rate:.2%} ({flips}/{len(valid_indices)})\")\n",
    "            print(f\"  Mean confidence change: {mean_conf_change:.3f}\")\n",
    "            \n",
    "        except Exception as e:\n",
    "            print(f\"  Error with transformation {transform_name}: {e}\")\n",
    "            continue\n",
    "    \n",
    "    return results\n",
    "\n",
    "def analyze_flip_rate_results(results):\n",
    "    \"\"\"Analyze and visualize flip rate results\"\"\"\n",
    "    if not results:\n",
    "        print(\"No results to analyze\")\n",
    "        return\n",
    "    \n",
    "    # Sort transformations by flip rate\n",
    "    sorted_results = sorted(results.items(), key=lambda x: x[1]['flip_rate'], reverse=True)\n",
    "    \n",
    "    print(\"\\n\" + \"=\"*80)\n",
    "    print(\"TRANSFORMATION FLIP RATE ANALYSIS\")\n",
    "    print(\"=\"*80)\n",
    "    \n",
    "    print(f\"\\nRanking by flip rate (highest to lowest):\")\n",
    "    print(\"-\" * 60)\n",
    "    \n",
    "    for i, (transform_name, data) in enumerate(sorted_results, 1):\n",
    "        flip_rate = data['flip_rate']\n",
    "        num_flips = data['num_flips']\n",
    "        total = data['total_samples']\n",
    "        conf_change = data['mean_confidence_change']\n",
    "        \n",
    "        print(f\"{i:2d}. {transform_name:<25} | \"\n",
    "              f\"Flip Rate: {flip_rate:6.2%} ({num_flips:3d}/{total:3d}) | \"\n",
    "              f\"Conf Change: {conf_change:.3f}\")\n",
    "    \n",
    "    # Categorize transformations\n",
    "    print(f\"\\n\\nCategorized Analysis:\")\n",
    "    print(\"-\" * 40)\n",
    "    \n",
    "    categories = {\n",
    "        'High Risk (>20% flip rate)': [],\n",
    "        'Medium Risk (10-20% flip rate)': [],\n",
    "        'Low Risk (5-10% flip rate)': [],\n",
    "        'Minimal Risk (<5% flip rate)': []\n",
    "    }\n",
    "    \n",
    "    for transform_name, data in results.items():\n",
    "        flip_rate = data['flip_rate']\n",
    "        if flip_rate > 0.20:\n",
    "            categories['High Risk (>20% flip rate)'].append((transform_name, flip_rate))\n",
    "        elif flip_rate > 0.10:\n",
    "            categories['Medium Risk (10-20% flip rate)'].append((transform_name, flip_rate))\n",
    "        elif flip_rate > 0.05:\n",
    "            categories['Low Risk (5-10% flip rate)'].append((transform_name, flip_rate))\n",
    "        else:\n",
    "            categories['Minimal Risk (<5% flip rate)'].append((transform_name, flip_rate))\n",
    "    \n",
    "    for category, transforms in categories.items():\n",
    "        if transforms:\n",
    "            print(f\"\\n{category}:\")\n",
    "            for name, rate in transforms:\n",
    "                print(f\"  • {name}: {rate:.2%}\")\n",
    "    \n",
    "    # Show examples of high-impact transformations\n",
    "    print(f\"\\n\\nExamples of High-Impact Transformations:\")\n",
    "    print(\"-\" * 50)\n",
    "    \n",
    "    for transform_name, data in sorted_results[:3]:  # Top 3 most impactful\n",
    "        if data['examples']:\n",
    "            print(f\"\\n{transform_name.upper()} (Flip Rate: {data['flip_rate']:.2%}):\")\n",
    "            for example in data['examples'][:2]:  # Show 2 examples\n",
    "                print(f\"  Original: {example['original']}\")\n",
    "                print(f\"  Transformed: {example['transformed']}\")\n",
    "                print(f\"  Prediction change: {example['original_pred']} -> {example['transformed_pred']} \"\n",
    "                      f\"(confidence: {example['original_conf']:.3f} -> {example['transformed_conf']:.3f})\")\n",
    "                print()\n",
    "    \n",
    "    # Statistical summary\n",
    "    flip_rates = [data['flip_rate'] for data in results.values()]\n",
    "    conf_changes = [data['mean_confidence_change'] for data in results.values()]\n",
    "    \n",
    "    print(f\"\\n\\nStatistical Summary:\")\n",
    "    print(\"-\" * 30)\n",
    "    print(f\"Mean flip rate across all transformations: {np.mean(flip_rates):.2%}\")\n",
    "    print(f\"Standard deviation of flip rates: {np.std(flip_rates):.2%}\")\n",
    "    print(f\"Maximum flip rate: {np.max(flip_rates):.2%}\")\n",
    "    print(f\"Minimum flip rate: {np.min(flip_rates):.2%}\")\n",
    "    print(f\"Mean confidence change: {np.mean(conf_changes):.3f}\")\n",
    "    \n",
    "    return sorted_results\n",
    "\n",
    "def plot_flip_rate_analysis(results):\n",
    "    \"\"\"Create visualizations of flip rate analysis\"\"\"\n",
    "    if not results:\n",
    "        return\n",
    "    \n",
    "    fig, axes = plt.subplots(2, 2, figsize=(15, 12))\n",
    "    \n",
    "    # 1. Bar plot of flip rates\n",
    "    transform_names = list(results.keys())\n",
    "    flip_rates = [results[name]['flip_rate'] for name in transform_names]\n",
    "    \n",
    "    axes[0, 0].barh(transform_names, flip_rates)\n",
    "    axes[0, 0].set_xlabel('Flip Rate')\n",
    "    axes[0, 0].set_title('Prediction Flip Rates by Transformation')\n",
    "    axes[0, 0].grid(True, alpha=0.3)\n",
    "    \n",
    "    # 2. Scatter plot: flip rate vs confidence change\n",
    "    conf_changes = [results[name]['mean_confidence_change'] for name in transform_names]\n",
    "    \n",
    "    axes[0, 1].scatter(flip_rates, conf_changes, alpha=0.7)\n",
    "    axes[0, 1].set_xlabel('Flip Rate')\n",
    "    axes[0, 1].set_ylabel('Mean Confidence Change')\n",
    "    axes[0, 1].set_title('Flip Rate vs Confidence Change')\n",
    "    axes[0, 1].grid(True, alpha=0.3)\n",
    "    \n",
    "    # Add labels for outliers\n",
    "    for i, name in enumerate(transform_names):\n",
    "        if flip_rates[i] > 0.15 or conf_changes[i] > 0.1:\n",
    "            axes[0, 1].annotate(name[:10], (flip_rates[i], conf_changes[i]), \n",
    "                              fontsize=8, alpha=0.7)\n",
    "    \n",
    "    # 3. Histogram of flip rates\n",
    "    axes[1, 0].hist(flip_rates, bins=10, alpha=0.7, edgecolor='black')\n",
    "    axes[1, 0].set_xlabel('Flip Rate')\n",
    "    axes[1, 0].set_ylabel('Number of Transformations')\n",
    "    axes[1, 0].set_title('Distribution of Flip Rates')\n",
    "    axes[1, 0].grid(True, alpha=0.3)\n",
    "    \n",
    "    # 4. Top 10 transformations\n",
    "    sorted_items = sorted(results.items(), key=lambda x: x[1]['flip_rate'], reverse=True)[:10]\n",
    "    top_names = [item[0] for item in sorted_items]\n",
    "    top_rates = [item[1]['flip_rate'] for item in sorted_items]\n",
    "    \n",
    "    axes[1, 1].bar(range(len(top_names)), top_rates)\n",
    "    axes[1, 1].set_xticks(range(len(top_names)))\n",
    "    axes[1, 1].set_xticklabels(top_names, rotation=45, ha='right')\n",
    "    axes[1, 1].set_ylabel('Flip Rate')\n",
    "    axes[1, 1].set_title('Top 10 Transformations by Flip Rate')\n",
    "    axes[1, 1].grid(True, alpha=0.3)\n",
    "    \n",
    "    plt.tight_layout()\n",
    "    plt.savefig('transformation_flip_rates.png', dpi=300, bbox_inches='tight')\n",
    "    plt.show()\n",
    "\n",
    "# ================= EXAMPLE USAGE FOR FLIP RATE MEASUREMENT =================\n",
    "def run_flip_rate_analysis(model, tokenizer, test_sentences, num_samples=100):\n",
    "    \"\"\"\n",
    "    Run a comprehensive flip rate analysis\n",
    "    \n",
    "    Args:\n",
    "        model: Trained model\n",
    "        tokenizer: Model tokenizer  \n",
    "        test_sentences: List of test sentences\n",
    "        num_samples: Number of sentences to analyze\n",
    "    \"\"\"\n",
    "    print(\"Starting Comprehensive Input Transformation Flip Rate Analysis\")\n",
    "    print(\"=\" * 70)\n",
    "    \n",
    "    # Limit to specified number of samples\n",
    "    sample_sentences = test_sentences[:num_samples]\n",
    "    print(f\"Analyzing {len(sample_sentences)} sentences...\")\n",
    "    \n",
    "    # Create transformations\n",
    "    transformations = create_comprehensive_transformations()\n",
    "    \n",
    "    # Measure flip rates\n",
    "    results = measure_transformation_flip_rates(\n",
    "        model, tokenizer, sample_sentences, transformations\n",
    "    )\n",
    "    \n",
    "    # Analyze results\n",
    "    sorted_results = analyze_flip_rate_results(results)\n",
    "    \n",
    "    # Create visualizations\n",
    "    plot_flip_rate_analysis(results)\n",
    "    \n",
    "    return results, sorted_results"
   ]
  },
  {
   "cell_type": "code",
   "execution_count": 4,
   "id": "58bb124c",
   "metadata": {},
   "outputs": [],
   "source": [
    "# ================= INTEGRATION WITH MAIN ANALYSIS =================\n",
    "\n",
    "def enhanced_main_with_flip_analysis():\n",
    "    \"\"\"Enhanced main function that includes comprehensive flip rate analysis\"\"\"\n",
    "    print(\"Starting Enhanced Judicial Prediction Model with Flip Rate Analysis\")\n",
    "    print(\"=\" * 70)\n",
    "    \n",
    "    # Load and preprocess data (same as before)\n",
    "    df = load_and_preprocess_data()\n",
    "    df['text'] = df['text'].apply(advanced_text_preprocessing)\n",
    "    \n",
    "    # Display class distribution\n",
    "    print(f\"\\nClass distribution:\")\n",
    "    print(df['label'].value_counts())\n",
    "    \n",
    "    # Load tokenizer\n",
    "    print(\"Loading tokenizer...\")\n",
    "    tokenizer = AutoTokenizer.from_pretrained(\"law-ai/InLegalBERT\")\n",
    "    \n",
    "    # Split data\n",
    "    print(\"Splitting data...\")\n",
    "    df_train, df_temp = train_test_split(df, test_size=0.3, random_state=RANDOM_SEED, stratify=df['label'])\n",
    "    df_val, df_test = train_test_split(df_temp, test_size=0.5, random_state=RANDOM_SEED, stratify=df_temp['label'])\n",
    "    \n",
    "    print(f\"Train: {len(df_train)}, Val: {len(df_val)}, Test: {len(df_test)}\")\n",
    "    \n",
    "    # Check if model already exists\n",
    "    import os\n",
    "    if os.path.exists(\"./final_model_checkpoint\"):\n",
    "        print(\"Loading existing model...\")\n",
    "        model, tokenizer, config = ModelSaver.load_model(\"./final_model_checkpoint\")\n",
    "    else:\n",
    "        print(\"No existing model found. Please train a model first.\")\n",
    "        return\n",
    "    \n",
    "    # Run comprehensive flip rate analysis\n",
    "    print(\"\\n\" + \"=\"*70)\n",
    "    print(\"RUNNING COMPREHENSIVE FLIP RATE ANALYSIS\")\n",
    "    print(\"=\"*70)\n",
    "    \n",
    "    # Use test set for flip rate analysis\n",
    "    test_sentences = df_test['text'].tolist()\n",
    "    \n",
    "    # Run analysis on a subset for efficiency\n",
    "    flip_results, sorted_results = run_flip_rate_analysis(\n",
    "        model, tokenizer, test_sentences, num_samples=200\n",
    "    )\n",
    "    \n",
    "    # Save results\n",
    "    with open('flip_rate_results.json', 'w') as f:\n",
    "        import json\n",
    "        # Convert numpy types to native Python types for JSON serialization\n",
    "        json_results = {}\n",
    "        for key, value in flip_results.items():\n",
    "            json_results[key] = {\n",
    "                'flip_rate': float(value['flip_rate']),\n",
    "                'num_flips': int(value['num_flips']),\n",
    "                'total_samples': int(value['total_samples']),\n",
    "                'mean_confidence_change': float(value['mean_confidence_change']),\n",
    "                'mean_probability_change': float(value['mean_probability_change']),\n",
    "                'examples': value['examples']  # Already serializable\n",
    "            }\n",
    "        json.dump(json_results, f, indent=2)\n",
    "    \n",
    "    print(f\"\\nResults saved to 'flip_rate_results.json'\")\n",
    "    \n",
    "    return flip_results, sorted_results\n",
    "\n",
    "# ================= QUICK FLIP RATE TEST =================\n",
    "\n",
    "def quick_flip_rate_test():\n",
    "    \"\"\"Quick test of flip rate measurement on a small sample\"\"\"\n",
    "    print(\"Running Quick Flip Rate Test\")\n",
    "    print(\"=\" * 40)\n",
    "    \n",
    "    # Load existing model if available\n",
    "    try:\n",
    "        model, tokenizer, config = ModelSaver.load_model(\"./final_model_checkpoint\")\n",
    "        \n",
    "        # Create sample sentences\n",
    "        sample_sentences = [\n",
    "            \"The petition is granted due to sufficient evidence.\",\n",
    "            \"The application is dismissed for lack of merit.\",\n",
    "            \"The court finds the arguments compelling and allows the appeal.\",\n",
    "            \"After careful consideration, the motion is denied.\",\n",
    "            \"The tribunal accepts the application based on presented facts.\"\n",
    "        ]\n",
    "        \n",
    "        print(f\"Testing on {len(sample_sentences)} sample sentences...\")\n",
    "        \n",
    "        # Test a few key transformations\n",
    "        key_transformations = {\n",
    "            'synonym_replace': lambda s: s.replace('granted', 'approved').replace('dismissed', 'rejected'),\n",
    "            'case_change': lambda s: s.lower(),\n",
    "            'remove_punctuation': lambda s: re.sub(r'[^\\w\\s]', '', s),\n",
    "            'reverse_words': lambda s: ' '.join(s.split()[::-1]),\n",
    "            'add_typos': lambda s: introduce_typos(s, error_rate=0.1)\n",
    "        }\n",
    "        \n",
    "        results = measure_transformation_flip_rates(\n",
    "            model, tokenizer, sample_sentences, key_transformations\n",
    "        )\n",
    "        \n",
    "        print(\"\\nQuick Test Results:\")\n",
    "        print(\"-\" * 30)\n",
    "        for name, data in results.items():\n",
    "            print(f\"{name}: {data['flip_rate']:.1%} flip rate ({data['num_flips']}/{data['total_samples']})\")\n",
    "        \n",
    "        return results\n",
    "        \n",
    "    except FileNotFoundError:\n",
    "        print(\"No trained model found. Please train a model first.\")\n",
    "        return None"
   ]
  },
  {
   "cell_type": "code",
   "execution_count": 5,
   "id": "c1c14421",
   "metadata": {},
   "outputs": [
    {
     "name": "stdout",
     "output_type": "stream",
     "text": [
      "Running quick flip rate test...\n",
      "Running Quick Flip Rate Test\n",
      "========================================\n",
      "Model loaded from ./final_model_checkpoint\n",
      "Testing on 5 sample sentences...\n",
      "Measuring transformation flip rates on 5 sentences...\n",
      "Testing 5 different transformations...\n",
      "Getting baseline predictions...\n",
      "\n",
      "Testing transformation: synonym_replace\n",
      "  Flip rate: 0.00% (0/2)\n",
      "  Mean confidence change: 0.100\n",
      "\n",
      "Testing transformation: case_change\n",
      "  Flip rate: 0.00% (0/5)\n",
      "  Mean confidence change: 0.000\n",
      "\n",
      "Testing transformation: remove_punctuation\n",
      "  Flip rate: 20.00% (1/5)\n",
      "  Mean confidence change: 0.042\n",
      "\n",
      "Testing transformation: reverse_words\n",
      "  Flip rate: 80.00% (4/5)\n",
      "  Mean confidence change: 0.234\n",
      "\n",
      "Testing transformation: add_typos\n",
      "  Skipping add_typos: No valid transformations\n",
      "\n",
      "Quick Test Results:\n",
      "------------------------------\n",
      "synonym_replace: 0.0% flip rate (0/2)\n",
      "case_change: 0.0% flip rate (0/5)\n",
      "remove_punctuation: 20.0% flip rate (1/5)\n",
      "reverse_words: 80.0% flip rate (4/5)\n",
      "\n",
      "==================================================\n",
      "FLIP RATE MEASUREMENT SUCCESS!\n",
      "==================================================\n",
      "You can now run the full analysis using:\n",
      "flip_results, sorted_results = enhanced_main_with_flip_analysis()\n",
      "Model loaded from ./final_model_checkpoint\n",
      "Testing on 5 sample sentences...\n",
      "Measuring transformation flip rates on 5 sentences...\n",
      "Testing 5 different transformations...\n",
      "Getting baseline predictions...\n",
      "\n",
      "Testing transformation: synonym_replace\n",
      "  Flip rate: 0.00% (0/2)\n",
      "  Mean confidence change: 0.100\n",
      "\n",
      "Testing transformation: case_change\n",
      "  Flip rate: 0.00% (0/5)\n",
      "  Mean confidence change: 0.000\n",
      "\n",
      "Testing transformation: remove_punctuation\n",
      "  Flip rate: 20.00% (1/5)\n",
      "  Mean confidence change: 0.042\n",
      "\n",
      "Testing transformation: reverse_words\n",
      "  Flip rate: 80.00% (4/5)\n",
      "  Mean confidence change: 0.234\n",
      "\n",
      "Testing transformation: add_typos\n",
      "  Skipping add_typos: No valid transformations\n",
      "\n",
      "Quick Test Results:\n",
      "------------------------------\n",
      "synonym_replace: 0.0% flip rate (0/2)\n",
      "case_change: 0.0% flip rate (0/5)\n",
      "remove_punctuation: 20.0% flip rate (1/5)\n",
      "reverse_words: 80.0% flip rate (4/5)\n",
      "\n",
      "==================================================\n",
      "FLIP RATE MEASUREMENT SUCCESS!\n",
      "==================================================\n",
      "You can now run the full analysis using:\n",
      "flip_results, sorted_results = enhanced_main_with_flip_analysis()\n"
     ]
    }
   ],
   "source": [
    "# Test the flip rate measurement system\n",
    "# Run this after training your model\n",
    "\n",
    "# Quick test\n",
    "print(\"Running quick flip rate test...\")\n",
    "quick_results = quick_flip_rate_test()\n",
    "\n",
    "if quick_results:\n",
    "    print(\"\\n\" + \"=\"*50)\n",
    "    print(\"FLIP RATE MEASUREMENT SUCCESS!\")\n",
    "    print(\"=\"*50)\n",
    "    print(\"You can now run the full analysis using:\")\n",
    "    print(\"flip_results, sorted_results = enhanced_main_with_flip_analysis()\")\n",
    "else:\n",
    "    print(\"Please train a model first using the main() function\")"
   ]
  },
  {
   "cell_type": "code",
   "execution_count": 6,
   "id": "12078307",
   "metadata": {},
   "outputs": [
    {
     "name": "stdout",
     "output_type": "stream",
     "text": [
      "Starting Enhanced Judicial Prediction Model with Flip Rate Analysis\n",
      "======================================================================\n",
      "Loading dataset...\n",
      "Dataset loaded successfully. Shape: (24128, 4)\n",
      "Dataset loaded successfully. Shape: (24128, 4)\n",
      "\n",
      "Class distribution:\n",
      "label\n",
      "0    14085\n",
      "1    10043\n",
      "Name: count, dtype: int64\n",
      "Loading tokenizer...\n",
      "Splitting data...\n",
      "Train: 16889, Val: 3619, Test: 3620\n",
      "Loading existing model...\n",
      "\n",
      "Class distribution:\n",
      "label\n",
      "0    14085\n",
      "1    10043\n",
      "Name: count, dtype: int64\n",
      "Loading tokenizer...\n",
      "Splitting data...\n",
      "Train: 16889, Val: 3619, Test: 3620\n",
      "Loading existing model...\n",
      "Model loaded from ./final_model_checkpoint\n",
      "\n",
      "======================================================================\n",
      "RUNNING COMPREHENSIVE FLIP RATE ANALYSIS\n",
      "======================================================================\n",
      "Starting Comprehensive Input Transformation Flip Rate Analysis\n",
      "======================================================================\n",
      "Analyzing 200 sentences...\n",
      "Measuring transformation flip rates on 200 sentences...\n",
      "Testing 24 different transformations...\n",
      "Getting baseline predictions...\n",
      "Model loaded from ./final_model_checkpoint\n",
      "\n",
      "======================================================================\n",
      "RUNNING COMPREHENSIVE FLIP RATE ANALYSIS\n",
      "======================================================================\n",
      "Starting Comprehensive Input Transformation Flip Rate Analysis\n",
      "======================================================================\n",
      "Analyzing 200 sentences...\n",
      "Measuring transformation flip rates on 200 sentences...\n",
      "Testing 24 different transformations...\n",
      "Getting baseline predictions...\n",
      "\n",
      "Testing transformation: synonym_replace\n",
      "\n",
      "Testing transformation: synonym_replace\n",
      "  Flip rate: 5.88% (10/170)\n",
      "  Mean confidence change: 0.026\n",
      "\n",
      "Testing transformation: antonym_replace\n",
      "  Flip rate: 5.88% (10/170)\n",
      "  Mean confidence change: 0.026\n",
      "\n",
      "Testing transformation: antonym_replace\n",
      "  Flip rate: 5.39% (9/167)\n",
      "  Mean confidence change: 0.028\n",
      "\n",
      "Testing transformation: case_upper\n",
      "  Flip rate: 5.39% (9/167)\n",
      "  Mean confidence change: 0.028\n",
      "\n",
      "Testing transformation: case_upper\n",
      "  Flip rate: 0.00% (0/200)\n",
      "  Mean confidence change: 0.000\n",
      "\n",
      "Testing transformation: case_lower\n",
      "  Flip rate: 0.00% (0/200)\n",
      "  Mean confidence change: 0.000\n",
      "\n",
      "Testing transformation: case_lower\n",
      "  Flip rate: 0.00% (0/200)\n",
      "  Mean confidence change: 0.000\n",
      "\n",
      "Testing transformation: case_title\n",
      "  Flip rate: 0.00% (0/200)\n",
      "  Mean confidence change: 0.000\n",
      "\n",
      "Testing transformation: case_title\n",
      "  Flip rate: 2.50% (5/200)\n",
      "  Mean confidence change: 0.003\n",
      "\n",
      "Testing transformation: remove_punctuation\n",
      "  Flip rate: 2.50% (5/200)\n",
      "  Mean confidence change: 0.003\n",
      "\n",
      "Testing transformation: remove_punctuation\n",
      "  Flip rate: 28.00% (56/200)\n",
      "  Mean confidence change: 0.101\n",
      "\n",
      "Testing transformation: add_periods\n",
      "  Flip rate: 28.00% (56/200)\n",
      "  Mean confidence change: 0.101\n",
      "\n",
      "Testing transformation: add_periods\n",
      "  Flip rate: 23.00% (46/200)\n",
      "  Mean confidence change: 0.099\n",
      "\n",
      "Testing transformation: remove_periods\n",
      "  Flip rate: 23.00% (46/200)\n",
      "  Mean confidence change: 0.099\n",
      "\n",
      "Testing transformation: remove_periods\n",
      "  Flip rate: 20.00% (40/200)\n",
      "  Mean confidence change: 0.093\n",
      "\n",
      "Testing transformation: add_commas\n",
      "  Flip rate: 20.00% (40/200)\n",
      "  Mean confidence change: 0.093\n",
      "\n",
      "Testing transformation: add_commas\n",
      "  Flip rate: 37.00% (74/200)\n",
      "  Mean confidence change: 0.117\n",
      "\n",
      "Testing transformation: double_space\n",
      "  Flip rate: 37.00% (74/200)\n",
      "  Mean confidence change: 0.117\n",
      "\n",
      "Testing transformation: double_space\n",
      "  Flip rate: 0.00% (0/200)\n",
      "  Mean confidence change: 0.000\n",
      "\n",
      "Testing transformation: remove_extra_spaces\n",
      "  Skipping remove_extra_spaces: No valid transformations\n",
      "\n",
      "Testing transformation: add_newlines\n",
      "  Flip rate: 0.00% (0/200)\n",
      "  Mean confidence change: 0.000\n",
      "\n",
      "Testing transformation: remove_extra_spaces\n",
      "  Skipping remove_extra_spaces: No valid transformations\n",
      "\n",
      "Testing transformation: add_newlines\n",
      "  Flip rate: 0.00% (0/200)\n",
      "  Mean confidence change: 0.000\n",
      "\n",
      "Testing transformation: reverse_words\n",
      "  Flip rate: 0.00% (0/200)\n",
      "  Mean confidence change: 0.000\n",
      "\n",
      "Testing transformation: reverse_words\n",
      "  Flip rate: 46.00% (92/200)\n",
      "  Mean confidence change: 0.120\n",
      "\n",
      "Testing transformation: shuffle_words\n",
      "  Flip rate: 46.00% (92/200)\n",
      "  Mean confidence change: 0.120\n",
      "\n",
      "Testing transformation: shuffle_words\n",
      "  Flip rate: 49.50% (99/200)\n",
      "  Mean confidence change: 0.129\n",
      "\n",
      "Testing transformation: reverse_sentences\n",
      "  Flip rate: 49.50% (99/200)\n",
      "  Mean confidence change: 0.129\n",
      "\n",
      "Testing transformation: reverse_sentences\n",
      "  Flip rate: 45.00% (90/200)\n",
      "  Mean confidence change: 0.131\n",
      "\n",
      "Testing transformation: add_typos\n",
      "  Skipping add_typos: No valid transformations\n",
      "\n",
      "Testing transformation: duplicate_chars\n",
      "  Flip rate: 45.00% (90/200)\n",
      "  Mean confidence change: 0.131\n",
      "\n",
      "Testing transformation: add_typos\n",
      "  Skipping add_typos: No valid transformations\n",
      "\n",
      "Testing transformation: duplicate_chars\n",
      "  Flip rate: 47.00% (94/200)\n",
      "  Mean confidence change: 0.125\n",
      "\n",
      "Testing transformation: remove_vowels\n",
      "  Flip rate: 47.00% (94/200)\n",
      "  Mean confidence change: 0.125\n",
      "\n",
      "Testing transformation: remove_vowels\n",
      "  Flip rate: 48.00% (96/200)\n",
      "  Mean confidence change: 0.169\n",
      "\n",
      "Testing transformation: replace_legal_terms\n",
      "  Flip rate: 48.00% (96/200)\n",
      "  Mean confidence change: 0.169\n",
      "\n",
      "Testing transformation: replace_legal_terms\n",
      "  Flip rate: 5.36% (6/112)\n",
      "  Mean confidence change: 0.025\n",
      "\n",
      "Testing transformation: formal_to_informal\n",
      "  Flip rate: 5.36% (6/112)\n",
      "  Mean confidence change: 0.025\n",
      "\n",
      "Testing transformation: formal_to_informal\n",
      "  Flip rate: 1.22% (1/82)\n",
      "  Mean confidence change: 0.017\n",
      "\n",
      "Testing transformation: add_legal_jargon\n",
      "  Flip rate: 1.22% (1/82)\n",
      "  Mean confidence change: 0.017\n",
      "\n",
      "Testing transformation: add_legal_jargon\n",
      "  Flip rate: 0.50% (1/200)\n",
      "  Mean confidence change: 0.003\n",
      "\n",
      "Testing transformation: paraphrase_simple\n",
      "  Flip rate: 0.50% (1/200)\n",
      "  Mean confidence change: 0.003\n",
      "\n",
      "Testing transformation: paraphrase_simple\n",
      "  Flip rate: 7.95% (12/151)\n",
      "  Mean confidence change: 0.029\n",
      "\n",
      "Testing transformation: add_redundancy\n",
      "  Flip rate: 7.95% (12/151)\n",
      "  Mean confidence change: 0.029\n",
      "\n",
      "Testing transformation: add_redundancy\n",
      "  Flip rate: 0.00% (0/200)\n",
      "  Mean confidence change: 0.006\n",
      "\n",
      "Testing transformation: remove_adjectives\n",
      "  Flip rate: 0.00% (0/200)\n",
      "  Mean confidence change: 0.006\n",
      "\n",
      "Testing transformation: remove_adjectives\n",
      "  Flip rate: 0.00% (0/108)\n",
      "  Mean confidence change: 0.004\n",
      "\n",
      "================================================================================\n",
      "TRANSFORMATION FLIP RATE ANALYSIS\n",
      "================================================================================\n",
      "\n",
      "Ranking by flip rate (highest to lowest):\n",
      "------------------------------------------------------------\n",
      " 1. shuffle_words             | Flip Rate: 49.50% ( 99/200) | Conf Change: 0.129\n",
      " 2. remove_vowels             | Flip Rate: 48.00% ( 96/200) | Conf Change: 0.169\n",
      " 3. duplicate_chars           | Flip Rate: 47.00% ( 94/200) | Conf Change: 0.125\n",
      " 4. reverse_words             | Flip Rate: 46.00% ( 92/200) | Conf Change: 0.120\n",
      " 5. reverse_sentences         | Flip Rate: 45.00% ( 90/200) | Conf Change: 0.131\n",
      " 6. add_commas                | Flip Rate: 37.00% ( 74/200) | Conf Change: 0.117\n",
      " 7. remove_punctuation        | Flip Rate: 28.00% ( 56/200) | Conf Change: 0.101\n",
      " 8. add_periods               | Flip Rate: 23.00% ( 46/200) | Conf Change: 0.099\n",
      " 9. remove_periods            | Flip Rate: 20.00% ( 40/200) | Conf Change: 0.093\n",
      "10. paraphrase_simple         | Flip Rate:  7.95% ( 12/151) | Conf Change: 0.029\n",
      "11. synonym_replace           | Flip Rate:  5.88% ( 10/170) | Conf Change: 0.026\n",
      "12. antonym_replace           | Flip Rate:  5.39% (  9/167) | Conf Change: 0.028\n",
      "13. replace_legal_terms       | Flip Rate:  5.36% (  6/112) | Conf Change: 0.025\n",
      "14. case_title                | Flip Rate:  2.50% (  5/200) | Conf Change: 0.003\n",
      "15. formal_to_informal        | Flip Rate:  1.22% (  1/ 82) | Conf Change: 0.017\n",
      "16. add_legal_jargon          | Flip Rate:  0.50% (  1/200) | Conf Change: 0.003\n",
      "17. case_upper                | Flip Rate:  0.00% (  0/200) | Conf Change: 0.000\n",
      "18. case_lower                | Flip Rate:  0.00% (  0/200) | Conf Change: 0.000\n",
      "19. double_space              | Flip Rate:  0.00% (  0/200) | Conf Change: 0.000\n",
      "20. add_newlines              | Flip Rate:  0.00% (  0/200) | Conf Change: 0.000\n",
      "21. add_redundancy            | Flip Rate:  0.00% (  0/200) | Conf Change: 0.006\n",
      "22. remove_adjectives         | Flip Rate:  0.00% (  0/108) | Conf Change: 0.004\n",
      "\n",
      "\n",
      "Categorized Analysis:\n",
      "----------------------------------------\n",
      "\n",
      "High Risk (>20% flip rate):\n",
      "  • remove_punctuation: 28.00%\n",
      "  • add_periods: 23.00%\n",
      "  • add_commas: 37.00%\n",
      "  • reverse_words: 46.00%\n",
      "  • shuffle_words: 49.50%\n",
      "  • reverse_sentences: 45.00%\n",
      "  • duplicate_chars: 47.00%\n",
      "  • remove_vowels: 48.00%\n",
      "\n",
      "Medium Risk (10-20% flip rate):\n",
      "  • remove_periods: 20.00%\n",
      "\n",
      "Low Risk (5-10% flip rate):\n",
      "  • synonym_replace: 5.88%\n",
      "  • antonym_replace: 5.39%\n",
      "  • replace_legal_terms: 5.36%\n",
      "  • paraphrase_simple: 7.95%\n",
      "\n",
      "Minimal Risk (<5% flip rate):\n",
      "  • case_upper: 0.00%\n",
      "  • case_lower: 0.00%\n",
      "  • case_title: 2.50%\n",
      "  • double_space: 0.00%\n",
      "  • add_newlines: 0.00%\n",
      "  • formal_to_informal: 1.22%\n",
      "  • add_legal_jargon: 0.50%\n",
      "  • add_redundancy: 0.00%\n",
      "  • remove_adjectives: 0.00%\n",
      "\n",
      "\n",
      "Examples of High-Impact Transformations:\n",
      "--------------------------------------------------\n",
      "\n",
      "SHUFFLE_WORDS (Flip Rate: 49.50%):\n",
      "  Original: [YEAR] Supp 4 SCR 163 The Judgment of the Court was delivered by C. LAHOTI, J. The accused-appellant...\n",
      "  Transformed: meaningless expression were To crime shop declared evidence movie in accused the [DECIMAL].[YEAR], a...\n",
      "  Prediction change: 0 -> 1 (confidence: 0.606 -> 0.682)\n",
      "\n",
      "  Original: K. MATHUR, J. Leave granted. This appeal is directed against the order dated [DECIMAL].[YEAR] passed...\n",
      "  Transformed: MATHUR, life he went immediately number as did region the injury given escape Maharashtra sentenced ...\n",
      "  Prediction change: 0 -> 1 (confidence: 0.601 -> 0.812)\n",
      "\n",
      "\n",
      "REMOVE_VOWELS (Flip Rate: 48.00%):\n",
      "  Original: Arising out of Special Leave Petition Crl. No. 853/[YEAR] P. MATHUR, J. Delay in filing the special ...\n",
      "  Transformed: rsng t f Spcl Lv Pttn Crl. N. 853/[YR] P. MTHR, J. Dly n flng th spcl lv pttn s cmpnydnd. Lv grntd. ...\n",
      "  Prediction change: 1 -> 0 (confidence: 0.543 -> 0.859)\n",
      "\n",
      "\n",
      "DUPLICATE_CHARS (Flip Rate: 47.00%):\n",
      "  Original: Arising out of Special Leave Petition Crl. No. 853/[YEAR] P. MATHUR, J. Delay in filing the special ...\n",
      "  Transformed: Ariisiing oouut oof Speeciiaal Leeaavee Peetiitiioon Crl. Noo. 853/[YEAR] P. MATHUR, J. Deelaay iin ...\n",
      "  Prediction change: 1 -> 0 (confidence: 0.543 -> 0.547)\n",
      "\n",
      "  Original: G. Palekar, J. The appellant Moimiddin Mozumdar was companyvicted by the Assistant Sessions Judge, S...\n",
      "  Transformed: G. Paaleekaar, J. Thee aappeellaant Mooiimiiddiin Moozuumdaar waas coompaanyviicteed by thee Assiist...\n",
      "  Prediction change: 0 -> 1 (confidence: 0.575 -> 0.556)\n",
      "\n",
      "\n",
      "\n",
      "Statistical Summary:\n",
      "------------------------------\n",
      "Mean flip rate across all transformations: 16.92%\n",
      "Standard deviation of flip rates: 19.13%\n",
      "Maximum flip rate: 49.50%\n",
      "Minimum flip rate: 0.00%\n",
      "Mean confidence change: 0.056\n",
      "  Flip rate: 0.00% (0/108)\n",
      "  Mean confidence change: 0.004\n",
      "\n",
      "================================================================================\n",
      "TRANSFORMATION FLIP RATE ANALYSIS\n",
      "================================================================================\n",
      "\n",
      "Ranking by flip rate (highest to lowest):\n",
      "------------------------------------------------------------\n",
      " 1. shuffle_words             | Flip Rate: 49.50% ( 99/200) | Conf Change: 0.129\n",
      " 2. remove_vowels             | Flip Rate: 48.00% ( 96/200) | Conf Change: 0.169\n",
      " 3. duplicate_chars           | Flip Rate: 47.00% ( 94/200) | Conf Change: 0.125\n",
      " 4. reverse_words             | Flip Rate: 46.00% ( 92/200) | Conf Change: 0.120\n",
      " 5. reverse_sentences         | Flip Rate: 45.00% ( 90/200) | Conf Change: 0.131\n",
      " 6. add_commas                | Flip Rate: 37.00% ( 74/200) | Conf Change: 0.117\n",
      " 7. remove_punctuation        | Flip Rate: 28.00% ( 56/200) | Conf Change: 0.101\n",
      " 8. add_periods               | Flip Rate: 23.00% ( 46/200) | Conf Change: 0.099\n",
      " 9. remove_periods            | Flip Rate: 20.00% ( 40/200) | Conf Change: 0.093\n",
      "10. paraphrase_simple         | Flip Rate:  7.95% ( 12/151) | Conf Change: 0.029\n",
      "11. synonym_replace           | Flip Rate:  5.88% ( 10/170) | Conf Change: 0.026\n",
      "12. antonym_replace           | Flip Rate:  5.39% (  9/167) | Conf Change: 0.028\n",
      "13. replace_legal_terms       | Flip Rate:  5.36% (  6/112) | Conf Change: 0.025\n",
      "14. case_title                | Flip Rate:  2.50% (  5/200) | Conf Change: 0.003\n",
      "15. formal_to_informal        | Flip Rate:  1.22% (  1/ 82) | Conf Change: 0.017\n",
      "16. add_legal_jargon          | Flip Rate:  0.50% (  1/200) | Conf Change: 0.003\n",
      "17. case_upper                | Flip Rate:  0.00% (  0/200) | Conf Change: 0.000\n",
      "18. case_lower                | Flip Rate:  0.00% (  0/200) | Conf Change: 0.000\n",
      "19. double_space              | Flip Rate:  0.00% (  0/200) | Conf Change: 0.000\n",
      "20. add_newlines              | Flip Rate:  0.00% (  0/200) | Conf Change: 0.000\n",
      "21. add_redundancy            | Flip Rate:  0.00% (  0/200) | Conf Change: 0.006\n",
      "22. remove_adjectives         | Flip Rate:  0.00% (  0/108) | Conf Change: 0.004\n",
      "\n",
      "\n",
      "Categorized Analysis:\n",
      "----------------------------------------\n",
      "\n",
      "High Risk (>20% flip rate):\n",
      "  • remove_punctuation: 28.00%\n",
      "  • add_periods: 23.00%\n",
      "  • add_commas: 37.00%\n",
      "  • reverse_words: 46.00%\n",
      "  • shuffle_words: 49.50%\n",
      "  • reverse_sentences: 45.00%\n",
      "  • duplicate_chars: 47.00%\n",
      "  • remove_vowels: 48.00%\n",
      "\n",
      "Medium Risk (10-20% flip rate):\n",
      "  • remove_periods: 20.00%\n",
      "\n",
      "Low Risk (5-10% flip rate):\n",
      "  • synonym_replace: 5.88%\n",
      "  • antonym_replace: 5.39%\n",
      "  • replace_legal_terms: 5.36%\n",
      "  • paraphrase_simple: 7.95%\n",
      "\n",
      "Minimal Risk (<5% flip rate):\n",
      "  • case_upper: 0.00%\n",
      "  • case_lower: 0.00%\n",
      "  • case_title: 2.50%\n",
      "  • double_space: 0.00%\n",
      "  • add_newlines: 0.00%\n",
      "  • formal_to_informal: 1.22%\n",
      "  • add_legal_jargon: 0.50%\n",
      "  • add_redundancy: 0.00%\n",
      "  • remove_adjectives: 0.00%\n",
      "\n",
      "\n",
      "Examples of High-Impact Transformations:\n",
      "--------------------------------------------------\n",
      "\n",
      "SHUFFLE_WORDS (Flip Rate: 49.50%):\n",
      "  Original: [YEAR] Supp 4 SCR 163 The Judgment of the Court was delivered by C. LAHOTI, J. The accused-appellant...\n",
      "  Transformed: meaningless expression were To crime shop declared evidence movie in accused the [DECIMAL].[YEAR], a...\n",
      "  Prediction change: 0 -> 1 (confidence: 0.606 -> 0.682)\n",
      "\n",
      "  Original: K. MATHUR, J. Leave granted. This appeal is directed against the order dated [DECIMAL].[YEAR] passed...\n",
      "  Transformed: MATHUR, life he went immediately number as did region the injury given escape Maharashtra sentenced ...\n",
      "  Prediction change: 0 -> 1 (confidence: 0.601 -> 0.812)\n",
      "\n",
      "\n",
      "REMOVE_VOWELS (Flip Rate: 48.00%):\n",
      "  Original: Arising out of Special Leave Petition Crl. No. 853/[YEAR] P. MATHUR, J. Delay in filing the special ...\n",
      "  Transformed: rsng t f Spcl Lv Pttn Crl. N. 853/[YR] P. MTHR, J. Dly n flng th spcl lv pttn s cmpnydnd. Lv grntd. ...\n",
      "  Prediction change: 1 -> 0 (confidence: 0.543 -> 0.859)\n",
      "\n",
      "\n",
      "DUPLICATE_CHARS (Flip Rate: 47.00%):\n",
      "  Original: Arising out of Special Leave Petition Crl. No. 853/[YEAR] P. MATHUR, J. Delay in filing the special ...\n",
      "  Transformed: Ariisiing oouut oof Speeciiaal Leeaavee Peetiitiioon Crl. Noo. 853/[YEAR] P. MATHUR, J. Deelaay iin ...\n",
      "  Prediction change: 1 -> 0 (confidence: 0.543 -> 0.547)\n",
      "\n",
      "  Original: G. Palekar, J. The appellant Moimiddin Mozumdar was companyvicted by the Assistant Sessions Judge, S...\n",
      "  Transformed: G. Paaleekaar, J. Thee aappeellaant Mooiimiiddiin Moozuumdaar waas coompaanyviicteed by thee Assiist...\n",
      "  Prediction change: 0 -> 1 (confidence: 0.575 -> 0.556)\n",
      "\n",
      "\n",
      "\n",
      "Statistical Summary:\n",
      "------------------------------\n",
      "Mean flip rate across all transformations: 16.92%\n",
      "Standard deviation of flip rates: 19.13%\n",
      "Maximum flip rate: 49.50%\n",
      "Minimum flip rate: 0.00%\n",
      "Mean confidence change: 0.056\n"
     ]
    },
    {
     "data": {
      "image/png": "[encoded data removed]",
      "text/plain": [
       "<Figure size 1500x1200 with 4 Axes>"
      ]
     },
     "metadata": {},
     "output_type": "display_data"
    },
    {
     "name": "stdout",
     "output_type": "stream",
     "text": [
      "\n",
      "Results saved to 'flip_rate_results.json'\n"
     ]
    }
   ],
   "source": [
    "flip_results, sorted_results = enhanced_main_with_flip_analysis()\n"
   ]
  },
  {
   "cell_type": "code",
   "execution_count": null,
   "id": "d59b76da",
   "metadata": {},
   "outputs": [
    {
     "name": "stdout",
     "output_type": "stream",
     "text": [
      "Testing noise vulnerability across 15 noise levels...\n",
      "Computing baseline values...\n"
     ]
    },
    {
     "name": "stderr",
     "output_type": "stream",
     "text": [
      "  0%|          | 0/50 [00:00<?, ?it/s]Token indices sequence length is longer than the specified maximum sequence length for this model (1302 > 512). Running this sequence through the model will result in indexing errors\n"
     ]
    },
    {
     "name": "stderr",
     "output_type": "stream",
     "text": [
      "  2%|▏         | 1/50 [00:05<04:31,  5.55s/it]"
     ]
    },
    {
     "data": {
      "application/vnd.jupyter.widget-view+json": {
       "model_id": "ef87f354513143f1b112cb0afc46f39d",
       "version_major": 2,
       "version_minor": 0
      },
      "text/plain": [
       "  0%|          | 0/498 [00:00<?, ?it/s]"
      ]
     },
     "metadata": {},
     "output_type": "display_data"
    },
    {
     "name": "stderr",
     "output_type": "stream",
     "text": [
      "PartitionExplainer explainer: 2it [00:29, 29.88s/it]               \n",
      " 10%|█         | 5/50 [00:58<07:24,  9.87s/it]"
     ]
    },
    {
     "data": {
      "application/vnd.jupyter.widget-view+json": {
       "model_id": "d994e85e560545598bca3d33778a3af3",
       "version_major": 2,
       "version_minor": 0
      },
      "text/plain": [
       "  0%|          | 0/498 [00:00<?, ?it/s]"
      ]
     },
     "metadata": {},
     "output_type": "display_data"
    },
    {
     "name": "stderr",
     "output_type": "stream",
     "text": [
      "PartitionExplainer explainer: 2it [00:30, 30.10s/it]               \n",
      " 12%|█▏        | 6/50 [01:28<12:18, 16.78s/it]"
     ]
    },
    {
     "data": {
      "application/vnd.jupyter.widget-view+json": {
       "model_id": "8a1f3bafa1c04de788066d3432d9e1ed",
       "version_major": 2,
       "version_minor": 0
      },
      "text/plain": [
       "  0%|          | 0/498 [00:00<?, ?it/s]"
      ]
     },
     "metadata": {},
     "output_type": "display_data"
    },
    {
     "name": "stderr",
     "output_type": "stream",
     "text": [
      "PartitionExplainer explainer: 2it [00:25, 25.93s/it]               \n",
      " 14%|█▍        | 7/50 [01:54<14:11, 19.79s/it]"
     ]
    },
    {
     "data": {
      "application/vnd.jupyter.widget-view+json": {
       "model_id": "1357a0a5e29244cb9ab37a2f91992fb3",
       "version_major": 2,
       "version_minor": 0
      },
      "text/plain": [
       "  0%|          | 0/498 [00:00<?, ?it/s]"
      ]
     },
     "metadata": {},
     "output_type": "display_data"
    },
    {
     "name": "stderr",
     "output_type": "stream",
     "text": [
      "PartitionExplainer explainer: 2it [00:25, 25.07s/it]               \n",
      " 20%|██        | 10/50 [02:33<09:03, 13.59s/it]"
     ]
    },
    {
     "data": {
      "application/vnd.jupyter.widget-view+json": {
       "model_id": "af46be499f924400ad11531186e0fa1b",
       "version_major": 2,
       "version_minor": 0
      },
      "text/plain": [
       "  0%|          | 0/498 [00:00<?, ?it/s]"
      ]
     },
     "metadata": {},
     "output_type": "display_data"
    },
    {
     "name": "stderr",
     "output_type": "stream",
     "text": [
      "PartitionExplainer explainer: 2it [00:14, 14.64s/it]               \n",
      " 24%|██▍       | 12/50 [02:53<07:11, 11.35s/it]"
     ]
    },
    {
     "data": {
      "application/vnd.jupyter.widget-view+json": {
       "model_id": "1cace2ff1039487e8a3b01293722ae3c",
       "version_major": 2,
       "version_minor": 0
      },
      "text/plain": [
       "  0%|          | 0/498 [00:00<?, ?it/s]"
      ]
     },
     "metadata": {},
     "output_type": "display_data"
    },
    {
     "name": "stderr",
     "output_type": "stream",
     "text": [
      "PartitionExplainer explainer: 2it [00:22, 22.48s/it]               \n",
      " 30%|███       | 15/50 [03:28<06:13, 10.68s/it]"
     ]
    },
    {
     "data": {
      "application/vnd.jupyter.widget-view+json": {
       "model_id": "c35fb560edcd4faf858ca7b9ad52aace",
       "version_major": 2,
       "version_minor": 0
      },
      "text/plain": [
       "  0%|          | 0/498 [00:00<?, ?it/s]"
      ]
     },
     "metadata": {},
     "output_type": "display_data"
    },
    {
     "name": "stderr",
     "output_type": "stream",
     "text": [
      "PartitionExplainer explainer: 2it [00:45, 45.24s/it]               \n",
      "PartitionExplainer explainer: 2it [00:11, 11.55s/it]               \n",
      " 42%|████▏     | 21/50 [04:42<03:37,  7.49s/it]"
     ]
    },
    {
     "data": {
      "application/vnd.jupyter.widget-view+json": {
       "model_id": "139b963a29d047a68b1054819bff0f8b",
       "version_major": 2,
       "version_minor": 0
      },
      "text/plain": [
       "  0%|          | 0/498 [00:00<?, ?it/s]"
      ]
     },
     "metadata": {},
     "output_type": "display_data"
    },
    {
     "name": "stderr",
     "output_type": "stream",
     "text": [
      "PartitionExplainer explainer: 2it [00:38, 38.25s/it]               \n",
      " 44%|████▍     | 22/50 [05:20<07:48, 16.75s/it]"
     ]
    },
    {
     "data": {
      "application/vnd.jupyter.widget-view+json": {
       "model_id": "ea73402224af4473b17a998b7b217f2f",
       "version_major": 2,
       "version_minor": 0
      },
      "text/plain": [
       "  0%|          | 0/498 [00:00<?, ?it/s]"
      ]
     },
     "metadata": {},
     "output_type": "display_data"
    },
    {
     "name": "stderr",
     "output_type": "stream",
     "text": [
      "PartitionExplainer explainer: 2it [00:21, 21.68s/it]               \n",
      " 46%|████▌     | 23/50 [05:42<08:12, 18.25s/it]"
     ]
    },
    {
     "data": {
      "application/vnd.jupyter.widget-view+json": {
       "model_id": "c2c905bb56434ac7b621e095622a8cb6",
       "version_major": 2,
       "version_minor": 0
      },
      "text/plain": [
       "  0%|          | 0/498 [00:00<?, ?it/s]"
      ]
     },
     "metadata": {},
     "output_type": "display_data"
    },
    {
     "name": "stderr",
     "output_type": "stream",
     "text": [
      "PartitionExplainer explainer: 2it [00:12, 12.41s/it]               \n",
      "PartitionExplainer explainer: 2it [00:12, 12.41s/it]               \n",
      " 52%|█████▏    | 26/50 [06:11<05:06, 12.78s/it]"
     ]
    },
    {
     "data": {
      "application/vnd.jupyter.widget-view+json": {
       "model_id": "d965febc326c437399a686956ef41616",
       "version_major": 2,
       "version_minor": 0
      },
      "text/plain": [
       "  0%|          | 0/498 [00:00<?, ?it/s]"
      ]
     },
     "metadata": {},
     "output_type": "display_data"
    },
    {
     "name": "stderr",
     "output_type": "stream",
     "text": [
      "PartitionExplainer explainer: 2it [00:22, 22.45s/it]               \n",
      " 56%|█████▌    | 28/50 [06:36<04:14, 11.56s/it]"
     ]
    },
    {
     "data": {
      "application/vnd.jupyter.widget-view+json": {
       "model_id": "0484fc3e7c4044db9e4c82206438a60e",
       "version_major": 2,
       "version_minor": 0
      },
      "text/plain": [
       "  0%|          | 0/498 [00:00<?, ?it/s]"
      ]
     },
     "metadata": {},
     "output_type": "display_data"
    },
    {
     "name": "stderr",
     "output_type": "stream",
     "text": [
      "PartitionExplainer explainer: 2it [00:27, 27.43s/it]               \n",
      " 58%|█████▊    | 29/50 [07:03<05:43, 16.34s/it]"
     ]
    },
    {
     "data": {
      "application/vnd.jupyter.widget-view+json": {
       "model_id": "c62be6130ea6484a8c0a31a7a2592c2e",
       "version_major": 2,
       "version_minor": 0
      },
      "text/plain": [
       "  0%|          | 0/498 [00:00<?, ?it/s]"
      ]
     },
     "metadata": {},
     "output_type": "display_data"
    },
    {
     "name": "stderr",
     "output_type": "stream",
     "text": [
      "PartitionExplainer explainer: 2it [00:28, 28.20s/it]               \n",
      " 60%|██████    | 30/50 [07:32<06:38, 19.92s/it]"
     ]
    },
    {
     "data": {
      "application/vnd.jupyter.widget-view+json": {
       "model_id": "b1fe75954bc4483f9b9e48d5b1c295a1",
       "version_major": 2,
       "version_minor": 0
      },
      "text/plain": [
       "  0%|          | 0/498 [00:00<?, ?it/s]"
      ]
     },
     "metadata": {},
     "output_type": "display_data"
    },
    {
     "name": "stderr",
     "output_type": "stream",
     "text": [
      "PartitionExplainer explainer: 2it [00:19, 19.27s/it]               \n",
      " 64%|██████▍   | 32/50 [07:57<04:43, 15.73s/it]"
     ]
    },
    {
     "data": {
      "application/vnd.jupyter.widget-view+json": {
       "model_id": "4de5bef777544e37a6a82f32abfcd7e1",
       "version_major": 2,
       "version_minor": 0
      },
      "text/plain": [
       "  0%|          | 0/498 [00:00<?, ?it/s]"
      ]
     },
     "metadata": {},
     "output_type": "display_data"
    },
    {
     "name": "stderr",
     "output_type": "stream",
     "text": [
      "PartitionExplainer explainer: 2it [00:16, 16.62s/it]               \n",
      " 68%|██████▊   | 34/50 [08:16<03:06, 11.68s/it]"
     ]
    },
    {
     "data": {
      "application/vnd.jupyter.widget-view+json": {
       "model_id": "76dba82ec2c44d1c8bc5a1ad34f9c5c6",
       "version_major": 2,
       "version_minor": 0
      },
      "text/plain": [
       "  0%|          | 0/498 [00:00<?, ?it/s]"
      ]
     },
     "metadata": {},
     "output_type": "display_data"
    },
    {
     "name": "stderr",
     "output_type": "stream",
     "text": [
      "PartitionExplainer explainer: 2it [00:22, 22.10s/it]               \n",
      " 76%|███████▌  | 38/50 [08:51<01:36,  8.06s/it]"
     ]
    },
    {
     "data": {
      "application/vnd.jupyter.widget-view+json": {
       "model_id": "4f048609e0b64a02a726ca2434c6ab24",
       "version_major": 2,
       "version_minor": 0
      },
      "text/plain": [
       "  0%|          | 0/498 [00:00<?, ?it/s]"
      ]
     },
     "metadata": {},
     "output_type": "display_data"
    },
    {
     "name": "stderr",
     "output_type": "stream",
     "text": [
      "PartitionExplainer explainer: 2it [00:27, 27.05s/it]               \n",
      " 80%|████████  | 40/50 [09:24<01:53, 11.32s/it]"
     ]
    },
    {
     "data": {
      "application/vnd.jupyter.widget-view+json": {
       "model_id": "7043e5b4e0374d199e4414a0fdc6094e",
       "version_major": 2,
       "version_minor": 0
      },
      "text/plain": [
       "  0%|          | 0/498 [00:00<?, ?it/s]"
      ]
     },
     "metadata": {},
     "output_type": "display_data"
    },
    {
     "name": "stderr",
     "output_type": "stream",
     "text": [
      "PartitionExplainer explainer: 2it [00:48, 48.06s/it]               \n",
      " 82%|████████▏ | 41/50 [10:12<03:21, 22.37s/it]"
     ]
    },
    {
     "data": {
      "application/vnd.jupyter.widget-view+json": {
       "model_id": "1fb922b44caa479a9f51f6a4df574343",
       "version_major": 2,
       "version_minor": 0
      },
      "text/plain": [
       "  0%|          | 0/498 [00:00<?, ?it/s]"
      ]
     },
     "metadata": {},
     "output_type": "display_data"
    },
    {
     "name": "stderr",
     "output_type": "stream",
     "text": [
      "PartitionExplainer explainer: 2it [00:44, 44.93s/it]               \n",
      "PartitionExplainer explainer: 2it [00:10, 10.91s/it]               \n",
      " 88%|████████▊ | 44/50 [11:15<01:54, 19.06s/it]"
     ]
    },
    {
     "data": {
      "application/vnd.jupyter.widget-view+json": {
       "model_id": "057890f537084b199ff98b3f6128c0f2",
       "version_major": 2,
       "version_minor": 0
      },
      "text/plain": [
       "  0%|          | 0/498 [00:00<?, ?it/s]"
      ]
     },
     "metadata": {},
     "output_type": "display_data"
    },
    {
     "name": "stderr",
     "output_type": "stream",
     "text": [
      "PartitionExplainer explainer: 2it [00:20, 20.48s/it]               \n",
      " 90%|█████████ | 45/50 [11:35<01:37, 19.50s/it]"
     ]
    },
    {
     "data": {
      "application/vnd.jupyter.widget-view+json": {
       "model_id": "d7b3b48b809c46a697388f7caae3e32c",
       "version_major": 2,
       "version_minor": 0
      },
      "text/plain": [
       "  0%|          | 0/498 [00:00<?, ?it/s]"
      ]
     },
     "metadata": {},
     "output_type": "display_data"
    },
    {
     "name": "stderr",
     "output_type": "stream",
     "text": [
      "PartitionExplainer explainer: 2it [00:31, 31.40s/it]               \n",
      " 92%|█████████▏| 46/50 [12:07<01:32, 23.10s/it]"
     ]
    },
    {
     "data": {
      "application/vnd.jupyter.widget-view+json": {
       "model_id": "442bd17546f047aea7fd7e19970778ca",
       "version_major": 2,
       "version_minor": 0
      },
      "text/plain": [
       "  0%|          | 0/498 [00:00<?, ?it/s]"
      ]
     },
     "metadata": {},
     "output_type": "display_data"
    },
    {
     "name": "stderr",
     "output_type": "stream",
     "text": [
      "PartitionExplainer explainer: 2it [00:35, 35.83s/it]               \n",
      " 94%|█████████▍| 47/50 [12:43<01:20, 26.94s/it]"
     ]
    },
    {
     "data": {
      "application/vnd.jupyter.widget-view+json": {
       "model_id": "308d2f4c73194a8ea7f5cf6fa7e37e50",
       "version_major": 2,
       "version_minor": 0
      },
      "text/plain": [
       "  0%|          | 0/498 [00:00<?, ?it/s]"
      ]
     },
     "metadata": {},
     "output_type": "display_data"
    },
    {
     "name": "stderr",
     "output_type": "stream",
     "text": [
      "PartitionExplainer explainer: 2it [00:21, 21.74s/it]               \n",
      " 96%|█████████▌| 48/50 [13:05<00:50, 25.40s/it]"
     ]
    },
    {
     "data": {
      "application/vnd.jupyter.widget-view+json": {
       "model_id": "6639e2dfd73d425b8fb4ef43b7fb0408",
       "version_major": 2,
       "version_minor": 0
      },
      "text/plain": [
       "  0%|          | 0/498 [00:00<?, ?it/s]"
      ]
     },
     "metadata": {},
     "output_type": "display_data"
    },
    {
     "name": "stderr",
     "output_type": "stream",
     "text": [
      "PartitionExplainer explainer: 2it [00:40, 40.06s/it]               \n",
      " 98%|█████████▊| 49/50 [13:45<00:29, 29.83s/it]"
     ]
    },
    {
     "data": {
      "application/vnd.jupyter.widget-view+json": {
       "model_id": "2091c449eef143228f01da0a54486340",
       "version_major": 2,
       "version_minor": 0
      },
      "text/plain": [
       "  0%|          | 0/498 [00:00<?, ?it/s]"
      ]
     },
     "metadata": {},
     "output_type": "display_data"
    },
    {
     "name": "stderr",
     "output_type": "stream",
     "text": [
      "PartitionExplainer explainer: 2it [00:22, 22.42s/it]               \n",
      "100%|██████████| 50/50 [14:07<00:00, 16.96s/it]\n",
      "Testing noise levels:   0%|          | 0/15 [00:00<?, ?it/s]"
     ]
    },
    {
     "data": {
      "application/vnd.jupyter.widget-view+json": {
       "model_id": "cc19b01c91df4289873838e9fcd2e3e8",
       "version_major": 2,
       "version_minor": 0
      },
      "text/plain": [
       "  0%|          | 0/498 [00:00<?, ?it/s]"
      ]
     },
     "metadata": {},
     "output_type": "display_data"
    },
    {
     "name": "stderr",
     "output_type": "stream",
     "text": [
      "PartitionExplainer explainer: 2it [00:30, 30.17s/it]               \n"
     ]
    },
    {
     "data": {
      "application/vnd.jupyter.widget-view+json": {
       "model_id": "65a48674393c476ea49b0721f22e0720",
       "version_major": 2,
       "version_minor": 0
      },
      "text/plain": [
       "  0%|          | 0/498 [00:00<?, ?it/s]"
      ]
     },
     "metadata": {},
     "output_type": "display_data"
    },
    {
     "name": "stderr",
     "output_type": "stream",
     "text": [
      "PartitionExplainer explainer: 2it [00:30, 30.20s/it]               \n"
     ]
    },
    {
     "data": {
      "application/vnd.jupyter.widget-view+json": {
       "model_id": "09e247d42cf7431981d2ba000a3adb51",
       "version_major": 2,
       "version_minor": 0
      },
      "text/plain": [
       "  0%|          | 0/498 [00:00<?, ?it/s]"
      ]
     },
     "metadata": {},
     "output_type": "display_data"
    },
    {
     "name": "stderr",
     "output_type": "stream",
     "text": [
      "PartitionExplainer explainer: 2it [00:25, 25.45s/it]               \n"
     ]
    },
    {
     "data": {
      "application/vnd.jupyter.widget-view+json": {
       "model_id": "6f18ca1734124e8b8222bd77d33e52b6",
       "version_major": 2,
       "version_minor": 0
      },
      "text/plain": [
       "  0%|          | 0/498 [00:00<?, ?it/s]"
      ]
     },
     "metadata": {},
     "output_type": "display_data"
    },
    {
     "name": "stderr",
     "output_type": "stream",
     "text": [
      "PartitionExplainer explainer: 2it [00:25, 25.01s/it]               \n"
     ]
    },
    {
     "data": {
      "application/vnd.jupyter.widget-view+json": {
       "model_id": "d928c227b9034d88bc3c1fbad5d36cbd",
       "version_major": 2,
       "version_minor": 0
      },
      "text/plain": [
       "  0%|          | 0/498 [00:00<?, ?it/s]"
      ]
     },
     "metadata": {},
     "output_type": "display_data"
    },
    {
     "name": "stderr",
     "output_type": "stream",
     "text": [
      "PartitionExplainer explainer: 2it [00:14, 14.87s/it]               \n"
     ]
    },
    {
     "data": {
      "application/vnd.jupyter.widget-view+json": {
       "model_id": "d7fc2f2e12bc4bca8ffda0559b85b933",
       "version_major": 2,
       "version_minor": 0
      },
      "text/plain": [
       "  0%|          | 0/498 [00:00<?, ?it/s]"
      ]
     },
     "metadata": {},
     "output_type": "display_data"
    },
    {
     "name": "stderr",
     "output_type": "stream",
     "text": [
      "PartitionExplainer explainer: 2it [00:22, 22.43s/it]               \n"
     ]
    },
    {
     "data": {
      "application/vnd.jupyter.widget-view+json": {
       "model_id": "bd7d58510d5b46b9b746ab1942a95d78",
       "version_major": 2,
       "version_minor": 0
      },
      "text/plain": [
       "  0%|          | 0/498 [00:00<?, ?it/s]"
      ]
     },
     "metadata": {},
     "output_type": "display_data"
    },
    {
     "name": "stderr",
     "output_type": "stream",
     "text": [
      "PartitionExplainer explainer: 2it [00:46, 46.53s/it]               \n",
      "PartitionExplainer explainer: 2it [00:11, 11.55s/it]               \n"
     ]
    },
    {
     "data": {
      "application/vnd.jupyter.widget-view+json": {
       "model_id": "3484a1a9f41142fd8ae3c75ae8113c28",
       "version_major": 2,
       "version_minor": 0
      },
      "text/plain": [
       "  0%|          | 0/498 [00:00<?, ?it/s]"
      ]
     },
     "metadata": {},
     "output_type": "display_data"
    },
    {
     "name": "stderr",
     "output_type": "stream",
     "text": [
      "PartitionExplainer explainer: 2it [00:37, 37.70s/it]               \n"
     ]
    },
    {
     "data": {
      "application/vnd.jupyter.widget-view+json": {
       "model_id": "68db6dc57e8149d8bcaaab5e50972b75",
       "version_major": 2,
       "version_minor": 0
      },
      "text/plain": [
       "  0%|          | 0/498 [00:00<?, ?it/s]"
      ]
     },
     "metadata": {},
     "output_type": "display_data"
    },
    {
     "name": "stderr",
     "output_type": "stream",
     "text": [
      "PartitionExplainer explainer: 2it [00:21, 21.43s/it]               \n"
     ]
    },
    {
     "data": {
      "application/vnd.jupyter.widget-view+json": {
       "model_id": "02dda030f002412790537d00d3835c70",
       "version_major": 2,
       "version_minor": 0
      },
      "text/plain": [
       "  0%|          | 0/498 [00:00<?, ?it/s]"
      ]
     },
     "metadata": {},
     "output_type": "display_data"
    },
    {
     "name": "stderr",
     "output_type": "stream",
     "text": [
      "PartitionExplainer explainer: 2it [00:12, 12.42s/it]               \n"
     ]
    },
    {
     "data": {
      "application/vnd.jupyter.widget-view+json": {
       "model_id": "985a124be6be458cb735e96ac28f2e7e",
       "version_major": 2,
       "version_minor": 0
      },
      "text/plain": [
       "  0%|          | 0/498 [00:00<?, ?it/s]"
      ]
     },
     "metadata": {},
     "output_type": "display_data"
    },
    {
     "name": "stderr",
     "output_type": "stream",
     "text": [
      "PartitionExplainer explainer: 2it [00:12, 12.55s/it]               \n"
     ]
    },
    {
     "data": {
      "application/vnd.jupyter.widget-view+json": {
       "model_id": "35a3c23675fb440390edcdbda080880a",
       "version_major": 2,
       "version_minor": 0
      },
      "text/plain": [
       "  0%|          | 0/498 [00:00<?, ?it/s]"
      ]
     },
     "metadata": {},
     "output_type": "display_data"
    },
    {
     "name": "stderr",
     "output_type": "stream",
     "text": [
      "PartitionExplainer explainer: 2it [00:22, 22.46s/it]               \n"
     ]
    },
    {
     "data": {
      "application/vnd.jupyter.widget-view+json": {
       "model_id": "031567170871440799befdfa00912d79",
       "version_major": 2,
       "version_minor": 0
      },
      "text/plain": [
       "  0%|          | 0/498 [00:00<?, ?it/s]"
      ]
     },
     "metadata": {},
     "output_type": "display_data"
    },
    {
     "name": "stderr",
     "output_type": "stream",
     "text": [
      "PartitionExplainer explainer: 2it [00:27, 27.49s/it]               \n"
     ]
    },
    {
     "data": {
      "application/vnd.jupyter.widget-view+json": {
       "model_id": "8d94a77dd1f740ab8afe4b2552af1564",
       "version_major": 2,
       "version_minor": 0
      },
      "text/plain": [
       "  0%|          | 0/498 [00:00<?, ?it/s]"
      ]
     },
     "metadata": {},
     "output_type": "display_data"
    },
    {
     "name": "stderr",
     "output_type": "stream",
     "text": [
      "PartitionExplainer explainer: 2it [00:29, 29.31s/it]               \n"
     ]
    },
    {
     "data": {
      "application/vnd.jupyter.widget-view+json": {
       "model_id": "c3ec96d2b0784efd8f9666cb3dc1ff92",
       "version_major": 2,
       "version_minor": 0
      },
      "text/plain": [
       "  0%|          | 0/498 [00:00<?, ?it/s]"
      ]
     },
     "metadata": {},
     "output_type": "display_data"
    },
    {
     "name": "stderr",
     "output_type": "stream",
     "text": [
      "PartitionExplainer explainer: 2it [00:19, 19.11s/it]               \n"
     ]
    },
    {
     "data": {
      "application/vnd.jupyter.widget-view+json": {
       "model_id": "682eeba7e1874a85b99b753962d59318",
       "version_major": 2,
       "version_minor": 0
      },
      "text/plain": [
       "  0%|          | 0/498 [00:00<?, ?it/s]"
      ]
     },
     "metadata": {},
     "output_type": "display_data"
    },
    {
     "name": "stderr",
     "output_type": "stream",
     "text": [
      "PartitionExplainer explainer: 2it [00:16, 16.47s/it]               \n"
     ]
    },
    {
     "data": {
      "application/vnd.jupyter.widget-view+json": {
       "model_id": "4221731a13be404ab6e67dfeee755e41",
       "version_major": 2,
       "version_minor": 0
      },
      "text/plain": [
       "  0%|          | 0/498 [00:00<?, ?it/s]"
      ]
     },
     "metadata": {},
     "output_type": "display_data"
    },
    {
     "name": "stderr",
     "output_type": "stream",
     "text": [
      "PartitionExplainer explainer: 2it [00:21, 21.85s/it]               \n"
     ]
    },
    {
     "data": {
      "application/vnd.jupyter.widget-view+json": {
       "model_id": "3e67cb9c1fd448f7958c6c75c1f0fca5",
       "version_major": 2,
       "version_minor": 0
      },
      "text/plain": [
       "  0%|          | 0/498 [00:00<?, ?it/s]"
      ]
     },
     "metadata": {},
     "output_type": "display_data"
    },
    {
     "name": "stderr",
     "output_type": "stream",
     "text": [
      "PartitionExplainer explainer: 2it [00:27, 27.25s/it]               \n"
     ]
    },
    {
     "data": {
      "application/vnd.jupyter.widget-view+json": {
       "model_id": "b076b3fd9cb8457c93c24dfa644045ae",
       "version_major": 2,
       "version_minor": 0
      },
      "text/plain": [
       "  0%|          | 0/498 [00:00<?, ?it/s]"
      ]
     },
     "metadata": {},
     "output_type": "display_data"
    },
    {
     "name": "stderr",
     "output_type": "stream",
     "text": [
      "PartitionExplainer explainer: 2it [00:48, 48.45s/it]               \n"
     ]
    },
    {
     "data": {
      "application/vnd.jupyter.widget-view+json": {
       "model_id": "7abfb4e2703744c8bcb0dd0fb4db9dc1",
       "version_major": 2,
       "version_minor": 0
      },
      "text/plain": [
       "  0%|          | 0/498 [00:00<?, ?it/s]"
      ]
     },
     "metadata": {},
     "output_type": "display_data"
    },
    {
     "name": "stderr",
     "output_type": "stream",
     "text": [
      "PartitionExplainer explainer: 2it [00:44, 44.62s/it]               \n",
      "PartitionExplainer explainer: 2it [00:10, 10.81s/it]               \n"
     ]
    },
    {
     "data": {
      "application/vnd.jupyter.widget-view+json": {
       "model_id": "cdaa17da68164768aa39d947d37e89b7",
       "version_major": 2,
       "version_minor": 0
      },
      "text/plain": [
       "  0%|          | 0/498 [00:00<?, ?it/s]"
      ]
     },
     "metadata": {},
     "output_type": "display_data"
    },
    {
     "name": "stderr",
     "output_type": "stream",
     "text": [
      "PartitionExplainer explainer: 2it [00:20, 20.61s/it]               \n"
     ]
    },
    {
     "data": {
      "application/vnd.jupyter.widget-view+json": {
       "model_id": "d038bb8951d4431ea46e09cae6aa9c1f",
       "version_major": 2,
       "version_minor": 0
      },
      "text/plain": [
       "  0%|          | 0/498 [00:00<?, ?it/s]"
      ]
     },
     "metadata": {},
     "output_type": "display_data"
    },
    {
     "name": "stderr",
     "output_type": "stream",
     "text": [
      "PartitionExplainer explainer: 2it [00:31, 31.33s/it]               \n"
     ]
    },
    {
     "data": {
      "application/vnd.jupyter.widget-view+json": {
       "model_id": "8955713ceb53463e9a8ff42b56a728fe",
       "version_major": 2,
       "version_minor": 0
      },
      "text/plain": [
       "  0%|          | 0/498 [00:00<?, ?it/s]"
      ]
     },
     "metadata": {},
     "output_type": "display_data"
    },
    {
     "name": "stderr",
     "output_type": "stream",
     "text": [
      "PartitionExplainer explainer: 2it [00:35, 35.53s/it]               \n"
     ]
    },
    {
     "data": {
      "application/vnd.jupyter.widget-view+json": {
       "model_id": "ee36dc9812c74613be372f5fc06be12a",
       "version_major": 2,
       "version_minor": 0
      },
      "text/plain": [
       "  0%|          | 0/498 [00:00<?, ?it/s]"
      ]
     },
     "metadata": {},
     "output_type": "display_data"
    },
    {
     "name": "stderr",
     "output_type": "stream",
     "text": [
      "PartitionExplainer explainer: 2it [00:20, 20.49s/it]               \n"
     ]
    },
    {
     "data": {
      "application/vnd.jupyter.widget-view+json": {
       "model_id": "c0748592b10a4cd1a0b1bb166e0b31c7",
       "version_major": 2,
       "version_minor": 0
      },
      "text/plain": [
       "  0%|          | 0/498 [00:00<?, ?it/s]"
      ]
     },
     "metadata": {},
     "output_type": "display_data"
    },
    {
     "name": "stderr",
     "output_type": "stream",
     "text": [
      "PartitionExplainer explainer: 2it [00:40, 40.25s/it]               \n"
     ]
    },
    {
     "data": {
      "application/vnd.jupyter.widget-view+json": {
       "model_id": "e1607b63e2714261bf56c9857385ca9b",
       "version_major": 2,
       "version_minor": 0
      },
      "text/plain": [
       "  0%|          | 0/498 [00:00<?, ?it/s]"
      ]
     },
     "metadata": {},
     "output_type": "display_data"
    },
    {
     "name": "stderr",
     "output_type": "stream",
     "text": [
      "PartitionExplainer explainer: 2it [00:22, 22.78s/it]               \n",
      "Testing noise levels:   7%|▋         | 1/15 [14:07<3:17:45, 847.51s/it]"
     ]
    },
    {
     "data": {
      "application/vnd.jupyter.widget-view+json": {
       "model_id": "1df133c56cbb4b62a0531ba0b0fd57d6",
       "version_major": 2,
       "version_minor": 0
      },
      "text/plain": [
       "  0%|          | 0/498 [00:00<?, ?it/s]"
      ]
     },
     "metadata": {},
     "output_type": "display_data"
    },
    {
     "name": "stderr",
     "output_type": "stream",
     "text": [
      "PartitionExplainer explainer: 2it [00:30, 30.43s/it]               \n"
     ]
    },
    {
     "data": {
      "application/vnd.jupyter.widget-view+json": {
       "model_id": "29c28d1fc29d4e93be146f1afdd93b89",
       "version_major": 2,
       "version_minor": 0
      },
      "text/plain": [
       "  0%|          | 0/498 [00:00<?, ?it/s]"
      ]
     },
     "metadata": {},
     "output_type": "display_data"
    },
    {
     "name": "stderr",
     "output_type": "stream",
     "text": [
      "PartitionExplainer explainer: 2it [00:30, 30.58s/it]               \n"
     ]
    },
    {
     "data": {
      "application/vnd.jupyter.widget-view+json": {
       "model_id": "a66cfad065544f7582f1f36030bdb5a2",
       "version_major": 2,
       "version_minor": 0
      },
      "text/plain": [
       "  0%|          | 0/498 [00:00<?, ?it/s]"
      ]
     },
     "metadata": {},
     "output_type": "display_data"
    },
    {
     "name": "stderr",
     "output_type": "stream",
     "text": [
      "PartitionExplainer explainer: 2it [00:25, 25.55s/it]               \n"
     ]
    },
    {
     "data": {
      "application/vnd.jupyter.widget-view+json": {
       "model_id": "33ee8b42787d4aae84716231d859058c",
       "version_major": 2,
       "version_minor": 0
      },
      "text/plain": [
       "  0%|          | 0/498 [00:00<?, ?it/s]"
      ]
     },
     "metadata": {},
     "output_type": "display_data"
    },
    {
     "name": "stderr",
     "output_type": "stream",
     "text": [
      "PartitionExplainer explainer: 2it [00:25, 25.51s/it]               \n"
     ]
    },
    {
     "data": {
      "application/vnd.jupyter.widget-view+json": {
       "model_id": "1e45ef66950146ff93abb6193c6e802f",
       "version_major": 2,
       "version_minor": 0
      },
      "text/plain": [
       "  0%|          | 0/498 [00:00<?, ?it/s]"
      ]
     },
     "metadata": {},
     "output_type": "display_data"
    },
    {
     "name": "stderr",
     "output_type": "stream",
     "text": [
      "PartitionExplainer explainer: 2it [00:14, 15.00s/it]               \n"
     ]
    },
    {
     "data": {
      "application/vnd.jupyter.widget-view+json": {
       "model_id": "63587fa798a944188471398d9d9e7698",
       "version_major": 2,
       "version_minor": 0
      },
      "text/plain": [
       "  0%|          | 0/498 [00:00<?, ?it/s]"
      ]
     },
     "metadata": {},
     "output_type": "display_data"
    },
    {
     "name": "stderr",
     "output_type": "stream",
     "text": [
      "PartitionExplainer explainer: 2it [00:22, 22.60s/it]               \n"
     ]
    },
    {
     "data": {
      "application/vnd.jupyter.widget-view+json": {
       "model_id": "819786011c064d16ad3958faffa070ae",
       "version_major": 2,
       "version_minor": 0
      },
      "text/plain": [
       "  0%|          | 0/498 [00:00<?, ?it/s]"
      ]
     },
     "metadata": {},
     "output_type": "display_data"
    },
    {
     "name": "stderr",
     "output_type": "stream",
     "text": [
      "PartitionExplainer explainer: 2it [00:46, 46.73s/it]               \n"
     ]
    },
    {
     "data": {
      "application/vnd.jupyter.widget-view+json": {
       "model_id": "f0a493fd725e4b37a9224c86283ff793",
       "version_major": 2,
       "version_minor": 0
      },
      "text/plain": [
       "  0%|          | 0/498 [00:00<?, ?it/s]"
      ]
     },
     "metadata": {},
     "output_type": "display_data"
    },
    {
     "name": "stderr",
     "output_type": "stream",
     "text": [
      "PartitionExplainer explainer: 2it [00:11, 11.74s/it]               \n"
     ]
    },
    {
     "data": {
      "application/vnd.jupyter.widget-view+json": {
       "model_id": "0703865ff8844b64a3a0aaf04384f408",
       "version_major": 2,
       "version_minor": 0
      },
      "text/plain": [
       "  0%|          | 0/498 [00:00<?, ?it/s]"
      ]
     },
     "metadata": {},
     "output_type": "display_data"
    },
    {
     "name": "stderr",
     "output_type": "stream",
     "text": [
      "PartitionExplainer explainer: 2it [00:38, 38.23s/it]               \n"
     ]
    },
    {
     "data": {
      "application/vnd.jupyter.widget-view+json": {
       "model_id": "3d72fb363f604cfd9352dd1800196fbf",
       "version_major": 2,
       "version_minor": 0
      },
      "text/plain": [
       "  0%|          | 0/498 [00:00<?, ?it/s]"
      ]
     },
     "metadata": {},
     "output_type": "display_data"
    },
    {
     "name": "stderr",
     "output_type": "stream",
     "text": [
      "PartitionExplainer explainer: 2it [00:21, 21.36s/it]               \n"
     ]
    },
    {
     "data": {
      "application/vnd.jupyter.widget-view+json": {
       "model_id": "bfbec5ab25cc4eda9cd3a13d64e6f3fe",
       "version_major": 2,
       "version_minor": 0
      },
      "text/plain": [
       "  0%|          | 0/498 [00:00<?, ?it/s]"
      ]
     },
     "metadata": {},
     "output_type": "display_data"
    },
    {
     "name": "stderr",
     "output_type": "stream",
     "text": [
      "PartitionExplainer explainer: 2it [00:12, 12.46s/it]               \n"
     ]
    },
    {
     "data": {
      "application/vnd.jupyter.widget-view+json": {
       "model_id": "e868a37f22ab421285f0fdeb040efda6",
       "version_major": 2,
       "version_minor": 0
      },
      "text/plain": [
       "  0%|          | 0/498 [00:00<?, ?it/s]"
      ]
     },
     "metadata": {},
     "output_type": "display_data"
    },
    {
     "name": "stderr",
     "output_type": "stream",
     "text": [
      "PartitionExplainer explainer: 2it [00:12, 12.99s/it]               \n"
     ]
    },
    {
     "data": {
      "application/vnd.jupyter.widget-view+json": {
       "model_id": "ebba9ea3868045499e5acd7f696cd664",
       "version_major": 2,
       "version_minor": 0
      },
      "text/plain": [
       "  0%|          | 0/498 [00:00<?, ?it/s]"
      ]
     },
     "metadata": {},
     "output_type": "display_data"
    },
    {
     "name": "stderr",
     "output_type": "stream",
     "text": [
      "PartitionExplainer explainer: 2it [00:22, 22.83s/it]               \n"
     ]
    },
    {
     "data": {
      "application/vnd.jupyter.widget-view+json": {
       "model_id": "e71c4ee9313c4fb48fee81e708c8025a",
       "version_major": 2,
       "version_minor": 0
      },
      "text/plain": [
       "  0%|          | 0/498 [00:00<?, ?it/s]"
      ]
     },
     "metadata": {},
     "output_type": "display_data"
    },
    {
     "name": "stderr",
     "output_type": "stream",
     "text": [
      "PartitionExplainer explainer: 2it [00:27, 27.62s/it]               \n"
     ]
    },
    {
     "data": {
      "application/vnd.jupyter.widget-view+json": {
       "model_id": "67c88cdaec2347c5af1de92d8df9d2e5",
       "version_major": 2,
       "version_minor": 0
      },
      "text/plain": [
       "  0%|          | 0/498 [00:00<?, ?it/s]"
      ]
     },
     "metadata": {},
     "output_type": "display_data"
    },
    {
     "name": "stderr",
     "output_type": "stream",
     "text": [
      "PartitionExplainer explainer: 2it [00:29, 29.62s/it]               \n"
     ]
    },
    {
     "data": {
      "application/vnd.jupyter.widget-view+json": {
       "model_id": "d3f50c17b7b94c1f8db47a0cda1b5f9b",
       "version_major": 2,
       "version_minor": 0
      },
      "text/plain": [
       "  0%|          | 0/498 [00:00<?, ?it/s]"
      ]
     },
     "metadata": {},
     "output_type": "display_data"
    },
    {
     "name": "stderr",
     "output_type": "stream",
     "text": [
      "PartitionExplainer explainer: 2it [00:19, 19.54s/it]               \n"
     ]
    },
    {
     "data": {
      "application/vnd.jupyter.widget-view+json": {
       "model_id": "47908bf155d143248cff4276259fd7ce",
       "version_major": 2,
       "version_minor": 0
      },
      "text/plain": [
       "  0%|          | 0/498 [00:00<?, ?it/s]"
      ]
     },
     "metadata": {},
     "output_type": "display_data"
    },
    {
     "name": "stderr",
     "output_type": "stream",
     "text": [
      "PartitionExplainer explainer: 2it [00:16, 16.83s/it]               \n"
     ]
    },
    {
     "data": {
      "application/vnd.jupyter.widget-view+json": {
       "model_id": "2f513ce601b240e28948043a6de4454d",
       "version_major": 2,
       "version_minor": 0
      },
      "text/plain": [
       "  0%|          | 0/498 [00:00<?, ?it/s]"
      ]
     },
     "metadata": {},
     "output_type": "display_data"
    },
    {
     "name": "stderr",
     "output_type": "stream",
     "text": [
      "PartitionExplainer explainer: 2it [00:22, 22.12s/it]               \n"
     ]
    },
    {
     "data": {
      "application/vnd.jupyter.widget-view+json": {
       "model_id": "d203acedd09d4c00a0248466a2f6c49a",
       "version_major": 2,
       "version_minor": 0
      },
      "text/plain": [
       "  0%|          | 0/498 [00:00<?, ?it/s]"
      ]
     },
     "metadata": {},
     "output_type": "display_data"
    },
    {
     "name": "stderr",
     "output_type": "stream",
     "text": [
      "PartitionExplainer explainer: 2it [00:27, 27.15s/it]               \n"
     ]
    },
    {
     "data": {
      "application/vnd.jupyter.widget-view+json": {
       "model_id": "9d7099f15fd147f78206ae6a59558e51",
       "version_major": 2,
       "version_minor": 0
      },
      "text/plain": [
       "  0%|          | 0/498 [00:00<?, ?it/s]"
      ]
     },
     "metadata": {},
     "output_type": "display_data"
    },
    {
     "name": "stderr",
     "output_type": "stream",
     "text": [
      "PartitionExplainer explainer: 2it [00:47, 47.79s/it]               \n"
     ]
    },
    {
     "data": {
      "application/vnd.jupyter.widget-view+json": {
       "model_id": "6fcbc14a077342dfa45177e0e648f416",
       "version_major": 2,
       "version_minor": 0
      },
      "text/plain": [
       "  0%|          | 0/498 [00:00<?, ?it/s]"
      ]
     },
     "metadata": {},
     "output_type": "display_data"
    },
    {
     "name": "stderr",
     "output_type": "stream",
     "text": [
      "PartitionExplainer explainer: 2it [00:44, 44.84s/it]               \n",
      "PartitionExplainer explainer: 2it [00:10, 10.90s/it]               \n"
     ]
    },
    {
     "data": {
      "application/vnd.jupyter.widget-view+json": {
       "model_id": "4a65098e07724475bfe9a837c0f1bcfe",
       "version_major": 2,
       "version_minor": 0
      },
      "text/plain": [
       "  0%|          | 0/498 [00:00<?, ?it/s]"
      ]
     },
     "metadata": {},
     "output_type": "display_data"
    },
    {
     "name": "stderr",
     "output_type": "stream",
     "text": [
      "PartitionExplainer explainer: 2it [00:20, 20.58s/it]               \n"
     ]
    },
    {
     "data": {
      "application/vnd.jupyter.widget-view+json": {
       "model_id": "30de59878ae147bfbc70467416a73c21",
       "version_major": 2,
       "version_minor": 0
      },
      "text/plain": [
       "  0%|          | 0/498 [00:00<?, ?it/s]"
      ]
     },
     "metadata": {},
     "output_type": "display_data"
    },
    {
     "name": "stderr",
     "output_type": "stream",
     "text": [
      "PartitionExplainer explainer: 2it [00:31, 31.44s/it]               \n"
     ]
    },
    {
     "data": {
      "application/vnd.jupyter.widget-view+json": {
       "model_id": "7dba2416b86c481282811895ea9bb4d6",
       "version_major": 2,
       "version_minor": 0
      },
      "text/plain": [
       "  0%|          | 0/498 [00:00<?, ?it/s]"
      ]
     },
     "metadata": {},
     "output_type": "display_data"
    },
    {
     "name": "stderr",
     "output_type": "stream",
     "text": [
      "PartitionExplainer explainer: 2it [00:35, 35.78s/it]               \n"
     ]
    },
    {
     "data": {
      "application/vnd.jupyter.widget-view+json": {
       "model_id": "fcb51df5d3544a2f8152130fe75aeca6",
       "version_major": 2,
       "version_minor": 0
      },
      "text/plain": [
       "  0%|          | 0/498 [00:00<?, ?it/s]"
      ]
     },
     "metadata": {},
     "output_type": "display_data"
    },
    {
     "name": "stderr",
     "output_type": "stream",
     "text": [
      "PartitionExplainer explainer: 2it [00:21, 21.48s/it]               \n"
     ]
    },
    {
     "data": {
      "application/vnd.jupyter.widget-view+json": {
       "model_id": "1b85f87aab884223aca006b48062bb07",
       "version_major": 2,
       "version_minor": 0
      },
      "text/plain": [
       "  0%|          | 0/498 [00:00<?, ?it/s]"
      ]
     },
     "metadata": {},
     "output_type": "display_data"
    },
    {
     "name": "stderr",
     "output_type": "stream",
     "text": [
      "PartitionExplainer explainer: 2it [00:40, 40.34s/it]               \n"
     ]
    },
    {
     "data": {
      "application/vnd.jupyter.widget-view+json": {
       "model_id": "4659a7d893d647db852b20ce0995d78e",
       "version_major": 2,
       "version_minor": 0
      },
      "text/plain": [
       "  0%|          | 0/498 [00:00<?, ?it/s]"
      ]
     },
     "metadata": {},
     "output_type": "display_data"
    },
    {
     "name": "stderr",
     "output_type": "stream",
     "text": [
      "PartitionExplainer explainer: 2it [00:23, 23.04s/it]               \n",
      "Testing noise levels:  13%|█▎        | 2/15 [28:21<3:04:27, 851.36s/it]"
     ]
    },
    {
     "data": {
      "application/vnd.jupyter.widget-view+json": {
       "model_id": "ad510ecaa7714c4ebe3a43ad3f44c704",
       "version_major": 2,
       "version_minor": 0
      },
      "text/plain": [
       "  0%|          | 0/498 [00:00<?, ?it/s]"
      ]
     },
     "metadata": {},
     "output_type": "display_data"
    },
    {
     "name": "stderr",
     "output_type": "stream",
     "text": [
      "PartitionExplainer explainer: 2it [00:29, 29.66s/it]               \n"
     ]
    },
    {
     "data": {
      "application/vnd.jupyter.widget-view+json": {
       "model_id": "bd33e9315c2c49f6ab5d8370c50eda23",
       "version_major": 2,
       "version_minor": 0
      },
      "text/plain": [
       "  0%|          | 0/498 [00:00<?, ?it/s]"
      ]
     },
     "metadata": {},
     "output_type": "display_data"
    },
    {
     "name": "stderr",
     "output_type": "stream",
     "text": [
      "PartitionExplainer explainer: 2it [00:30, 30.39s/it]               \n"
     ]
    },
    {
     "data": {
      "application/vnd.jupyter.widget-view+json": {
       "model_id": "93b50dd2e78546fc871e95d3321cb4a9",
       "version_major": 2,
       "version_minor": 0
      },
      "text/plain": [
       "  0%|          | 0/498 [00:00<?, ?it/s]"
      ]
     },
     "metadata": {},
     "output_type": "display_data"
    },
    {
     "name": "stderr",
     "output_type": "stream",
     "text": [
      "PartitionExplainer explainer: 2it [00:25, 25.40s/it]               \n"
     ]
    },
    {
     "data": {
      "application/vnd.jupyter.widget-view+json": {
       "model_id": "f08c5bb2f12741738f7e6a211c8f7cd1",
       "version_major": 2,
       "version_minor": 0
      },
      "text/plain": [
       "  0%|          | 0/498 [00:00<?, ?it/s]"
      ]
     },
     "metadata": {},
     "output_type": "display_data"
    },
    {
     "name": "stderr",
     "output_type": "stream",
     "text": [
      "PartitionExplainer explainer: 2it [00:25, 25.74s/it]               \n"
     ]
    },
    {
     "data": {
      "application/vnd.jupyter.widget-view+json": {
       "model_id": "f8f6ae33fa9847b592766c976b57b0a6",
       "version_major": 2,
       "version_minor": 0
      },
      "text/plain": [
       "  0%|          | 0/498 [00:00<?, ?it/s]"
      ]
     },
     "metadata": {},
     "output_type": "display_data"
    },
    {
     "name": "stderr",
     "output_type": "stream",
     "text": [
      "PartitionExplainer explainer: 2it [00:14, 14.95s/it]               \n"
     ]
    },
    {
     "data": {
      "application/vnd.jupyter.widget-view+json": {
       "model_id": "1126bc470ca24e84880801410612891b",
       "version_major": 2,
       "version_minor": 0
      },
      "text/plain": [
       "  0%|          | 0/498 [00:00<?, ?it/s]"
      ]
     },
     "metadata": {},
     "output_type": "display_data"
    },
    {
     "name": "stderr",
     "output_type": "stream",
     "text": [
      "PartitionExplainer explainer: 2it [00:22, 22.34s/it]               \n"
     ]
    },
    {
     "data": {
      "application/vnd.jupyter.widget-view+json": {
       "model_id": "021916fb5d8147c08ea12b376d968196",
       "version_major": 2,
       "version_minor": 0
      },
      "text/plain": [
       "  0%|          | 0/498 [00:00<?, ?it/s]"
      ]
     },
     "metadata": {},
     "output_type": "display_data"
    },
    {
     "name": "stderr",
     "output_type": "stream",
     "text": [
      "PartitionExplainer explainer: 2it [00:45, 45.76s/it]               \n"
     ]
    },
    {
     "data": {
      "application/vnd.jupyter.widget-view+json": {
       "model_id": "13a0a36f05fc4ba69b1ebdd0eb131e49",
       "version_major": 2,
       "version_minor": 0
      },
      "text/plain": [
       "  0%|          | 0/498 [00:00<?, ?it/s]"
      ]
     },
     "metadata": {},
     "output_type": "display_data"
    },
    {
     "name": "stderr",
     "output_type": "stream",
     "text": [
      "PartitionExplainer explainer: 2it [00:11, 11.78s/it]               \n"
     ]
    },
    {
     "data": {
      "application/vnd.jupyter.widget-view+json": {
       "model_id": "fc20827cf7cf4c2e8615f75b0e5f4f43",
       "version_major": 2,
       "version_minor": 0
      },
      "text/plain": [
       "  0%|          | 0/498 [00:00<?, ?it/s]"
      ]
     },
     "metadata": {},
     "output_type": "display_data"
    },
    {
     "name": "stderr",
     "output_type": "stream",
     "text": [
      "PartitionExplainer explainer: 2it [00:38, 38.06s/it]               \n"
     ]
    },
    {
     "data": {
      "application/vnd.jupyter.widget-view+json": {
       "model_id": "3b03d21d0a974e5daf571d6489956d82",
       "version_major": 2,
       "version_minor": 0
      },
      "text/plain": [
       "  0%|          | 0/498 [00:00<?, ?it/s]"
      ]
     },
     "metadata": {},
     "output_type": "display_data"
    },
    {
     "name": "stderr",
     "output_type": "stream",
     "text": [
      "PartitionExplainer explainer: 2it [00:21, 21.41s/it]               \n"
     ]
    },
    {
     "data": {
      "application/vnd.jupyter.widget-view+json": {
       "model_id": "a16170c7c2f24465abe1cdfdc7db0763",
       "version_major": 2,
       "version_minor": 0
      },
      "text/plain": [
       "  0%|          | 0/498 [00:00<?, ?it/s]"
      ]
     },
     "metadata": {},
     "output_type": "display_data"
    },
    {
     "name": "stderr",
     "output_type": "stream",
     "text": [
      "PartitionExplainer explainer: 2it [00:12, 12.48s/it]               \n"
     ]
    },
    {
     "data": {
      "application/vnd.jupyter.widget-view+json": {
       "model_id": "be096206cbde41de99fc082245992619",
       "version_major": 2,
       "version_minor": 0
      },
      "text/plain": [
       "  0%|          | 0/498 [00:00<?, ?it/s]"
      ]
     },
     "metadata": {},
     "output_type": "display_data"
    },
    {
     "name": "stderr",
     "output_type": "stream",
     "text": [
      "PartitionExplainer explainer: 2it [00:12, 12.91s/it]               \n"
     ]
    },
    {
     "data": {
      "application/vnd.jupyter.widget-view+json": {
       "model_id": "c867d60e4b4b44af9a1fe710e9c22fc0",
       "version_major": 2,
       "version_minor": 0
      },
      "text/plain": [
       "  0%|          | 0/498 [00:00<?, ?it/s]"
      ]
     },
     "metadata": {},
     "output_type": "display_data"
    },
    {
     "name": "stderr",
     "output_type": "stream",
     "text": [
      "PartitionExplainer explainer: 2it [00:22, 22.51s/it]               \n"
     ]
    },
    {
     "data": {
      "application/vnd.jupyter.widget-view+json": {
       "model_id": "c8625f5328774542b92a4ff1c82a8f92",
       "version_major": 2,
       "version_minor": 0
      },
      "text/plain": [
       "  0%|          | 0/498 [00:00<?, ?it/s]"
      ]
     },
     "metadata": {},
     "output_type": "display_data"
    },
    {
     "name": "stderr",
     "output_type": "stream",
     "text": [
      "PartitionExplainer explainer: 2it [00:26, 26.75s/it]               \n"
     ]
    },
    {
     "data": {
      "application/vnd.jupyter.widget-view+json": {
       "model_id": "0b15b082d45e442ca7b2652d65f900c5",
       "version_major": 2,
       "version_minor": 0
      },
      "text/plain": [
       "  0%|          | 0/498 [00:00<?, ?it/s]"
      ]
     },
     "metadata": {},
     "output_type": "display_data"
    },
    {
     "name": "stderr",
     "output_type": "stream",
     "text": [
      "PartitionExplainer explainer: 2it [00:29, 29.25s/it]               \n"
     ]
    },
    {
     "data": {
      "application/vnd.jupyter.widget-view+json": {
       "model_id": "f0fc11e548124fecbd6a3bb478991cab",
       "version_major": 2,
       "version_minor": 0
      },
      "text/plain": [
       "  0%|          | 0/498 [00:00<?, ?it/s]"
      ]
     },
     "metadata": {},
     "output_type": "display_data"
    },
    {
     "name": "stderr",
     "output_type": "stream",
     "text": [
      "PartitionExplainer explainer: 2it [00:19, 19.27s/it]               \n"
     ]
    },
    {
     "data": {
      "application/vnd.jupyter.widget-view+json": {
       "model_id": "3789e13c6dee4571abba081ca42ce5d9",
       "version_major": 2,
       "version_minor": 0
      },
      "text/plain": [
       "  0%|          | 0/498 [00:00<?, ?it/s]"
      ]
     },
     "metadata": {},
     "output_type": "display_data"
    },
    {
     "name": "stderr",
     "output_type": "stream",
     "text": [
      "PartitionExplainer explainer: 2it [00:16, 16.42s/it]               \n"
     ]
    },
    {
     "data": {
      "application/vnd.jupyter.widget-view+json": {
       "model_id": "b8339fecd20d4c378428ae5f14a846b5",
       "version_major": 2,
       "version_minor": 0
      },
      "text/plain": [
       "  0%|          | 0/498 [00:00<?, ?it/s]"
      ]
     },
     "metadata": {},
     "output_type": "display_data"
    },
    {
     "name": "stderr",
     "output_type": "stream",
     "text": [
      "PartitionExplainer explainer: 2it [00:21, 22.00s/it]               \n"
     ]
    },
    {
     "data": {
      "application/vnd.jupyter.widget-view+json": {
       "model_id": "5c43a5e66c9244399463bacc8f4f828c",
       "version_major": 2,
       "version_minor": 0
      },
      "text/plain": [
       "  0%|          | 0/498 [00:00<?, ?it/s]"
      ]
     },
     "metadata": {},
     "output_type": "display_data"
    },
    {
     "name": "stderr",
     "output_type": "stream",
     "text": [
      "PartitionExplainer explainer: 2it [00:27, 27.14s/it]               \n"
     ]
    },
    {
     "data": {
      "application/vnd.jupyter.widget-view+json": {
       "model_id": "1ebd4276aac3488690f13ce7383a2d7f",
       "version_major": 2,
       "version_minor": 0
      },
      "text/plain": [
       "  0%|          | 0/498 [00:00<?, ?it/s]"
      ]
     },
     "metadata": {},
     "output_type": "display_data"
    },
    {
     "name": "stderr",
     "output_type": "stream",
     "text": [
      "PartitionExplainer explainer: 2it [00:48, 48.77s/it]               \n"
     ]
    },
    {
     "data": {
      "application/vnd.jupyter.widget-view+json": {
       "model_id": "7f6d7d91353c494ab4af7aa8bb4574f6",
       "version_major": 2,
       "version_minor": 0
      },
      "text/plain": [
       "  0%|          | 0/498 [00:00<?, ?it/s]"
      ]
     },
     "metadata": {},
     "output_type": "display_data"
    },
    {
     "name": "stderr",
     "output_type": "stream",
     "text": [
      "PartitionExplainer explainer: 2it [00:44, 44.93s/it]               \n",
      "PartitionExplainer explainer: 2it [00:10, 10.86s/it]               \n"
     ]
    },
    {
     "data": {
      "application/vnd.jupyter.widget-view+json": {
       "model_id": "e4ab9eda2a854223a14cb371c0205afe",
       "version_major": 2,
       "version_minor": 0
      },
      "text/plain": [
       "  0%|          | 0/498 [00:00<?, ?it/s]"
      ]
     },
     "metadata": {},
     "output_type": "display_data"
    },
    {
     "name": "stderr",
     "output_type": "stream",
     "text": [
      "PartitionExplainer explainer: 2it [00:20, 20.53s/it]               \n"
     ]
    },
    {
     "data": {
      "application/vnd.jupyter.widget-view+json": {
       "model_id": "ec80e8e750b04823a1678d2dfa056193",
       "version_major": 2,
       "version_minor": 0
      },
      "text/plain": [
       "  0%|          | 0/498 [00:00<?, ?it/s]"
      ]
     },
     "metadata": {},
     "output_type": "display_data"
    },
    {
     "name": "stderr",
     "output_type": "stream",
     "text": [
      "PartitionExplainer explainer: 2it [00:31, 32.00s/it]               \n"
     ]
    },
    {
     "data": {
      "application/vnd.jupyter.widget-view+json": {
       "model_id": "9ac96f453e5a479da3748eb379a342f3",
       "version_major": 2,
       "version_minor": 0
      },
      "text/plain": [
       "  0%|          | 0/498 [00:00<?, ?it/s]"
      ]
     },
     "metadata": {},
     "output_type": "display_data"
    },
    {
     "name": "stderr",
     "output_type": "stream",
     "text": [
      "PartitionExplainer explainer: 2it [00:35, 35.78s/it]               \n"
     ]
    },
    {
     "data": {
      "application/vnd.jupyter.widget-view+json": {
       "model_id": "a4b81f82afbe4f4297f2749329ed7509",
       "version_major": 2,
       "version_minor": 0
      },
      "text/plain": [
       "  0%|          | 0/498 [00:00<?, ?it/s]"
      ]
     },
     "metadata": {},
     "output_type": "display_data"
    },
    {
     "name": "stderr",
     "output_type": "stream",
     "text": [
      "PartitionExplainer explainer: 2it [00:21, 21.36s/it]               \n"
     ]
    },
    {
     "data": {
      "application/vnd.jupyter.widget-view+json": {
       "model_id": "51b9b332969e4fbd83b1f381b72c8235",
       "version_major": 2,
       "version_minor": 0
      },
      "text/plain": [
       "  0%|          | 0/498 [00:00<?, ?it/s]"
      ]
     },
     "metadata": {},
     "output_type": "display_data"
    },
    {
     "name": "stderr",
     "output_type": "stream",
     "text": [
      "PartitionExplainer explainer: 2it [00:40, 40.13s/it]               \n"
     ]
    },
    {
     "data": {
      "application/vnd.jupyter.widget-view+json": {
       "model_id": "4cf802bae99140fb800239dfc1f6ad09",
       "version_major": 2,
       "version_minor": 0
      },
      "text/plain": [
       "  0%|          | 0/498 [00:00<?, ?it/s]"
      ]
     },
     "metadata": {},
     "output_type": "display_data"
    },
    {
     "name": "stderr",
     "output_type": "stream",
     "text": [
      "PartitionExplainer explainer: 2it [00:23, 23.16s/it]               \n",
      "Testing noise levels:  20%|██        | 3/15 [42:31<2:50:09, 850.83s/it]"
     ]
    },
    {
     "data": {
      "application/vnd.jupyter.widget-view+json": {
       "model_id": "d701b53fce1c4528afa61f54400cdb45",
       "version_major": 2,
       "version_minor": 0
      },
      "text/plain": [
       "  0%|          | 0/498 [00:00<?, ?it/s]"
      ]
     },
     "metadata": {},
     "output_type": "display_data"
    },
    {
     "name": "stderr",
     "output_type": "stream",
     "text": [
      "PartitionExplainer explainer: 2it [00:30, 30.34s/it]               \n"
     ]
    },
    {
     "data": {
      "application/vnd.jupyter.widget-view+json": {
       "model_id": "d12c196340d94919b601609c6ec31cc0",
       "version_major": 2,
       "version_minor": 0
      },
      "text/plain": [
       "  0%|          | 0/498 [00:00<?, ?it/s]"
      ]
     },
     "metadata": {},
     "output_type": "display_data"
    },
    {
     "name": "stderr",
     "output_type": "stream",
     "text": [
      "PartitionExplainer explainer: 2it [00:13, 13.94s/it]               \n"
     ]
    },
    {
     "data": {
      "application/vnd.jupyter.widget-view+json": {
       "model_id": "876647edd4e84e5abb5f2338bf45b268",
       "version_major": 2,
       "version_minor": 0
      },
      "text/plain": [
       "  0%|          | 0/498 [00:00<?, ?it/s]"
      ]
     },
     "metadata": {},
     "output_type": "display_data"
    },
    {
     "name": "stderr",
     "output_type": "stream",
     "text": [
      "PartitionExplainer explainer: 2it [00:30, 30.50s/it]               \n"
     ]
    },
    {
     "data": {
      "application/vnd.jupyter.widget-view+json": {
       "model_id": "8900147ca3264566b0327ab16d5a3289",
       "version_major": 2,
       "version_minor": 0
      },
      "text/plain": [
       "  0%|          | 0/498 [00:00<?, ?it/s]"
      ]
     },
     "metadata": {},
     "output_type": "display_data"
    },
    {
     "name": "stderr",
     "output_type": "stream",
     "text": [
      "PartitionExplainer explainer: 2it [00:25, 25.69s/it]               \n"
     ]
    },
    {
     "data": {
      "application/vnd.jupyter.widget-view+json": {
       "model_id": "26de4ac6f9d042dc95c5533f6a23e024",
       "version_major": 2,
       "version_minor": 0
      },
      "text/plain": [
       "  0%|          | 0/498 [00:00<?, ?it/s]"
      ]
     },
     "metadata": {},
     "output_type": "display_data"
    },
    {
     "name": "stderr",
     "output_type": "stream",
     "text": [
      "PartitionExplainer explainer: 2it [00:24, 24.69s/it]               \n"
     ]
    },
    {
     "data": {
      "application/vnd.jupyter.widget-view+json": {
       "model_id": "74d476c1ed52439da6009cb5c9743253",
       "version_major": 2,
       "version_minor": 0
      },
      "text/plain": [
       "  0%|          | 0/498 [00:00<?, ?it/s]"
      ]
     },
     "metadata": {},
     "output_type": "display_data"
    },
    {
     "name": "stderr",
     "output_type": "stream",
     "text": [
      "PartitionExplainer explainer: 2it [00:14, 14.82s/it]               \n"
     ]
    },
    {
     "data": {
      "application/vnd.jupyter.widget-view+json": {
       "model_id": "4fcc82123d1141f695d9e8af5b16e100",
       "version_major": 2,
       "version_minor": 0
      },
      "text/plain": [
       "  0%|          | 0/498 [00:00<?, ?it/s]"
      ]
     },
     "metadata": {},
     "output_type": "display_data"
    },
    {
     "name": "stderr",
     "output_type": "stream",
     "text": [
      "PartitionExplainer explainer: 2it [00:21, 21.99s/it]               \n"
     ]
    },
    {
     "data": {
      "application/vnd.jupyter.widget-view+json": {
       "model_id": "89a80bfa6d3347b9ac1842f9ccac2f85",
       "version_major": 2,
       "version_minor": 0
      },
      "text/plain": [
       "  0%|          | 0/498 [00:00<?, ?it/s]"
      ]
     },
     "metadata": {},
     "output_type": "display_data"
    },
    {
     "name": "stderr",
     "output_type": "stream",
     "text": [
      "PartitionExplainer explainer: 2it [00:45, 45.75s/it]               \n"
     ]
    },
    {
     "data": {
      "application/vnd.jupyter.widget-view+json": {
       "model_id": "e96e9c102c2b48d588e35cc3228d1587",
       "version_major": 2,
       "version_minor": 0
      },
      "text/plain": [
       "  0%|          | 0/498 [00:00<?, ?it/s]"
      ]
     },
     "metadata": {},
     "output_type": "display_data"
    },
    {
     "name": "stderr",
     "output_type": "stream",
     "text": [
      "PartitionExplainer explainer: 2it [00:11, 11.96s/it]               \n"
     ]
    },
    {
     "data": {
      "application/vnd.jupyter.widget-view+json": {
       "model_id": "902b2f8da05d4cd48d3e29ce3c40a079",
       "version_major": 2,
       "version_minor": 0
      },
      "text/plain": [
       "  0%|          | 0/498 [00:00<?, ?it/s]"
      ]
     },
     "metadata": {},
     "output_type": "display_data"
    },
    {
     "name": "stderr",
     "output_type": "stream",
     "text": [
      "PartitionExplainer explainer: 2it [00:38, 38.13s/it]               \n"
     ]
    },
    {
     "data": {
      "application/vnd.jupyter.widget-view+json": {
       "model_id": "2d74992bc58641478518249d573d51a0",
       "version_major": 2,
       "version_minor": 0
      },
      "text/plain": [
       "  0%|          | 0/498 [00:00<?, ?it/s]"
      ]
     },
     "metadata": {},
     "output_type": "display_data"
    },
    {
     "name": "stderr",
     "output_type": "stream",
     "text": [
      "PartitionExplainer explainer: 2it [00:21, 21.11s/it]               \n",
      "PartitionExplainer explainer: 2it [00:12, 12.27s/it]               \n"
     ]
    },
    {
     "data": {
      "application/vnd.jupyter.widget-view+json": {
       "model_id": "317d9b80a6f14a3ebf8ffd6dfe090e44",
       "version_major": 2,
       "version_minor": 0
      },
      "text/plain": [
       "  0%|          | 0/498 [00:00<?, ?it/s]"
      ]
     },
     "metadata": {},
     "output_type": "display_data"
    },
    {
     "name": "stderr",
     "output_type": "stream",
     "text": [
      "PartitionExplainer explainer: 2it [00:13, 13.14s/it]               \n"
     ]
    },
    {
     "data": {
      "application/vnd.jupyter.widget-view+json": {
       "model_id": "60481d8084414fe7ba0ecd96698aed0e",
       "version_major": 2,
       "version_minor": 0
      },
      "text/plain": [
       "  0%|          | 0/498 [00:00<?, ?it/s]"
      ]
     },
     "metadata": {},
     "output_type": "display_data"
    },
    {
     "name": "stderr",
     "output_type": "stream",
     "text": [
      "PartitionExplainer explainer: 2it [00:23, 23.03s/it]               \n"
     ]
    },
    {
     "data": {
      "application/vnd.jupyter.widget-view+json": {
       "model_id": "3deab873973345f3b70244ac4ca2b832",
       "version_major": 2,
       "version_minor": 0
      },
      "text/plain": [
       "  0%|          | 0/498 [00:00<?, ?it/s]"
      ]
     },
     "metadata": {},
     "output_type": "display_data"
    },
    {
     "name": "stderr",
     "output_type": "stream",
     "text": [
      "PartitionExplainer explainer: 2it [00:27, 27.19s/it]               \n"
     ]
    },
    {
     "data": {
      "application/vnd.jupyter.widget-view+json": {
       "model_id": "0278855be7554f2da28ce927d01b89ac",
       "version_major": 2,
       "version_minor": 0
      },
      "text/plain": [
       "  0%|          | 0/498 [00:00<?, ?it/s]"
      ]
     },
     "metadata": {},
     "output_type": "display_data"
    },
    {
     "name": "stderr",
     "output_type": "stream",
     "text": [
      "PartitionExplainer explainer: 2it [00:29, 29.50s/it]               \n"
     ]
    },
    {
     "data": {
      "application/vnd.jupyter.widget-view+json": {
       "model_id": "08188386cbeb4cf7a71950de9298a8d7",
       "version_major": 2,
       "version_minor": 0
      },
      "text/plain": [
       "  0%|          | 0/498 [00:00<?, ?it/s]"
      ]
     },
     "metadata": {},
     "output_type": "display_data"
    },
    {
     "name": "stderr",
     "output_type": "stream",
     "text": [
      "PartitionExplainer explainer: 2it [00:19, 19.34s/it]               \n"
     ]
    },
    {
     "data": {
      "application/vnd.jupyter.widget-view+json": {
       "model_id": "cac4fd391bd24fc2930a716c22996463",
       "version_major": 2,
       "version_minor": 0
      },
      "text/plain": [
       "  0%|          | 0/498 [00:00<?, ?it/s]"
      ]
     },
     "metadata": {},
     "output_type": "display_data"
    },
    {
     "name": "stderr",
     "output_type": "stream",
     "text": [
      "PartitionExplainer explainer: 2it [00:16, 16.41s/it]               \n"
     ]
    },
    {
     "data": {
      "application/vnd.jupyter.widget-view+json": {
       "model_id": "584c98e15fb242d685bd1f3a9712e8b3",
       "version_major": 2,
       "version_minor": 0
      },
      "text/plain": [
       "  0%|          | 0/498 [00:00<?, ?it/s]"
      ]
     },
     "metadata": {},
     "output_type": "display_data"
    },
    {
     "name": "stderr",
     "output_type": "stream",
     "text": [
      "PartitionExplainer explainer: 2it [00:21, 21.92s/it]               \n"
     ]
    },
    {
     "data": {
      "application/vnd.jupyter.widget-view+json": {
       "model_id": "880323ffdca54cfaaa459a8da5eb5137",
       "version_major": 2,
       "version_minor": 0
      },
      "text/plain": [
       "  0%|          | 0/498 [00:00<?, ?it/s]"
      ]
     },
     "metadata": {},
     "output_type": "display_data"
    },
    {
     "name": "stderr",
     "output_type": "stream",
     "text": [
      "PartitionExplainer explainer: 2it [00:28, 28.40s/it]               \n"
     ]
    },
    {
     "data": {
      "application/vnd.jupyter.widget-view+json": {
       "model_id": "e5a801efba37402c8b596888cbb5a603",
       "version_major": 2,
       "version_minor": 0
      },
      "text/plain": [
       "  0%|          | 0/498 [00:00<?, ?it/s]"
      ]
     },
     "metadata": {},
     "output_type": "display_data"
    },
    {
     "name": "stderr",
     "output_type": "stream",
     "text": [
      "PartitionExplainer explainer: 2it [00:50, 50.38s/it]               \n"
     ]
    },
    {
     "data": {
      "application/vnd.jupyter.widget-view+json": {
       "model_id": "633f5b001f14416a93509496b6cec00a",
       "version_major": 2,
       "version_minor": 0
      },
      "text/plain": [
       "  0%|          | 0/498 [00:00<?, ?it/s]"
      ]
     },
     "metadata": {},
     "output_type": "display_data"
    },
    {
     "name": "stderr",
     "output_type": "stream",
     "text": [
      "PartitionExplainer explainer: 2it [00:46, 46.58s/it]               \n",
      "PartitionExplainer explainer: 2it [00:10, 10.60s/it]               \n",
      "PartitionExplainer explainer: 2it [00:20, 20.33s/it]               \n"
     ]
    },
    {
     "data": {
      "application/vnd.jupyter.widget-view+json": {
       "model_id": "2e4dbf31bdb84a78897a95546e6d0fd5",
       "version_major": 2,
       "version_minor": 0
      },
      "text/plain": [
       "  0%|          | 0/498 [00:00<?, ?it/s]"
      ]
     },
     "metadata": {},
     "output_type": "display_data"
    },
    {
     "name": "stderr",
     "output_type": "stream",
     "text": [
      "PartitionExplainer explainer: 2it [00:31, 31.41s/it]               \n"
     ]
    },
    {
     "data": {
      "application/vnd.jupyter.widget-view+json": {
       "model_id": "71f2f6b2218d40f8b721d30cb53e16b1",
       "version_major": 2,
       "version_minor": 0
      },
      "text/plain": [
       "  0%|          | 0/498 [00:00<?, ?it/s]"
      ]
     },
     "metadata": {},
     "output_type": "display_data"
    },
    {
     "name": "stderr",
     "output_type": "stream",
     "text": [
      "PartitionExplainer explainer: 2it [00:36, 36.02s/it]               \n"
     ]
    },
    {
     "data": {
      "application/vnd.jupyter.widget-view+json": {
       "model_id": "199c9f487f294a3196b6a093b52c0bed",
       "version_major": 2,
       "version_minor": 0
      },
      "text/plain": [
       "  0%|          | 0/498 [00:00<?, ?it/s]"
      ]
     },
     "metadata": {},
     "output_type": "display_data"
    },
    {
     "name": "stderr",
     "output_type": "stream",
     "text": [
      "PartitionExplainer explainer: 2it [00:22, 22.20s/it]               \n"
     ]
    },
    {
     "data": {
      "application/vnd.jupyter.widget-view+json": {
       "model_id": "33d744230a9a4f2693461c638e9e1243",
       "version_major": 2,
       "version_minor": 0
      },
      "text/plain": [
       "  0%|          | 0/498 [00:00<?, ?it/s]"
      ]
     },
     "metadata": {},
     "output_type": "display_data"
    },
    {
     "name": "stderr",
     "output_type": "stream",
     "text": [
      "PartitionExplainer explainer: 2it [00:41, 41.77s/it]               \n"
     ]
    },
    {
     "data": {
      "application/vnd.jupyter.widget-view+json": {
       "model_id": "6d04ba8c8b9f457e8c2c6e72901f81c7",
       "version_major": 2,
       "version_minor": 0
      },
      "text/plain": [
       "  0%|          | 0/498 [00:00<?, ?it/s]"
      ]
     },
     "metadata": {},
     "output_type": "display_data"
    },
    {
     "name": "stderr",
     "output_type": "stream",
     "text": [
      "PartitionExplainer explainer: 2it [00:23, 23.27s/it]               \n",
      "Testing noise levels:  27%|██▋       | 4/15 [56:55<2:36:53, 855.79s/it]"
     ]
    },
    {
     "data": {
      "application/vnd.jupyter.widget-view+json": {
       "model_id": "c4c53acbf5b54f9180472cb6860ee4e6",
       "version_major": 2,
       "version_minor": 0
      },
      "text/plain": [
       "  0%|          | 0/498 [00:00<?, ?it/s]"
      ]
     },
     "metadata": {},
     "output_type": "display_data"
    },
    {
     "name": "stderr",
     "output_type": "stream",
     "text": [
      "PartitionExplainer explainer: 2it [00:30, 30.28s/it]               \n"
     ]
    },
    {
     "data": {
      "application/vnd.jupyter.widget-view+json": {
       "model_id": "c3b5132e181f410782d1fecbe9867c13",
       "version_major": 2,
       "version_minor": 0
      },
      "text/plain": [
       "  0%|          | 0/498 [00:00<?, ?it/s]"
      ]
     },
     "metadata": {},
     "output_type": "display_data"
    },
    {
     "name": "stderr",
     "output_type": "stream",
     "text": [
      "PartitionExplainer explainer: 2it [00:30, 30.07s/it]               \n"
     ]
    },
    {
     "data": {
      "application/vnd.jupyter.widget-view+json": {
       "model_id": "f3ad04885b9d4bda8ee104c6ebb04595",
       "version_major": 2,
       "version_minor": 0
      },
      "text/plain": [
       "  0%|          | 0/498 [00:00<?, ?it/s]"
      ]
     },
     "metadata": {},
     "output_type": "display_data"
    },
    {
     "name": "stderr",
     "output_type": "stream",
     "text": [
      "PartitionExplainer explainer: 2it [00:25, 25.78s/it]               \n"
     ]
    },
    {
     "data": {
      "application/vnd.jupyter.widget-view+json": {
       "model_id": "533b7243ca4a47159cc48a68ca3ee7bf",
       "version_major": 2,
       "version_minor": 0
      },
      "text/plain": [
       "  0%|          | 0/498 [00:00<?, ?it/s]"
      ]
     },
     "metadata": {},
     "output_type": "display_data"
    },
    {
     "name": "stderr",
     "output_type": "stream",
     "text": [
      "PartitionExplainer explainer: 2it [00:24, 24.86s/it]               \n"
     ]
    },
    {
     "data": {
      "application/vnd.jupyter.widget-view+json": {
       "model_id": "289cdf9db1604aa28f9727111c9f4fb5",
       "version_major": 2,
       "version_minor": 0
      },
      "text/plain": [
       "  0%|          | 0/498 [00:00<?, ?it/s]"
      ]
     },
     "metadata": {},
     "output_type": "display_data"
    },
    {
     "name": "stderr",
     "output_type": "stream",
     "text": [
      "PartitionExplainer explainer: 2it [00:14, 14.67s/it]               \n"
     ]
    },
    {
     "data": {
      "application/vnd.jupyter.widget-view+json": {
       "model_id": "a4615275ea244e5ebc039358a0c64715",
       "version_major": 2,
       "version_minor": 0
      },
      "text/plain": [
       "  0%|          | 0/498 [00:00<?, ?it/s]"
      ]
     },
     "metadata": {},
     "output_type": "display_data"
    },
    {
     "name": "stderr",
     "output_type": "stream",
     "text": [
      "PartitionExplainer explainer: 2it [00:22, 22.05s/it]               \n"
     ]
    },
    {
     "data": {
      "application/vnd.jupyter.widget-view+json": {
       "model_id": "c79feed988ad47508e62955c129765b9",
       "version_major": 2,
       "version_minor": 0
      },
      "text/plain": [
       "  0%|          | 0/498 [00:00<?, ?it/s]"
      ]
     },
     "metadata": {},
     "output_type": "display_data"
    },
    {
     "name": "stderr",
     "output_type": "stream",
     "text": [
      "PartitionExplainer explainer: 2it [00:46, 46.09s/it]               \n",
      "PartitionExplainer explainer: 2it [00:11, 11.59s/it]               \n"
     ]
    },
    {
     "data": {
      "application/vnd.jupyter.widget-view+json": {
       "model_id": "5850d17751db441eb1ca11fb4498579f",
       "version_major": 2,
       "version_minor": 0
      },
      "text/plain": [
       "  0%|          | 0/498 [00:00<?, ?it/s]"
      ]
     },
     "metadata": {},
     "output_type": "display_data"
    },
    {
     "name": "stderr",
     "output_type": "stream",
     "text": [
      "PartitionExplainer explainer: 2it [00:38, 38.10s/it]               \n"
     ]
    },
    {
     "data": {
      "application/vnd.jupyter.widget-view+json": {
       "model_id": "e6aa53e177d54ade90db3eeecb19f34c",
       "version_major": 2,
       "version_minor": 0
      },
      "text/plain": [
       "  0%|          | 0/498 [00:00<?, ?it/s]"
      ]
     },
     "metadata": {},
     "output_type": "display_data"
    },
    {
     "name": "stderr",
     "output_type": "stream",
     "text": [
      "PartitionExplainer explainer: 2it [00:21, 21.16s/it]               \n",
      "PartitionExplainer explainer: 2it [00:12, 12.32s/it]               \n",
      "PartitionExplainer explainer: 2it [00:12, 12.66s/it]               \n"
     ]
    },
    {
     "data": {
      "application/vnd.jupyter.widget-view+json": {
       "model_id": "0074b39e2d314c7f8d54e28d7af7eee2",
       "version_major": 2,
       "version_minor": 0
      },
      "text/plain": [
       "  0%|          | 0/498 [00:00<?, ?it/s]"
      ]
     },
     "metadata": {},
     "output_type": "display_data"
    },
    {
     "name": "stderr",
     "output_type": "stream",
     "text": [
      "PartitionExplainer explainer: 2it [00:22, 22.52s/it]               \n"
     ]
    },
    {
     "data": {
      "application/vnd.jupyter.widget-view+json": {
       "model_id": "fab0e1c4afd94cce8620a6963abbd26f",
       "version_major": 2,
       "version_minor": 0
      },
      "text/plain": [
       "  0%|          | 0/498 [00:00<?, ?it/s]"
      ]
     },
     "metadata": {},
     "output_type": "display_data"
    },
    {
     "name": "stderr",
     "output_type": "stream",
     "text": [
      "PartitionExplainer explainer: 2it [00:27, 27.44s/it]               \n"
     ]
    },
    {
     "data": {
      "application/vnd.jupyter.widget-view+json": {
       "model_id": "29b7939904da4c6d97545aa20f366b1a",
       "version_major": 2,
       "version_minor": 0
      },
      "text/plain": [
       "  0%|          | 0/498 [00:00<?, ?it/s]"
      ]
     },
     "metadata": {},
     "output_type": "display_data"
    },
    {
     "name": "stderr",
     "output_type": "stream",
     "text": [
      "PartitionExplainer explainer: 2it [00:29, 29.10s/it]               \n"
     ]
    },
    {
     "data": {
      "application/vnd.jupyter.widget-view+json": {
       "model_id": "b674c5a6c1924e50833ac8347477ab7b",
       "version_major": 2,
       "version_minor": 0
      },
      "text/plain": [
       "  0%|          | 0/498 [00:00<?, ?it/s]"
      ]
     },
     "metadata": {},
     "output_type": "display_data"
    },
    {
     "name": "stderr",
     "output_type": "stream",
     "text": [
      "PartitionExplainer explainer: 2it [00:19, 19.81s/it]               \n"
     ]
    },
    {
     "data": {
      "application/vnd.jupyter.widget-view+json": {
       "model_id": "d70ab40297e0465cbb725a976de40610",
       "version_major": 2,
       "version_minor": 0
      },
      "text/plain": [
       "  0%|          | 0/498 [00:00<?, ?it/s]"
      ]
     },
     "metadata": {},
     "output_type": "display_data"
    },
    {
     "name": "stderr",
     "output_type": "stream",
     "text": [
      "PartitionExplainer explainer: 2it [00:17, 17.12s/it]               \n"
     ]
    },
    {
     "data": {
      "application/vnd.jupyter.widget-view+json": {
       "model_id": "0a52f4fc01784f99a03359fffad464f2",
       "version_major": 2,
       "version_minor": 0
      },
      "text/plain": [
       "  0%|          | 0/498 [00:00<?, ?it/s]"
      ]
     },
     "metadata": {},
     "output_type": "display_data"
    },
    {
     "name": "stderr",
     "output_type": "stream",
     "text": [
      "PartitionExplainer explainer: 2it [00:22, 22.46s/it]               \n"
     ]
    },
    {
     "data": {
      "application/vnd.jupyter.widget-view+json": {
       "model_id": "02129f97c17c4d3c98269940f2a9b7a8",
       "version_major": 2,
       "version_minor": 0
      },
      "text/plain": [
       "  0%|          | 0/498 [00:00<?, ?it/s]"
      ]
     },
     "metadata": {},
     "output_type": "display_data"
    },
    {
     "name": "stderr",
     "output_type": "stream",
     "text": [
      "PartitionExplainer explainer: 2it [00:27, 27.00s/it]               \n"
     ]
    },
    {
     "data": {
      "application/vnd.jupyter.widget-view+json": {
       "model_id": "26692c39356f4981bca6ff65a1078443",
       "version_major": 2,
       "version_minor": 0
      },
      "text/plain": [
       "  0%|          | 0/498 [00:00<?, ?it/s]"
      ]
     },
     "metadata": {},
     "output_type": "display_data"
    },
    {
     "name": "stderr",
     "output_type": "stream",
     "text": [
      "PartitionExplainer explainer: 2it [00:48, 48.97s/it]               \n"
     ]
    },
    {
     "data": {
      "application/vnd.jupyter.widget-view+json": {
       "model_id": "611f20eb946449d0b127ca07ab9135fb",
       "version_major": 2,
       "version_minor": 0
      },
      "text/plain": [
       "  0%|          | 0/498 [00:00<?, ?it/s]"
      ]
     },
     "metadata": {},
     "output_type": "display_data"
    },
    {
     "name": "stderr",
     "output_type": "stream",
     "text": [
      "PartitionExplainer explainer: 2it [00:45, 45.38s/it]               \n",
      "PartitionExplainer explainer: 2it [00:10, 10.66s/it]               \n"
     ]
    },
    {
     "data": {
      "application/vnd.jupyter.widget-view+json": {
       "model_id": "4559a8d8c2a64240a8b2b8be6bf98d5a",
       "version_major": 2,
       "version_minor": 0
      },
      "text/plain": [
       "  0%|          | 0/498 [00:00<?, ?it/s]"
      ]
     },
     "metadata": {},
     "output_type": "display_data"
    },
    {
     "name": "stderr",
     "output_type": "stream",
     "text": [
      "PartitionExplainer explainer: 2it [00:19, 19.99s/it]               \n"
     ]
    },
    {
     "data": {
      "application/vnd.jupyter.widget-view+json": {
       "model_id": "ac0ef0e1dfb1400caf55c4d5f418f2c6",
       "version_major": 2,
       "version_minor": 0
      },
      "text/plain": [
       "  0%|          | 0/498 [00:00<?, ?it/s]"
      ]
     },
     "metadata": {},
     "output_type": "display_data"
    },
    {
     "name": "stderr",
     "output_type": "stream",
     "text": [
      "PartitionExplainer explainer: 2it [00:31, 31.36s/it]               \n"
     ]
    },
    {
     "data": {
      "application/vnd.jupyter.widget-view+json": {
       "model_id": "a02614a4197a4b51bf32a51051311641",
       "version_major": 2,
       "version_minor": 0
      },
      "text/plain": [
       "  0%|          | 0/498 [00:00<?, ?it/s]"
      ]
     },
     "metadata": {},
     "output_type": "display_data"
    },
    {
     "name": "stderr",
     "output_type": "stream",
     "text": [
      "PartitionExplainer explainer: 2it [00:35, 35.46s/it]               \n"
     ]
    },
    {
     "data": {
      "application/vnd.jupyter.widget-view+json": {
       "model_id": "4442f9ccbf9a46eea1cfbfffbc458f2e",
       "version_major": 2,
       "version_minor": 0
      },
      "text/plain": [
       "  0%|          | 0/498 [00:00<?, ?it/s]"
      ]
     },
     "metadata": {},
     "output_type": "display_data"
    },
    {
     "name": "stderr",
     "output_type": "stream",
     "text": [
      "PartitionExplainer explainer: 2it [00:21, 21.41s/it]               \n"
     ]
    },
    {
     "data": {
      "application/vnd.jupyter.widget-view+json": {
       "model_id": "9b73dae9c35d4be0a1ab1ea522f958c0",
       "version_major": 2,
       "version_minor": 0
      },
      "text/plain": [
       "  0%|          | 0/498 [00:00<?, ?it/s]"
      ]
     },
     "metadata": {},
     "output_type": "display_data"
    },
    {
     "name": "stderr",
     "output_type": "stream",
     "text": [
      "PartitionExplainer explainer: 2it [00:40, 40.12s/it]               \n"
     ]
    },
    {
     "data": {
      "application/vnd.jupyter.widget-view+json": {
       "model_id": "8654cbe8925a4055adc89e11f72e4768",
       "version_major": 2,
       "version_minor": 0
      },
      "text/plain": [
       "  0%|          | 0/498 [00:00<?, ?it/s]"
      ]
     },
     "metadata": {},
     "output_type": "display_data"
    },
    {
     "name": "stderr",
     "output_type": "stream",
     "text": [
      "PartitionExplainer explainer: 2it [00:22, 22.94s/it]               \n",
      "Testing noise levels:  33%|███▎      | 5/15 [1:11:04<2:22:13, 853.34s/it]"
     ]
    },
    {
     "data": {
      "application/vnd.jupyter.widget-view+json": {
       "model_id": "bbf8422e9b964f67ad88521effe79e36",
       "version_major": 2,
       "version_minor": 0
      },
      "text/plain": [
       "  0%|          | 0/498 [00:00<?, ?it/s]"
      ]
     },
     "metadata": {},
     "output_type": "display_data"
    },
    {
     "name": "stderr",
     "output_type": "stream",
     "text": [
      "PartitionExplainer explainer: 2it [00:30, 30.58s/it]               \n"
     ]
    },
    {
     "data": {
      "application/vnd.jupyter.widget-view+json": {
       "model_id": "738aff18830941929fcc1a40ed3fe157",
       "version_major": 2,
       "version_minor": 0
      },
      "text/plain": [
       "  0%|          | 0/498 [00:00<?, ?it/s]"
      ]
     },
     "metadata": {},
     "output_type": "display_data"
    },
    {
     "name": "stderr",
     "output_type": "stream",
     "text": [
      "PartitionExplainer explainer: 2it [00:30, 30.39s/it]               \n"
     ]
    },
    {
     "data": {
      "application/vnd.jupyter.widget-view+json": {
       "model_id": "f741693d353c4cf5a3ec2686af8f8efe",
       "version_major": 2,
       "version_minor": 0
      },
      "text/plain": [
       "  0%|          | 0/498 [00:00<?, ?it/s]"
      ]
     },
     "metadata": {},
     "output_type": "display_data"
    },
    {
     "name": "stderr",
     "output_type": "stream",
     "text": [
      "PartitionExplainer explainer: 2it [00:25, 25.50s/it]               \n"
     ]
    },
    {
     "data": {
      "application/vnd.jupyter.widget-view+json": {
       "model_id": "2eb5de6ede0b4bd580ed1789d05acf80",
       "version_major": 2,
       "version_minor": 0
      },
      "text/plain": [
       "  0%|          | 0/498 [00:00<?, ?it/s]"
      ]
     },
     "metadata": {},
     "output_type": "display_data"
    },
    {
     "name": "stderr",
     "output_type": "stream",
     "text": [
      "PartitionExplainer explainer: 2it [00:25, 25.22s/it]               \n"
     ]
    },
    {
     "data": {
      "application/vnd.jupyter.widget-view+json": {
       "model_id": "56cb574c3ddd4d7992679ab8a8fd8c43",
       "version_major": 2,
       "version_minor": 0
      },
      "text/plain": [
       "  0%|          | 0/498 [00:00<?, ?it/s]"
      ]
     },
     "metadata": {},
     "output_type": "display_data"
    },
    {
     "name": "stderr",
     "output_type": "stream",
     "text": [
      "PartitionExplainer explainer: 2it [00:14, 14.93s/it]               \n"
     ]
    },
    {
     "data": {
      "application/vnd.jupyter.widget-view+json": {
       "model_id": "b274c0655c85493381e4baa5cd2289dc",
       "version_major": 2,
       "version_minor": 0
      },
      "text/plain": [
       "  0%|          | 0/498 [00:00<?, ?it/s]"
      ]
     },
     "metadata": {},
     "output_type": "display_data"
    },
    {
     "name": "stderr",
     "output_type": "stream",
     "text": [
      "PartitionExplainer explainer: 2it [00:22, 22.21s/it]               \n"
     ]
    },
    {
     "data": {
      "application/vnd.jupyter.widget-view+json": {
       "model_id": "25efd3b60a5b465e8133fdf9dd825cbc",
       "version_major": 2,
       "version_minor": 0
      },
      "text/plain": [
       "  0%|          | 0/498 [00:00<?, ?it/s]"
      ]
     },
     "metadata": {},
     "output_type": "display_data"
    },
    {
     "name": "stderr",
     "output_type": "stream",
     "text": [
      "PartitionExplainer explainer: 2it [00:46, 46.33s/it]               \n",
      "PartitionExplainer explainer: 2it [00:11, 11.57s/it]               \n"
     ]
    },
    {
     "data": {
      "application/vnd.jupyter.widget-view+json": {
       "model_id": "212f6143426e422e98a037ee4b6bf598",
       "version_major": 2,
       "version_minor": 0
      },
      "text/plain": [
       "  0%|          | 0/498 [00:00<?, ?it/s]"
      ]
     },
     "metadata": {},
     "output_type": "display_data"
    },
    {
     "name": "stderr",
     "output_type": "stream",
     "text": [
      "PartitionExplainer explainer: 2it [00:38, 38.07s/it]               \n"
     ]
    },
    {
     "data": {
      "application/vnd.jupyter.widget-view+json": {
       "model_id": "b42de4e19bae4990ae95494f624f2e2c",
       "version_major": 2,
       "version_minor": 0
      },
      "text/plain": [
       "  0%|          | 0/498 [00:00<?, ?it/s]"
      ]
     },
     "metadata": {},
     "output_type": "display_data"
    },
    {
     "name": "stderr",
     "output_type": "stream",
     "text": [
      "PartitionExplainer explainer: 2it [00:21, 21.17s/it]               \n",
      "PartitionExplainer explainer: 2it [00:12, 12.35s/it]               \n",
      "PartitionExplainer explainer: 2it [00:12, 12.85s/it]               \n"
     ]
    },
    {
     "data": {
      "application/vnd.jupyter.widget-view+json": {
       "model_id": "72d1ef5968a347fdb22a08b023d8f8b7",
       "version_major": 2,
       "version_minor": 0
      },
      "text/plain": [
       "  0%|          | 0/498 [00:00<?, ?it/s]"
      ]
     },
     "metadata": {},
     "output_type": "display_data"
    },
    {
     "name": "stderr",
     "output_type": "stream",
     "text": [
      "PartitionExplainer explainer: 2it [00:21, 21.96s/it]               \n"
     ]
    },
    {
     "data": {
      "application/vnd.jupyter.widget-view+json": {
       "model_id": "b6cc455b0733435e8bb9d448877c948a",
       "version_major": 2,
       "version_minor": 0
      },
      "text/plain": [
       "  0%|          | 0/498 [00:00<?, ?it/s]"
      ]
     },
     "metadata": {},
     "output_type": "display_data"
    },
    {
     "name": "stderr",
     "output_type": "stream",
     "text": [
      "PartitionExplainer explainer: 2it [00:27, 27.45s/it]               \n"
     ]
    },
    {
     "data": {
      "application/vnd.jupyter.widget-view+json": {
       "model_id": "d524cd3ae1ae4c19b9573965fee18f7a",
       "version_major": 2,
       "version_minor": 0
      },
      "text/plain": [
       "  0%|          | 0/498 [00:00<?, ?it/s]"
      ]
     },
     "metadata": {},
     "output_type": "display_data"
    },
    {
     "name": "stderr",
     "output_type": "stream",
     "text": [
      "PartitionExplainer explainer: 2it [00:28, 28.62s/it]               \n"
     ]
    },
    {
     "data": {
      "application/vnd.jupyter.widget-view+json": {
       "model_id": "dfdf876ca359430dbca3da14de5d8f38",
       "version_major": 2,
       "version_minor": 0
      },
      "text/plain": [
       "  0%|          | 0/498 [00:00<?, ?it/s]"
      ]
     },
     "metadata": {},
     "output_type": "display_data"
    },
    {
     "name": "stderr",
     "output_type": "stream",
     "text": [
      "PartitionExplainer explainer: 2it [00:19, 19.18s/it]               \n"
     ]
    },
    {
     "data": {
      "application/vnd.jupyter.widget-view+json": {
       "model_id": "18e2fcb967254384b400dcc7de324ac4",
       "version_major": 2,
       "version_minor": 0
      },
      "text/plain": [
       "  0%|          | 0/498 [00:00<?, ?it/s]"
      ]
     },
     "metadata": {},
     "output_type": "display_data"
    },
    {
     "name": "stderr",
     "output_type": "stream",
     "text": [
      "PartitionExplainer explainer: 2it [00:16, 16.57s/it]               \n"
     ]
    },
    {
     "data": {
      "application/vnd.jupyter.widget-view+json": {
       "model_id": "11af9e384d3a4bfb86c8a7b922c6159b",
       "version_major": 2,
       "version_minor": 0
      },
      "text/plain": [
       "  0%|          | 0/498 [00:00<?, ?it/s]"
      ]
     },
     "metadata": {},
     "output_type": "display_data"
    },
    {
     "name": "stderr",
     "output_type": "stream",
     "text": [
      "PartitionExplainer explainer: 2it [00:21, 21.67s/it]               \n"
     ]
    },
    {
     "data": {
      "application/vnd.jupyter.widget-view+json": {
       "model_id": "7b91e9bdfb104ab2b96af8c87676c49f",
       "version_major": 2,
       "version_minor": 0
      },
      "text/plain": [
       "  0%|          | 0/498 [00:00<?, ?it/s]"
      ]
     },
     "metadata": {},
     "output_type": "display_data"
    },
    {
     "name": "stderr",
     "output_type": "stream",
     "text": [
      "PartitionExplainer explainer: 2it [00:26, 26.79s/it]               \n"
     ]
    },
    {
     "data": {
      "application/vnd.jupyter.widget-view+json": {
       "model_id": "35e6ce2551c249d5a17e547af32f1589",
       "version_major": 2,
       "version_minor": 0
      },
      "text/plain": [
       "  0%|          | 0/498 [00:00<?, ?it/s]"
      ]
     },
     "metadata": {},
     "output_type": "display_data"
    },
    {
     "name": "stderr",
     "output_type": "stream",
     "text": [
      "PartitionExplainer explainer: 2it [00:48, 48.31s/it]               \n"
     ]
    },
    {
     "data": {
      "application/vnd.jupyter.widget-view+json": {
       "model_id": "c0e2affb320644499d52a0c907494368",
       "version_major": 2,
       "version_minor": 0
      },
      "text/plain": [
       "  0%|          | 0/498 [00:00<?, ?it/s]"
      ]
     },
     "metadata": {},
     "output_type": "display_data"
    },
    {
     "name": "stderr",
     "output_type": "stream",
     "text": [
      "PartitionExplainer explainer: 2it [00:44, 44.65s/it]               \n",
      "PartitionExplainer explainer: 2it [00:10, 10.70s/it]               \n"
     ]
    },
    {
     "data": {
      "application/vnd.jupyter.widget-view+json": {
       "model_id": "df206d4d91494e39a47a852beb0bcbab",
       "version_major": 2,
       "version_minor": 0
      },
      "text/plain": [
       "  0%|          | 0/498 [00:00<?, ?it/s]"
      ]
     },
     "metadata": {},
     "output_type": "display_data"
    },
    {
     "name": "stderr",
     "output_type": "stream",
     "text": [
      "PartitionExplainer explainer: 2it [00:20, 20.31s/it]               \n"
     ]
    },
    {
     "data": {
      "application/vnd.jupyter.widget-view+json": {
       "model_id": "57d73d26f6904e5cb7bb5312bf9b459e",
       "version_major": 2,
       "version_minor": 0
      },
      "text/plain": [
       "  0%|          | 0/498 [00:00<?, ?it/s]"
      ]
     },
     "metadata": {},
     "output_type": "display_data"
    },
    {
     "name": "stderr",
     "output_type": "stream",
     "text": [
      "PartitionExplainer explainer: 2it [00:31, 31.12s/it]               \n"
     ]
    },
    {
     "data": {
      "application/vnd.jupyter.widget-view+json": {
       "model_id": "49e8f0698880434f9c7e340ef2c62843",
       "version_major": 2,
       "version_minor": 0
      },
      "text/plain": [
       "  0%|          | 0/498 [00:00<?, ?it/s]"
      ]
     },
     "metadata": {},
     "output_type": "display_data"
    },
    {
     "name": "stderr",
     "output_type": "stream",
     "text": [
      "PartitionExplainer explainer: 2it [00:35, 35.58s/it]               \n"
     ]
    },
    {
     "data": {
      "application/vnd.jupyter.widget-view+json": {
       "model_id": "34503e37782b457aa2a25a661cab10db",
       "version_major": 2,
       "version_minor": 0
      },
      "text/plain": [
       "  0%|          | 0/498 [00:00<?, ?it/s]"
      ]
     },
     "metadata": {},
     "output_type": "display_data"
    },
    {
     "name": "stderr",
     "output_type": "stream",
     "text": [
      "PartitionExplainer explainer: 2it [00:21, 21.48s/it]               \n"
     ]
    },
    {
     "data": {
      "application/vnd.jupyter.widget-view+json": {
       "model_id": "fd780b0b144a4d4cb15a4a7a49e44783",
       "version_major": 2,
       "version_minor": 0
      },
      "text/plain": [
       "  0%|          | 0/498 [00:00<?, ?it/s]"
      ]
     },
     "metadata": {},
     "output_type": "display_data"
    },
    {
     "name": "stderr",
     "output_type": "stream",
     "text": [
      "PartitionExplainer explainer: 2it [00:40, 40.12s/it]               \n"
     ]
    },
    {
     "data": {
      "application/vnd.jupyter.widget-view+json": {
       "model_id": "3d205b9443574a29aae9c28a18e11326",
       "version_major": 2,
       "version_minor": 0
      },
      "text/plain": [
       "  0%|          | 0/498 [00:00<?, ?it/s]"
      ]
     },
     "metadata": {},
     "output_type": "display_data"
    },
    {
     "name": "stderr",
     "output_type": "stream",
     "text": [
      "PartitionExplainer explainer: 2it [00:22, 22.69s/it]               \n",
      "Testing noise levels:  40%|████      | 6/15 [1:25:10<2:07:37, 850.86s/it]"
     ]
    },
    {
     "data": {
      "application/vnd.jupyter.widget-view+json": {
       "model_id": "45abcaf7bc6f4bb6bfab4070b3af8a92",
       "version_major": 2,
       "version_minor": 0
      },
      "text/plain": [
       "  0%|          | 0/498 [00:00<?, ?it/s]"
      ]
     },
     "metadata": {},
     "output_type": "display_data"
    },
    {
     "name": "stderr",
     "output_type": "stream",
     "text": [
      "PartitionExplainer explainer: 2it [00:30, 30.03s/it]               \n",
      "PartitionExplainer explainer: 2it [00:10, 10.16s/it]               \n"
     ]
    },
    {
     "data": {
      "application/vnd.jupyter.widget-view+json": {
       "model_id": "936ac42880394c198b46f44ae354de67",
       "version_major": 2,
       "version_minor": 0
      },
      "text/plain": [
       "  0%|          | 0/498 [00:00<?, ?it/s]"
      ]
     },
     "metadata": {},
     "output_type": "display_data"
    },
    {
     "name": "stderr",
     "output_type": "stream",
     "text": [
      "PartitionExplainer explainer: 2it [00:30, 30.94s/it]               \n"
     ]
    },
    {
     "data": {
      "application/vnd.jupyter.widget-view+json": {
       "model_id": "8186d3cd95164731905d11ae221dda01",
       "version_major": 2,
       "version_minor": 0
      },
      "text/plain": [
       "  0%|          | 0/498 [00:00<?, ?it/s]"
      ]
     },
     "metadata": {},
     "output_type": "display_data"
    },
    {
     "name": "stderr",
     "output_type": "stream",
     "text": [
      "PartitionExplainer explainer: 2it [00:25, 25.66s/it]               \n"
     ]
    },
    {
     "data": {
      "application/vnd.jupyter.widget-view+json": {
       "model_id": "9f7fb00034cf4a26abe3e614d1f1e348",
       "version_major": 2,
       "version_minor": 0
      },
      "text/plain": [
       "  0%|          | 0/498 [00:00<?, ?it/s]"
      ]
     },
     "metadata": {},
     "output_type": "display_data"
    },
    {
     "name": "stderr",
     "output_type": "stream",
     "text": [
      "PartitionExplainer explainer: 2it [00:26, 26.28s/it]               \n"
     ]
    },
    {
     "data": {
      "application/vnd.jupyter.widget-view+json": {
       "model_id": "10310c69f6f248a59c2e1b4aff840226",
       "version_major": 2,
       "version_minor": 0
      },
      "text/plain": [
       "  0%|          | 0/498 [00:00<?, ?it/s]"
      ]
     },
     "metadata": {},
     "output_type": "display_data"
    },
    {
     "name": "stderr",
     "output_type": "stream",
     "text": [
      "PartitionExplainer explainer: 2it [00:14, 14.59s/it]               \n"
     ]
    },
    {
     "data": {
      "application/vnd.jupyter.widget-view+json": {
       "model_id": "75105cabddfb4f61829f0d38bdb847dd",
       "version_major": 2,
       "version_minor": 0
      },
      "text/plain": [
       "  0%|          | 0/498 [00:00<?, ?it/s]"
      ]
     },
     "metadata": {},
     "output_type": "display_data"
    },
    {
     "name": "stderr",
     "output_type": "stream",
     "text": [
      "PartitionExplainer explainer: 2it [00:22, 22.29s/it]               \n"
     ]
    },
    {
     "data": {
      "application/vnd.jupyter.widget-view+json": {
       "model_id": "327e1c65eb8642b9a4a7d248aa5ab783",
       "version_major": 2,
       "version_minor": 0
      },
      "text/plain": [
       "  0%|          | 0/498 [00:00<?, ?it/s]"
      ]
     },
     "metadata": {},
     "output_type": "display_data"
    },
    {
     "name": "stderr",
     "output_type": "stream",
     "text": [
      "PartitionExplainer explainer: 2it [00:46, 46.55s/it]               \n",
      "PartitionExplainer explainer: 2it [00:11, 11.68s/it]               \n"
     ]
    },
    {
     "data": {
      "application/vnd.jupyter.widget-view+json": {
       "model_id": "712533a581304f33ab1d393c3855c6ce",
       "version_major": 2,
       "version_minor": 0
      },
      "text/plain": [
       "  0%|          | 0/498 [00:00<?, ?it/s]"
      ]
     },
     "metadata": {},
     "output_type": "display_data"
    },
    {
     "name": "stderr",
     "output_type": "stream",
     "text": [
      "PartitionExplainer explainer: 2it [00:38, 38.46s/it]               \n"
     ]
    },
    {
     "data": {
      "application/vnd.jupyter.widget-view+json": {
       "model_id": "06bd781f87c84b42aca8c50a3c5d5056",
       "version_major": 2,
       "version_minor": 0
      },
      "text/plain": [
       "  0%|          | 0/498 [00:00<?, ?it/s]"
      ]
     },
     "metadata": {},
     "output_type": "display_data"
    },
    {
     "name": "stderr",
     "output_type": "stream",
     "text": [
      "PartitionExplainer explainer: 2it [00:21, 21.26s/it]               \n",
      "PartitionExplainer explainer: 2it [00:12, 12.34s/it]               \n"
     ]
    },
    {
     "data": {
      "application/vnd.jupyter.widget-view+json": {
       "model_id": "ab4b04ca03e941e5b7ac08d7cb2203d8",
       "version_major": 2,
       "version_minor": 0
      },
      "text/plain": [
       "  0%|          | 0/498 [00:00<?, ?it/s]"
      ]
     },
     "metadata": {},
     "output_type": "display_data"
    },
    {
     "name": "stderr",
     "output_type": "stream",
     "text": [
      "PartitionExplainer explainer: 2it [00:12, 12.72s/it]               \n"
     ]
    },
    {
     "data": {
      "application/vnd.jupyter.widget-view+json": {
       "model_id": "71798cb388b3419aacffaa3d702cc313",
       "version_major": 2,
       "version_minor": 0
      },
      "text/plain": [
       "  0%|          | 0/498 [00:00<?, ?it/s]"
      ]
     },
     "metadata": {},
     "output_type": "display_data"
    },
    {
     "name": "stderr",
     "output_type": "stream",
     "text": [
      "PartitionExplainer explainer: 2it [00:22, 22.38s/it]               \n"
     ]
    },
    {
     "data": {
      "application/vnd.jupyter.widget-view+json": {
       "model_id": "8e1051bb7e544cceba7332a5722147ce",
       "version_major": 2,
       "version_minor": 0
      },
      "text/plain": [
       "  0%|          | 0/498 [00:00<?, ?it/s]"
      ]
     },
     "metadata": {},
     "output_type": "display_data"
    },
    {
     "name": "stderr",
     "output_type": "stream",
     "text": [
      "PartitionExplainer explainer: 2it [00:27, 27.43s/it]               \n"
     ]
    },
    {
     "data": {
      "application/vnd.jupyter.widget-view+json": {
       "model_id": "74c1d7b7c7044736af1322ff95de3e83",
       "version_major": 2,
       "version_minor": 0
      },
      "text/plain": [
       "  0%|          | 0/498 [00:00<?, ?it/s]"
      ]
     },
     "metadata": {},
     "output_type": "display_data"
    },
    {
     "name": "stderr",
     "output_type": "stream",
     "text": [
      "PartitionExplainer explainer: 2it [00:28, 28.64s/it]               \n"
     ]
    },
    {
     "data": {
      "application/vnd.jupyter.widget-view+json": {
       "model_id": "d9c59af3ede14bde9aa1f1577f53542e",
       "version_major": 2,
       "version_minor": 0
      },
      "text/plain": [
       "  0%|          | 0/498 [00:00<?, ?it/s]"
      ]
     },
     "metadata": {},
     "output_type": "display_data"
    },
    {
     "name": "stderr",
     "output_type": "stream",
     "text": [
      "PartitionExplainer explainer: 2it [00:19, 19.22s/it]               \n"
     ]
    },
    {
     "data": {
      "application/vnd.jupyter.widget-view+json": {
       "model_id": "d1f5aab15a9d43bda5cf4bd8d9a85030",
       "version_major": 2,
       "version_minor": 0
      },
      "text/plain": [
       "  0%|          | 0/498 [00:00<?, ?it/s]"
      ]
     },
     "metadata": {},
     "output_type": "display_data"
    },
    {
     "name": "stderr",
     "output_type": "stream",
     "text": [
      "PartitionExplainer explainer: 2it [00:16, 16.22s/it]               \n"
     ]
    },
    {
     "data": {
      "application/vnd.jupyter.widget-view+json": {
       "model_id": "ac27dc73a5654f4c91acccc8b0793dd6",
       "version_major": 2,
       "version_minor": 0
      },
      "text/plain": [
       "  0%|          | 0/498 [00:00<?, ?it/s]"
      ]
     },
     "metadata": {},
     "output_type": "display_data"
    },
    {
     "name": "stderr",
     "output_type": "stream",
     "text": [
      "PartitionExplainer explainer: 2it [00:22, 22.37s/it]               \n"
     ]
    },
    {
     "data": {
      "application/vnd.jupyter.widget-view+json": {
       "model_id": "958f445f76cb40a7bf9d0a44770c37a6",
       "version_major": 2,
       "version_minor": 0
      },
      "text/plain": [
       "  0%|          | 0/498 [00:00<?, ?it/s]"
      ]
     },
     "metadata": {},
     "output_type": "display_data"
    },
    {
     "name": "stderr",
     "output_type": "stream",
     "text": [
      "PartitionExplainer explainer: 2it [00:33, 33.92s/it]               \n"
     ]
    },
    {
     "data": {
      "application/vnd.jupyter.widget-view+json": {
       "model_id": "06b83106c5da4ef29fb9820bf454654b",
       "version_major": 2,
       "version_minor": 0
      },
      "text/plain": [
       "  0%|          | 0/498 [00:00<?, ?it/s]"
      ]
     },
     "metadata": {},
     "output_type": "display_data"
    },
    {
     "name": "stderr",
     "output_type": "stream",
     "text": [
      "PartitionExplainer explainer: 2it [00:48, 48.75s/it]               \n"
     ]
    },
    {
     "data": {
      "application/vnd.jupyter.widget-view+json": {
       "model_id": "f1fbe5c7aae94bf68302fd97b2314a98",
       "version_major": 2,
       "version_minor": 0
      },
      "text/plain": [
       "  0%|          | 0/498 [00:00<?, ?it/s]"
      ]
     },
     "metadata": {},
     "output_type": "display_data"
    },
    {
     "name": "stderr",
     "output_type": "stream",
     "text": [
      "PartitionExplainer explainer: 2it [00:46, 46.72s/it]               \n",
      "PartitionExplainer explainer: 2it [00:10, 10.87s/it]               \n"
     ]
    },
    {
     "data": {
      "application/vnd.jupyter.widget-view+json": {
       "model_id": "f0a4183121b644eba950a3aed922d48f",
       "version_major": 2,
       "version_minor": 0
      },
      "text/plain": [
       "  0%|          | 0/498 [00:00<?, ?it/s]"
      ]
     },
     "metadata": {},
     "output_type": "display_data"
    },
    {
     "name": "stderr",
     "output_type": "stream",
     "text": [
      "PartitionExplainer explainer: 2it [00:20, 20.51s/it]               \n"
     ]
    },
    {
     "data": {
      "application/vnd.jupyter.widget-view+json": {
       "model_id": "defec4720a1d4680a9d423e4cdd77a17",
       "version_major": 2,
       "version_minor": 0
      },
      "text/plain": [
       "  0%|          | 0/498 [00:00<?, ?it/s]"
      ]
     },
     "metadata": {},
     "output_type": "display_data"
    },
    {
     "name": "stderr",
     "output_type": "stream",
     "text": [
      "PartitionExplainer explainer: 2it [00:31, 31.24s/it]               \n"
     ]
    },
    {
     "data": {
      "application/vnd.jupyter.widget-view+json": {
       "model_id": "17761f0876474189bb85e5bc27456964",
       "version_major": 2,
       "version_minor": 0
      },
      "text/plain": [
       "  0%|          | 0/498 [00:00<?, ?it/s]"
      ]
     },
     "metadata": {},
     "output_type": "display_data"
    },
    {
     "name": "stderr",
     "output_type": "stream",
     "text": [
      "PartitionExplainer explainer: 2it [00:36, 36.05s/it]               \n"
     ]
    },
    {
     "data": {
      "application/vnd.jupyter.widget-view+json": {
       "model_id": "bc5dc1cacb114ecfbb97f80d06fcb293",
       "version_major": 2,
       "version_minor": 0
      },
      "text/plain": [
       "  0%|          | 0/498 [00:00<?, ?it/s]"
      ]
     },
     "metadata": {},
     "output_type": "display_data"
    },
    {
     "name": "stderr",
     "output_type": "stream",
     "text": [
      "PartitionExplainer explainer: 2it [00:21, 21.91s/it]               \n"
     ]
    },
    {
     "data": {
      "application/vnd.jupyter.widget-view+json": {
       "model_id": "b121fb4055e040f0afed3da299d4fa61",
       "version_major": 2,
       "version_minor": 0
      },
      "text/plain": [
       "  0%|          | 0/498 [00:00<?, ?it/s]"
      ]
     },
     "metadata": {},
     "output_type": "display_data"
    },
    {
     "name": "stderr",
     "output_type": "stream",
     "text": [
      "PartitionExplainer explainer: 2it [00:40, 40.12s/it]               \n"
     ]
    },
    {
     "data": {
      "application/vnd.jupyter.widget-view+json": {
       "model_id": "56df3e48e36f45ea826c32757c25a365",
       "version_major": 2,
       "version_minor": 0
      },
      "text/plain": [
       "  0%|          | 0/498 [00:00<?, ?it/s]"
      ]
     },
     "metadata": {},
     "output_type": "display_data"
    },
    {
     "name": "stderr",
     "output_type": "stream",
     "text": [
      "PartitionExplainer explainer: 2it [00:22, 22.77s/it]               \n",
      "Testing noise levels:  47%|████▋     | 7/15 [1:39:29<1:53:49, 853.64s/it]"
     ]
    },
    {
     "data": {
      "application/vnd.jupyter.widget-view+json": {
       "model_id": "86b0db158d464e2b8e710dd0425d46d7",
       "version_major": 2,
       "version_minor": 0
      },
      "text/plain": [
       "  0%|          | 0/498 [00:00<?, ?it/s]"
      ]
     },
     "metadata": {},
     "output_type": "display_data"
    },
    {
     "name": "stderr",
     "output_type": "stream",
     "text": [
      "PartitionExplainer explainer: 2it [00:30, 30.35s/it]               \n"
     ]
    },
    {
     "data": {
      "application/vnd.jupyter.widget-view+json": {
       "model_id": "785deb06381d4132934788cdefc673e6",
       "version_major": 2,
       "version_minor": 0
      },
      "text/plain": [
       "  0%|          | 0/498 [00:00<?, ?it/s]"
      ]
     },
     "metadata": {},
     "output_type": "display_data"
    },
    {
     "name": "stderr",
     "output_type": "stream",
     "text": [
      "PartitionExplainer explainer: 2it [00:30, 30.91s/it]               \n"
     ]
    },
    {
     "data": {
      "application/vnd.jupyter.widget-view+json": {
       "model_id": "6cf0555baf8f4452a0004a0a0db963b6",
       "version_major": 2,
       "version_minor": 0
      },
      "text/plain": [
       "  0%|          | 0/498 [00:00<?, ?it/s]"
      ]
     },
     "metadata": {},
     "output_type": "display_data"
    },
    {
     "name": "stderr",
     "output_type": "stream",
     "text": [
      "PartitionExplainer explainer: 2it [00:26, 26.04s/it]               \n"
     ]
    },
    {
     "data": {
      "application/vnd.jupyter.widget-view+json": {
       "model_id": "599b74e71325436999a8f2ac42b3ea44",
       "version_major": 2,
       "version_minor": 0
      },
      "text/plain": [
       "  0%|          | 0/498 [00:00<?, ?it/s]"
      ]
     },
     "metadata": {},
     "output_type": "display_data"
    },
    {
     "name": "stderr",
     "output_type": "stream",
     "text": [
      "PartitionExplainer explainer: 2it [00:25, 25.40s/it]               \n"
     ]
    },
    {
     "data": {
      "application/vnd.jupyter.widget-view+json": {
       "model_id": "78a2670f61354761902e9efe65b615d1",
       "version_major": 2,
       "version_minor": 0
      },
      "text/plain": [
       "  0%|          | 0/498 [00:00<?, ?it/s]"
      ]
     },
     "metadata": {},
     "output_type": "display_data"
    },
    {
     "name": "stderr",
     "output_type": "stream",
     "text": [
      "PartitionExplainer explainer: 2it [00:15, 15.03s/it]               \n"
     ]
    },
    {
     "data": {
      "application/vnd.jupyter.widget-view+json": {
       "model_id": "fa831e04d1de4a89a1b9e18afbf2bf7a",
       "version_major": 2,
       "version_minor": 0
      },
      "text/plain": [
       "  0%|          | 0/498 [00:00<?, ?it/s]"
      ]
     },
     "metadata": {},
     "output_type": "display_data"
    },
    {
     "name": "stderr",
     "output_type": "stream",
     "text": [
      "PartitionExplainer explainer: 2it [00:22, 22.82s/it]               \n"
     ]
    },
    {
     "data": {
      "application/vnd.jupyter.widget-view+json": {
       "model_id": "cc595335dbda41938be5556d34d1cb5e",
       "version_major": 2,
       "version_minor": 0
      },
      "text/plain": [
       "  0%|          | 0/498 [00:00<?, ?it/s]"
      ]
     },
     "metadata": {},
     "output_type": "display_data"
    },
    {
     "name": "stderr",
     "output_type": "stream",
     "text": [
      "PartitionExplainer explainer: 2it [00:46, 46.62s/it]               \n"
     ]
    },
    {
     "data": {
      "application/vnd.jupyter.widget-view+json": {
       "model_id": "34dc27a732714910be83f317f37a0e46",
       "version_major": 2,
       "version_minor": 0
      },
      "text/plain": [
       "  0%|          | 0/498 [00:00<?, ?it/s]"
      ]
     },
     "metadata": {},
     "output_type": "display_data"
    },
    {
     "name": "stderr",
     "output_type": "stream",
     "text": [
      "PartitionExplainer explainer: 2it [00:12, 12.79s/it]               \n"
     ]
    },
    {
     "data": {
      "application/vnd.jupyter.widget-view+json": {
       "model_id": "26c27f86275640eaad7568695d7ccc50",
       "version_major": 2,
       "version_minor": 0
      },
      "text/plain": [
       "  0%|          | 0/498 [00:00<?, ?it/s]"
      ]
     },
     "metadata": {},
     "output_type": "display_data"
    },
    {
     "name": "stderr",
     "output_type": "stream",
     "text": [
      "PartitionExplainer explainer: 2it [00:38, 38.17s/it]               \n"
     ]
    },
    {
     "data": {
      "application/vnd.jupyter.widget-view+json": {
       "model_id": "5eea11670f30408d9382d2c909ed5610",
       "version_major": 2,
       "version_minor": 0
      },
      "text/plain": [
       "  0%|          | 0/498 [00:00<?, ?it/s]"
      ]
     },
     "metadata": {},
     "output_type": "display_data"
    },
    {
     "name": "stderr",
     "output_type": "stream",
     "text": [
      "PartitionExplainer explainer: 2it [00:21, 21.36s/it]               \n"
     ]
    },
    {
     "data": {
      "application/vnd.jupyter.widget-view+json": {
       "model_id": "8e1d4127d4014c1ea6942934c0c4d8e3",
       "version_major": 2,
       "version_minor": 0
      },
      "text/plain": [
       "  0%|          | 0/498 [00:00<?, ?it/s]"
      ]
     },
     "metadata": {},
     "output_type": "display_data"
    },
    {
     "name": "stderr",
     "output_type": "stream",
     "text": [
      "PartitionExplainer explainer: 2it [00:12, 12.70s/it]               \n"
     ]
    },
    {
     "data": {
      "application/vnd.jupyter.widget-view+json": {
       "model_id": "c07fa64710c74758a1a585d07873eadf",
       "version_major": 2,
       "version_minor": 0
      },
      "text/plain": [
       "  0%|          | 0/498 [00:00<?, ?it/s]"
      ]
     },
     "metadata": {},
     "output_type": "display_data"
    },
    {
     "name": "stderr",
     "output_type": "stream",
     "text": [
      "PartitionExplainer explainer: 2it [00:12, 12.97s/it]               \n"
     ]
    },
    {
     "data": {
      "application/vnd.jupyter.widget-view+json": {
       "model_id": "eca1d1c8b289405cb779da8f1fca98f9",
       "version_major": 2,
       "version_minor": 0
      },
      "text/plain": [
       "  0%|          | 0/498 [00:00<?, ?it/s]"
      ]
     },
     "metadata": {},
     "output_type": "display_data"
    },
    {
     "name": "stderr",
     "output_type": "stream",
     "text": [
      "PartitionExplainer explainer: 2it [00:22, 22.35s/it]               \n"
     ]
    },
    {
     "data": {
      "application/vnd.jupyter.widget-view+json": {
       "model_id": "0d82c53ac2e246ff97b50b83af9a4d78",
       "version_major": 2,
       "version_minor": 0
      },
      "text/plain": [
       "  0%|          | 0/498 [00:00<?, ?it/s]"
      ]
     },
     "metadata": {},
     "output_type": "display_data"
    },
    {
     "name": "stderr",
     "output_type": "stream",
     "text": [
      "PartitionExplainer explainer: 2it [00:28, 28.00s/it]               \n"
     ]
    },
    {
     "data": {
      "application/vnd.jupyter.widget-view+json": {
       "model_id": "184489a7f76c485da8d36ac0f7e7ab06",
       "version_major": 2,
       "version_minor": 0
      },
      "text/plain": [
       "  0%|          | 0/498 [00:00<?, ?it/s]"
      ]
     },
     "metadata": {},
     "output_type": "display_data"
    },
    {
     "name": "stderr",
     "output_type": "stream",
     "text": [
      "PartitionExplainer explainer: 2it [00:28, 28.80s/it]               \n"
     ]
    },
    {
     "data": {
      "application/vnd.jupyter.widget-view+json": {
       "model_id": "7b8021c3b2d842709be2867bfd1e5feb",
       "version_major": 2,
       "version_minor": 0
      },
      "text/plain": [
       "  0%|          | 0/498 [00:00<?, ?it/s]"
      ]
     },
     "metadata": {},
     "output_type": "display_data"
    },
    {
     "name": "stderr",
     "output_type": "stream",
     "text": [
      "PartitionExplainer explainer: 2it [00:19, 19.19s/it]               \n"
     ]
    },
    {
     "data": {
      "application/vnd.jupyter.widget-view+json": {
       "model_id": "7bb9cf26eac9415f8d77fdbb90d5229e",
       "version_major": 2,
       "version_minor": 0
      },
      "text/plain": [
       "  0%|          | 0/498 [00:00<?, ?it/s]"
      ]
     },
     "metadata": {},
     "output_type": "display_data"
    },
    {
     "name": "stderr",
     "output_type": "stream",
     "text": [
      "PartitionExplainer explainer: 2it [00:16, 16.51s/it]               \n"
     ]
    },
    {
     "data": {
      "application/vnd.jupyter.widget-view+json": {
       "model_id": "1d2cef49a66043cd89225203726ada04",
       "version_major": 2,
       "version_minor": 0
      },
      "text/plain": [
       "  0%|          | 0/498 [00:00<?, ?it/s]"
      ]
     },
     "metadata": {},
     "output_type": "display_data"
    },
    {
     "name": "stderr",
     "output_type": "stream",
     "text": [
      "PartitionExplainer explainer: 2it [00:21, 21.95s/it]               \n"
     ]
    },
    {
     "data": {
      "application/vnd.jupyter.widget-view+json": {
       "model_id": "3768f121e78346559da01aeeb1b8e28a",
       "version_major": 2,
       "version_minor": 0
      },
      "text/plain": [
       "  0%|          | 0/498 [00:00<?, ?it/s]"
      ]
     },
     "metadata": {},
     "output_type": "display_data"
    },
    {
     "name": "stderr",
     "output_type": "stream",
     "text": [
      "PartitionExplainer explainer: 2it [00:27, 27.14s/it]               \n"
     ]
    },
    {
     "data": {
      "application/vnd.jupyter.widget-view+json": {
       "model_id": "f45bece2b87d44149ec8f128db5c700f",
       "version_major": 2,
       "version_minor": 0
      },
      "text/plain": [
       "  0%|          | 0/498 [00:00<?, ?it/s]"
      ]
     },
     "metadata": {},
     "output_type": "display_data"
    },
    {
     "name": "stderr",
     "output_type": "stream",
     "text": [
      "PartitionExplainer explainer: 2it [00:48, 48.47s/it]               \n"
     ]
    },
    {
     "data": {
      "application/vnd.jupyter.widget-view+json": {
       "model_id": "3c8b72f026b4484d942996bb80d49351",
       "version_major": 2,
       "version_minor": 0
      },
      "text/plain": [
       "  0%|          | 0/498 [00:00<?, ?it/s]"
      ]
     },
     "metadata": {},
     "output_type": "display_data"
    },
    {
     "name": "stderr",
     "output_type": "stream",
     "text": [
      "PartitionExplainer explainer: 2it [00:44, 44.91s/it]               \n",
      "PartitionExplainer explainer: 2it [00:10, 10.73s/it]               \n"
     ]
    },
    {
     "data": {
      "application/vnd.jupyter.widget-view+json": {
       "model_id": "e9e8e4bce80141409031683271a190f2",
       "version_major": 2,
       "version_minor": 0
      },
      "text/plain": [
       "  0%|          | 0/498 [00:00<?, ?it/s]"
      ]
     },
     "metadata": {},
     "output_type": "display_data"
    },
    {
     "name": "stderr",
     "output_type": "stream",
     "text": [
      "PartitionExplainer explainer: 2it [00:20, 20.79s/it]               \n"
     ]
    },
    {
     "data": {
      "application/vnd.jupyter.widget-view+json": {
       "model_id": "bd01aba5af2f4ba9a3064cba61094e2c",
       "version_major": 2,
       "version_minor": 0
      },
      "text/plain": [
       "  0%|          | 0/498 [00:00<?, ?it/s]"
      ]
     },
     "metadata": {},
     "output_type": "display_data"
    },
    {
     "name": "stderr",
     "output_type": "stream",
     "text": [
      "PartitionExplainer explainer: 2it [00:30, 30.34s/it]               \n"
     ]
    },
    {
     "data": {
      "application/vnd.jupyter.widget-view+json": {
       "model_id": "a1622c23d2e74e64bca1f3a9610d7fca",
       "version_major": 2,
       "version_minor": 0
      },
      "text/plain": [
       "  0%|          | 0/498 [00:00<?, ?it/s]"
      ]
     },
     "metadata": {},
     "output_type": "display_data"
    },
    {
     "name": "stderr",
     "output_type": "stream",
     "text": [
      "PartitionExplainer explainer: 2it [00:35, 35.89s/it]               \n"
     ]
    },
    {
     "data": {
      "application/vnd.jupyter.widget-view+json": {
       "model_id": "87689e1f60944d2a8389f321202c2311",
       "version_major": 2,
       "version_minor": 0
      },
      "text/plain": [
       "  0%|          | 0/498 [00:00<?, ?it/s]"
      ]
     },
     "metadata": {},
     "output_type": "display_data"
    },
    {
     "name": "stderr",
     "output_type": "stream",
     "text": [
      "PartitionExplainer explainer: 2it [00:21, 21.76s/it]               \n"
     ]
    },
    {
     "data": {
      "application/vnd.jupyter.widget-view+json": {
       "model_id": "543c68b7882c4ffa8aa12289eb40c6c0",
       "version_major": 2,
       "version_minor": 0
      },
      "text/plain": [
       "  0%|          | 0/498 [00:00<?, ?it/s]"
      ]
     },
     "metadata": {},
     "output_type": "display_data"
    },
    {
     "name": "stderr",
     "output_type": "stream",
     "text": [
      "PartitionExplainer explainer: 2it [00:40, 40.34s/it]               \n"
     ]
    },
    {
     "data": {
      "application/vnd.jupyter.widget-view+json": {
       "model_id": "c1aa9de2c6cc4ac0afd4c49ec0e12854",
       "version_major": 2,
       "version_minor": 0
      },
      "text/plain": [
       "  0%|          | 0/498 [00:00<?, ?it/s]"
      ]
     },
     "metadata": {},
     "output_type": "display_data"
    },
    {
     "name": "stderr",
     "output_type": "stream",
     "text": [
      "PartitionExplainer explainer: 2it [00:22, 22.40s/it]               \n",
      "Testing noise levels:  53%|█████▎    | 8/15 [1:53:43<1:39:35, 853.60s/it]"
     ]
    },
    {
     "data": {
      "application/vnd.jupyter.widget-view+json": {
       "model_id": "90561a1443f44eadbbac06de4d615c29",
       "version_major": 2,
       "version_minor": 0
      },
      "text/plain": [
       "  0%|          | 0/498 [00:00<?, ?it/s]"
      ]
     },
     "metadata": {},
     "output_type": "display_data"
    },
    {
     "name": "stderr",
     "output_type": "stream",
     "text": [
      "PartitionExplainer explainer: 2it [00:30, 30.31s/it]               \n",
      "PartitionExplainer explainer: 2it [00:10, 10.17s/it]               \n"
     ]
    },
    {
     "data": {
      "application/vnd.jupyter.widget-view+json": {
       "model_id": "2dc785705bc248a7965cca31a8d2b3c0",
       "version_major": 2,
       "version_minor": 0
      },
      "text/plain": [
       "  0%|          | 0/498 [00:00<?, ?it/s]"
      ]
     },
     "metadata": {},
     "output_type": "display_data"
    },
    {
     "name": "stderr",
     "output_type": "stream",
     "text": [
      "PartitionExplainer explainer: 2it [00:30, 30.65s/it]               \n"
     ]
    },
    {
     "data": {
      "application/vnd.jupyter.widget-view+json": {
       "model_id": "b2e165084cc2448da8f4aed84a3ef781",
       "version_major": 2,
       "version_minor": 0
      },
      "text/plain": [
       "  0%|          | 0/498 [00:00<?, ?it/s]"
      ]
     },
     "metadata": {},
     "output_type": "display_data"
    },
    {
     "name": "stderr",
     "output_type": "stream",
     "text": [
      "PartitionExplainer explainer: 2it [00:25, 25.81s/it]               \n"
     ]
    },
    {
     "data": {
      "application/vnd.jupyter.widget-view+json": {
       "model_id": "289414441853424ab70e0f271d077c39",
       "version_major": 2,
       "version_minor": 0
      },
      "text/plain": [
       "  0%|          | 0/498 [00:00<?, ?it/s]"
      ]
     },
     "metadata": {},
     "output_type": "display_data"
    },
    {
     "name": "stderr",
     "output_type": "stream",
     "text": [
      "PartitionExplainer explainer: 2it [00:24, 24.80s/it]               \n"
     ]
    },
    {
     "data": {
      "application/vnd.jupyter.widget-view+json": {
       "model_id": "e9ec840c897f41c485103d068b6d0f2d",
       "version_major": 2,
       "version_minor": 0
      },
      "text/plain": [
       "  0%|          | 0/498 [00:00<?, ?it/s]"
      ]
     },
     "metadata": {},
     "output_type": "display_data"
    },
    {
     "name": "stderr",
     "output_type": "stream",
     "text": [
      "PartitionExplainer explainer: 2it [00:15, 15.05s/it]               \n"
     ]
    },
    {
     "data": {
      "application/vnd.jupyter.widget-view+json": {
       "model_id": "5e3ea97a99fd4906b3d03ce2c8299f58",
       "version_major": 2,
       "version_minor": 0
      },
      "text/plain": [
       "  0%|          | 0/498 [00:00<?, ?it/s]"
      ]
     },
     "metadata": {},
     "output_type": "display_data"
    },
    {
     "name": "stderr",
     "output_type": "stream",
     "text": [
      "PartitionExplainer explainer: 2it [00:22, 22.73s/it]               \n"
     ]
    },
    {
     "data": {
      "application/vnd.jupyter.widget-view+json": {
       "model_id": "257c1c7ee2f8436d99df32e3c644c9a5",
       "version_major": 2,
       "version_minor": 0
      },
      "text/plain": [
       "  0%|          | 0/498 [00:00<?, ?it/s]"
      ]
     },
     "metadata": {},
     "output_type": "display_data"
    },
    {
     "name": "stderr",
     "output_type": "stream",
     "text": [
      "PartitionExplainer explainer: 2it [00:55, 55.92s/it]               \n"
     ]
    },
    {
     "data": {
      "application/vnd.jupyter.widget-view+json": {
       "model_id": "3e9f9eaad5f042a382381c5283fccc6a",
       "version_major": 2,
       "version_minor": 0
      },
      "text/plain": [
       "  0%|          | 0/498 [00:00<?, ?it/s]"
      ]
     },
     "metadata": {},
     "output_type": "display_data"
    },
    {
     "name": "stderr",
     "output_type": "stream",
     "text": [
      "PartitionExplainer explainer: 2it [00:14, 14.43s/it]               \n"
     ]
    },
    {
     "data": {
      "application/vnd.jupyter.widget-view+json": {
       "model_id": "20b176def82b4f599b4673bc5f066b09",
       "version_major": 2,
       "version_minor": 0
      },
      "text/plain": [
       "  0%|          | 0/498 [00:00<?, ?it/s]"
      ]
     },
     "metadata": {},
     "output_type": "display_data"
    },
    {
     "name": "stderr",
     "output_type": "stream",
     "text": [
      "PartitionExplainer explainer: 2it [00:37, 37.41s/it]               \n"
     ]
    },
    {
     "data": {
      "application/vnd.jupyter.widget-view+json": {
       "model_id": "a952d0e4409f4b58a911b01093ef80c9",
       "version_major": 2,
       "version_minor": 0
      },
      "text/plain": [
       "  0%|          | 0/498 [00:00<?, ?it/s]"
      ]
     },
     "metadata": {},
     "output_type": "display_data"
    },
    {
     "name": "stderr",
     "output_type": "stream",
     "text": [
      "PartitionExplainer explainer: 2it [00:20, 20.83s/it]               \n",
      "PartitionExplainer explainer: 2it [00:12, 12.34s/it]               \n",
      "PartitionExplainer explainer: 2it [00:12, 12.59s/it]               \n"
     ]
    },
    {
     "data": {
      "application/vnd.jupyter.widget-view+json": {
       "model_id": "5c13538750ce48739e89bb85afe7f39b",
       "version_major": 2,
       "version_minor": 0
      },
      "text/plain": [
       "  0%|          | 0/498 [00:00<?, ?it/s]"
      ]
     },
     "metadata": {},
     "output_type": "display_data"
    },
    {
     "name": "stderr",
     "output_type": "stream",
     "text": [
      "PartitionExplainer explainer: 2it [00:22, 22.70s/it]               \n"
     ]
    },
    {
     "data": {
      "application/vnd.jupyter.widget-view+json": {
       "model_id": "b9d4e62df37d425d99ddd367f569b584",
       "version_major": 2,
       "version_minor": 0
      },
      "text/plain": [
       "  0%|          | 0/498 [00:00<?, ?it/s]"
      ]
     },
     "metadata": {},
     "output_type": "display_data"
    },
    {
     "name": "stderr",
     "output_type": "stream",
     "text": [
      "PartitionExplainer explainer: 2it [00:27, 27.39s/it]               \n"
     ]
    },
    {
     "data": {
      "application/vnd.jupyter.widget-view+json": {
       "model_id": "ad8b240f05f54e5e896cb36240fd37e9",
       "version_major": 2,
       "version_minor": 0
      },
      "text/plain": [
       "  0%|          | 0/498 [00:00<?, ?it/s]"
      ]
     },
     "metadata": {},
     "output_type": "display_data"
    },
    {
     "name": "stderr",
     "output_type": "stream",
     "text": [
      "PartitionExplainer explainer: 2it [00:29, 29.22s/it]               \n"
     ]
    },
    {
     "data": {
      "application/vnd.jupyter.widget-view+json": {
       "model_id": "975069dd8b7745f38489f19aef066e73",
       "version_major": 2,
       "version_minor": 0
      },
      "text/plain": [
       "  0%|          | 0/498 [00:00<?, ?it/s]"
      ]
     },
     "metadata": {},
     "output_type": "display_data"
    },
    {
     "name": "stderr",
     "output_type": "stream",
     "text": [
      "PartitionExplainer explainer: 2it [00:19, 19.09s/it]               \n"
     ]
    },
    {
     "data": {
      "application/vnd.jupyter.widget-view+json": {
       "model_id": "3a13ee68469448598cb7094e5dd44e15",
       "version_major": 2,
       "version_minor": 0
      },
      "text/plain": [
       "  0%|          | 0/498 [00:00<?, ?it/s]"
      ]
     },
     "metadata": {},
     "output_type": "display_data"
    },
    {
     "name": "stderr",
     "output_type": "stream",
     "text": [
      "PartitionExplainer explainer: 2it [00:16, 16.61s/it]               \n"
     ]
    },
    {
     "data": {
      "application/vnd.jupyter.widget-view+json": {
       "model_id": "78e7afb90b7e4e7286d8a42089113089",
       "version_major": 2,
       "version_minor": 0
      },
      "text/plain": [
       "  0%|          | 0/498 [00:00<?, ?it/s]"
      ]
     },
     "metadata": {},
     "output_type": "display_data"
    },
    {
     "name": "stderr",
     "output_type": "stream",
     "text": [
      "PartitionExplainer explainer: 2it [00:21, 21.73s/it]               \n"
     ]
    },
    {
     "data": {
      "application/vnd.jupyter.widget-view+json": {
       "model_id": "d81f99915d2e44d8a314ff2c9028bc16",
       "version_major": 2,
       "version_minor": 0
      },
      "text/plain": [
       "  0%|          | 0/498 [00:00<?, ?it/s]"
      ]
     },
     "metadata": {},
     "output_type": "display_data"
    },
    {
     "name": "stderr",
     "output_type": "stream",
     "text": [
      "PartitionExplainer explainer: 2it [00:27, 27.15s/it]               \n"
     ]
    },
    {
     "data": {
      "application/vnd.jupyter.widget-view+json": {
       "model_id": "35297ce66bd84cdc99bef1f5cea60ac8",
       "version_major": 2,
       "version_minor": 0
      },
      "text/plain": [
       "  0%|          | 0/498 [00:00<?, ?it/s]"
      ]
     },
     "metadata": {},
     "output_type": "display_data"
    },
    {
     "name": "stderr",
     "output_type": "stream",
     "text": [
      "PartitionExplainer explainer: 2it [00:48, 48.27s/it]               \n"
     ]
    },
    {
     "data": {
      "application/vnd.jupyter.widget-view+json": {
       "model_id": "b7a01f7cbaeb40c4b8f9e91537a80608",
       "version_major": 2,
       "version_minor": 0
      },
      "text/plain": [
       "  0%|          | 0/498 [00:00<?, ?it/s]"
      ]
     },
     "metadata": {},
     "output_type": "display_data"
    },
    {
     "name": "stderr",
     "output_type": "stream",
     "text": [
      "PartitionExplainer explainer: 2it [00:44, 44.67s/it]               \n",
      "PartitionExplainer explainer: 2it [00:10, 10.82s/it]               \n"
     ]
    },
    {
     "data": {
      "application/vnd.jupyter.widget-view+json": {
       "model_id": "bf0e0f91fba34cda87918c681c5cbeb1",
       "version_major": 2,
       "version_minor": 0
      },
      "text/plain": [
       "  0%|          | 0/498 [00:00<?, ?it/s]"
      ]
     },
     "metadata": {},
     "output_type": "display_data"
    },
    {
     "name": "stderr",
     "output_type": "stream",
     "text": [
      "PartitionExplainer explainer: 2it [00:19, 19.73s/it]               \n"
     ]
    },
    {
     "data": {
      "application/vnd.jupyter.widget-view+json": {
       "model_id": "df8a314bef274fcead97593e4b4c8591",
       "version_major": 2,
       "version_minor": 0
      },
      "text/plain": [
       "  0%|          | 0/498 [00:00<?, ?it/s]"
      ]
     },
     "metadata": {},
     "output_type": "display_data"
    },
    {
     "name": "stderr",
     "output_type": "stream",
     "text": [
      "PartitionExplainer explainer: 2it [00:30, 30.12s/it]               \n"
     ]
    },
    {
     "data": {
      "application/vnd.jupyter.widget-view+json": {
       "model_id": "2b45a0ec95fc470780544c9c5c5c17a9",
       "version_major": 2,
       "version_minor": 0
      },
      "text/plain": [
       "  0%|          | 0/498 [00:00<?, ?it/s]"
      ]
     },
     "metadata": {},
     "output_type": "display_data"
    },
    {
     "name": "stderr",
     "output_type": "stream",
     "text": [
      "PartitionExplainer explainer: 2it [00:36, 36.11s/it]               \n"
     ]
    },
    {
     "data": {
      "application/vnd.jupyter.widget-view+json": {
       "model_id": "fafde87baa6d4c44b77be880c3527945",
       "version_major": 2,
       "version_minor": 0
      },
      "text/plain": [
       "  0%|          | 0/498 [00:00<?, ?it/s]"
      ]
     },
     "metadata": {},
     "output_type": "display_data"
    },
    {
     "name": "stderr",
     "output_type": "stream",
     "text": [
      "PartitionExplainer explainer: 2it [00:21, 21.46s/it]               \n"
     ]
    },
    {
     "data": {
      "application/vnd.jupyter.widget-view+json": {
       "model_id": "9665589ba2e04677a6a165f4bf05d602",
       "version_major": 2,
       "version_minor": 0
      },
      "text/plain": [
       "  0%|          | 0/498 [00:00<?, ?it/s]"
      ]
     },
     "metadata": {},
     "output_type": "display_data"
    },
    {
     "name": "stderr",
     "output_type": "stream",
     "text": [
      "PartitionExplainer explainer: 2it [00:39, 39.03s/it]               \n"
     ]
    },
    {
     "data": {
      "application/vnd.jupyter.widget-view+json": {
       "model_id": "2c7824890c1d4e6eb59691bf6625bd2f",
       "version_major": 2,
       "version_minor": 0
      },
      "text/plain": [
       "  0%|          | 0/498 [00:00<?, ?it/s]"
      ]
     },
     "metadata": {},
     "output_type": "display_data"
    },
    {
     "name": "stderr",
     "output_type": "stream",
     "text": [
      "PartitionExplainer explainer: 2it [00:22, 22.83s/it]               \n",
      "Testing noise levels:  60%|██████    | 9/15 [2:08:02<1:25:31, 855.27s/it]"
     ]
    },
    {
     "data": {
      "application/vnd.jupyter.widget-view+json": {
       "model_id": "4eb247f0195146a997ab5e01758f73cf",
       "version_major": 2,
       "version_minor": 0
      },
      "text/plain": [
       "  0%|          | 0/498 [00:00<?, ?it/s]"
      ]
     },
     "metadata": {},
     "output_type": "display_data"
    },
    {
     "name": "stderr",
     "output_type": "stream",
     "text": [
      "PartitionExplainer explainer: 2it [00:30, 30.22s/it]               \n"
     ]
    },
    {
     "data": {
      "application/vnd.jupyter.widget-view+json": {
       "model_id": "f275ddd60a8743aa9c5e5a9f9937f122",
       "version_major": 2,
       "version_minor": 0
      },
      "text/plain": [
       "  0%|          | 0/498 [00:00<?, ?it/s]"
      ]
     },
     "metadata": {},
     "output_type": "display_data"
    },
    {
     "name": "stderr",
     "output_type": "stream",
     "text": [
      "PartitionExplainer explainer: 2it [00:31, 31.06s/it]               \n"
     ]
    },
    {
     "data": {
      "application/vnd.jupyter.widget-view+json": {
       "model_id": "6c1bd73426f74d669d3066e400b631d2",
       "version_major": 2,
       "version_minor": 0
      },
      "text/plain": [
       "  0%|          | 0/498 [00:00<?, ?it/s]"
      ]
     },
     "metadata": {},
     "output_type": "display_data"
    },
    {
     "name": "stderr",
     "output_type": "stream",
     "text": [
      "PartitionExplainer explainer: 2it [00:26, 26.25s/it]               \n"
     ]
    },
    {
     "data": {
      "application/vnd.jupyter.widget-view+json": {
       "model_id": "cddd57a66f634dca806e6f5f60d636cf",
       "version_major": 2,
       "version_minor": 0
      },
      "text/plain": [
       "  0%|          | 0/498 [00:00<?, ?it/s]"
      ]
     },
     "metadata": {},
     "output_type": "display_data"
    },
    {
     "name": "stderr",
     "output_type": "stream",
     "text": [
      "PartitionExplainer explainer: 2it [00:26, 26.77s/it]               \n"
     ]
    },
    {
     "data": {
      "application/vnd.jupyter.widget-view+json": {
       "model_id": "dfdbf3171cb94470825460941f1b01ec",
       "version_major": 2,
       "version_minor": 0
      },
      "text/plain": [
       "  0%|          | 0/498 [00:00<?, ?it/s]"
      ]
     },
     "metadata": {},
     "output_type": "display_data"
    },
    {
     "name": "stderr",
     "output_type": "stream",
     "text": [
      "PartitionExplainer explainer: 2it [00:14, 14.58s/it]               \n"
     ]
    },
    {
     "data": {
      "application/vnd.jupyter.widget-view+json": {
       "model_id": "15e90a49612f433791778980cb320032",
       "version_major": 2,
       "version_minor": 0
      },
      "text/plain": [
       "  0%|          | 0/498 [00:00<?, ?it/s]"
      ]
     },
     "metadata": {},
     "output_type": "display_data"
    },
    {
     "name": "stderr",
     "output_type": "stream",
     "text": [
      "PartitionExplainer explainer: 2it [00:22, 22.83s/it]               \n"
     ]
    },
    {
     "data": {
      "application/vnd.jupyter.widget-view+json": {
       "model_id": "6e9d11d522bc4195a5b5dc1909559d49",
       "version_major": 2,
       "version_minor": 0
      },
      "text/plain": [
       "  0%|          | 0/498 [00:00<?, ?it/s]"
      ]
     },
     "metadata": {},
     "output_type": "display_data"
    },
    {
     "name": "stderr",
     "output_type": "stream",
     "text": [
      "PartitionExplainer explainer: 2it [00:46, 46.28s/it]               \n"
     ]
    },
    {
     "data": {
      "application/vnd.jupyter.widget-view+json": {
       "model_id": "2f73c825f1554f5d8dafe11afba5ae5d",
       "version_major": 2,
       "version_minor": 0
      },
      "text/plain": [
       "  0%|          | 0/498 [00:00<?, ?it/s]"
      ]
     },
     "metadata": {},
     "output_type": "display_data"
    },
    {
     "name": "stderr",
     "output_type": "stream",
     "text": [
      "PartitionExplainer explainer: 2it [00:12, 12.02s/it]               \n"
     ]
    },
    {
     "data": {
      "application/vnd.jupyter.widget-view+json": {
       "model_id": "bb159cfcfa5b4524b42f20c5dfd1135a",
       "version_major": 2,
       "version_minor": 0
      },
      "text/plain": [
       "  0%|          | 0/498 [00:00<?, ?it/s]"
      ]
     },
     "metadata": {},
     "output_type": "display_data"
    },
    {
     "name": "stderr",
     "output_type": "stream",
     "text": [
      "PartitionExplainer explainer: 2it [00:42, 42.59s/it]               \n"
     ]
    },
    {
     "data": {
      "application/vnd.jupyter.widget-view+json": {
       "model_id": "f3f3e52bc3844719834095c96e42fada",
       "version_major": 2,
       "version_minor": 0
      },
      "text/plain": [
       "  0%|          | 0/498 [00:00<?, ?it/s]"
      ]
     },
     "metadata": {},
     "output_type": "display_data"
    },
    {
     "name": "stderr",
     "output_type": "stream",
     "text": [
      "PartitionExplainer explainer: 2it [00:20, 20.69s/it]               \n"
     ]
    },
    {
     "data": {
      "application/vnd.jupyter.widget-view+json": {
       "model_id": "6b0d3ce0ff9248f08d93135b033602af",
       "version_major": 2,
       "version_minor": 0
      },
      "text/plain": [
       "  0%|          | 0/498 [00:00<?, ?it/s]"
      ]
     },
     "metadata": {},
     "output_type": "display_data"
    },
    {
     "name": "stderr",
     "output_type": "stream",
     "text": [
      "PartitionExplainer explainer: 2it [00:12, 12.43s/it]               \n"
     ]
    },
    {
     "data": {
      "application/vnd.jupyter.widget-view+json": {
       "model_id": "989ce1d0579349ac9266e332ea803d7b",
       "version_major": 2,
       "version_minor": 0
      },
      "text/plain": [
       "  0%|          | 0/498 [00:00<?, ?it/s]"
      ]
     },
     "metadata": {},
     "output_type": "display_data"
    },
    {
     "name": "stderr",
     "output_type": "stream",
     "text": [
      "PartitionExplainer explainer: 2it [00:12, 12.82s/it]               \n"
     ]
    },
    {
     "data": {
      "application/vnd.jupyter.widget-view+json": {
       "model_id": "8ac74f64b7eb4b6b85c803af222c4897",
       "version_major": 2,
       "version_minor": 0
      },
      "text/plain": [
       "  0%|          | 0/498 [00:00<?, ?it/s]"
      ]
     },
     "metadata": {},
     "output_type": "display_data"
    },
    {
     "name": "stderr",
     "output_type": "stream",
     "text": [
      "PartitionExplainer explainer: 2it [00:22, 22.90s/it]               \n"
     ]
    },
    {
     "data": {
      "application/vnd.jupyter.widget-view+json": {
       "model_id": "e711e080619c48bfb29ea002597fb95d",
       "version_major": 2,
       "version_minor": 0
      },
      "text/plain": [
       "  0%|          | 0/498 [00:00<?, ?it/s]"
      ]
     },
     "metadata": {},
     "output_type": "display_data"
    },
    {
     "name": "stderr",
     "output_type": "stream",
     "text": [
      "PartitionExplainer explainer: 2it [00:28, 28.12s/it]               \n"
     ]
    },
    {
     "data": {
      "application/vnd.jupyter.widget-view+json": {
       "model_id": "bf29d1b04a5a4d2f924f6423fd82f2f1",
       "version_major": 2,
       "version_minor": 0
      },
      "text/plain": [
       "  0%|          | 0/498 [00:00<?, ?it/s]"
      ]
     },
     "metadata": {},
     "output_type": "display_data"
    },
    {
     "name": "stderr",
     "output_type": "stream",
     "text": [
      "PartitionExplainer explainer: 2it [00:29, 29.79s/it]               \n"
     ]
    },
    {
     "data": {
      "application/vnd.jupyter.widget-view+json": {
       "model_id": "fa9ffc0835d64a0aa0ddfdff161c77fe",
       "version_major": 2,
       "version_minor": 0
      },
      "text/plain": [
       "  0%|          | 0/498 [00:00<?, ?it/s]"
      ]
     },
     "metadata": {},
     "output_type": "display_data"
    },
    {
     "name": "stderr",
     "output_type": "stream",
     "text": [
      "PartitionExplainer explainer: 2it [00:19, 19.34s/it]               \n"
     ]
    },
    {
     "data": {
      "application/vnd.jupyter.widget-view+json": {
       "model_id": "4c656bf525dd48ffb1e83ad6acd6073b",
       "version_major": 2,
       "version_minor": 0
      },
      "text/plain": [
       "  0%|          | 0/498 [00:00<?, ?it/s]"
      ]
     },
     "metadata": {},
     "output_type": "display_data"
    },
    {
     "name": "stderr",
     "output_type": "stream",
     "text": [
      "PartitionExplainer explainer: 2it [00:16, 16.82s/it]               \n"
     ]
    },
    {
     "data": {
      "application/vnd.jupyter.widget-view+json": {
       "model_id": "ea5d3343567147088a5dc7b4b1b52623",
       "version_major": 2,
       "version_minor": 0
      },
      "text/plain": [
       "  0%|          | 0/498 [00:00<?, ?it/s]"
      ]
     },
     "metadata": {},
     "output_type": "display_data"
    },
    {
     "name": "stderr",
     "output_type": "stream",
     "text": [
      "PartitionExplainer explainer: 2it [00:21, 21.52s/it]               \n"
     ]
    },
    {
     "data": {
      "application/vnd.jupyter.widget-view+json": {
       "model_id": "1f083cc4e1e14ae8b6456d0a3899011c",
       "version_major": 2,
       "version_minor": 0
      },
      "text/plain": [
       "  0%|          | 0/498 [00:00<?, ?it/s]"
      ]
     },
     "metadata": {},
     "output_type": "display_data"
    },
    {
     "name": "stderr",
     "output_type": "stream",
     "text": [
      "PartitionExplainer explainer: 2it [00:27, 27.83s/it]               \n"
     ]
    },
    {
     "data": {
      "application/vnd.jupyter.widget-view+json": {
       "model_id": "08698e4c35204a719a4818e3ef314a62",
       "version_major": 2,
       "version_minor": 0
      },
      "text/plain": [
       "  0%|          | 0/498 [00:00<?, ?it/s]"
      ]
     },
     "metadata": {},
     "output_type": "display_data"
    },
    {
     "name": "stderr",
     "output_type": "stream",
     "text": [
      "PartitionExplainer explainer: 2it [00:47, 47.90s/it]               \n"
     ]
    },
    {
     "data": {
      "application/vnd.jupyter.widget-view+json": {
       "model_id": "6e41f336ec124fc6a6e613f3f40fc949",
       "version_major": 2,
       "version_minor": 0
      },
      "text/plain": [
       "  0%|          | 0/498 [00:00<?, ?it/s]"
      ]
     },
     "metadata": {},
     "output_type": "display_data"
    },
    {
     "name": "stderr",
     "output_type": "stream",
     "text": [
      "PartitionExplainer explainer: 2it [00:44, 44.46s/it]               \n",
      "PartitionExplainer explainer: 2it [00:10, 10.65s/it]               \n"
     ]
    },
    {
     "data": {
      "application/vnd.jupyter.widget-view+json": {
       "model_id": "0314d3fe46d74bd09a5e71bfe2a65f9f",
       "version_major": 2,
       "version_minor": 0
      },
      "text/plain": [
       "  0%|          | 0/498 [00:00<?, ?it/s]"
      ]
     },
     "metadata": {},
     "output_type": "display_data"
    },
    {
     "name": "stderr",
     "output_type": "stream",
     "text": [
      "PartitionExplainer explainer: 2it [00:20, 20.46s/it]               \n"
     ]
    },
    {
     "data": {
      "application/vnd.jupyter.widget-view+json": {
       "model_id": "7ed7918914b345d4a24e7ed15e430721",
       "version_major": 2,
       "version_minor": 0
      },
      "text/plain": [
       "  0%|          | 0/498 [00:00<?, ?it/s]"
      ]
     },
     "metadata": {},
     "output_type": "display_data"
    },
    {
     "name": "stderr",
     "output_type": "stream",
     "text": [
      "PartitionExplainer explainer: 2it [00:30, 30.99s/it]               \n"
     ]
    },
    {
     "data": {
      "application/vnd.jupyter.widget-view+json": {
       "model_id": "e777ba3877b54d548cc9f2c13daf6ae6",
       "version_major": 2,
       "version_minor": 0
      },
      "text/plain": [
       "  0%|          | 0/498 [00:00<?, ?it/s]"
      ]
     },
     "metadata": {},
     "output_type": "display_data"
    },
    {
     "name": "stderr",
     "output_type": "stream",
     "text": [
      "PartitionExplainer explainer: 2it [00:35, 35.91s/it]               \n"
     ]
    },
    {
     "data": {
      "application/vnd.jupyter.widget-view+json": {
       "model_id": "8b613786d1fc403e9ac2a5f7c5264dd8",
       "version_major": 2,
       "version_minor": 0
      },
      "text/plain": [
       "  0%|          | 0/498 [00:00<?, ?it/s]"
      ]
     },
     "metadata": {},
     "output_type": "display_data"
    },
    {
     "name": "stderr",
     "output_type": "stream",
     "text": [
      "PartitionExplainer explainer: 2it [00:22, 22.22s/it]               \n"
     ]
    },
    {
     "data": {
      "application/vnd.jupyter.widget-view+json": {
       "model_id": "54c8943209344436b1a690635ed410c0",
       "version_major": 2,
       "version_minor": 0
      },
      "text/plain": [
       "  0%|          | 0/498 [00:00<?, ?it/s]"
      ]
     },
     "metadata": {},
     "output_type": "display_data"
    },
    {
     "name": "stderr",
     "output_type": "stream",
     "text": [
      "PartitionExplainer explainer: 2it [00:42, 42.00s/it]               \n"
     ]
    },
    {
     "data": {
      "application/vnd.jupyter.widget-view+json": {
       "model_id": "fed9b7a7052c40318f08bb690b6b8b9d",
       "version_major": 2,
       "version_minor": 0
      },
      "text/plain": [
       "  0%|          | 0/498 [00:00<?, ?it/s]"
      ]
     },
     "metadata": {},
     "output_type": "display_data"
    },
    {
     "name": "stderr",
     "output_type": "stream",
     "text": [
      "PartitionExplainer explainer: 2it [00:23, 23.22s/it]               \n",
      "Testing noise levels:  67%|██████▋   | 10/15 [2:22:24<1:11:27, 857.53s/it]"
     ]
    },
    {
     "data": {
      "application/vnd.jupyter.widget-view+json": {
       "model_id": "8b3f29cbd7ee4462997b786cb5010769",
       "version_major": 2,
       "version_minor": 0
      },
      "text/plain": [
       "  0%|          | 0/498 [00:00<?, ?it/s]"
      ]
     },
     "metadata": {},
     "output_type": "display_data"
    },
    {
     "name": "stderr",
     "output_type": "stream",
     "text": [
      "PartitionExplainer explainer: 2it [00:30, 30.14s/it]               \n"
     ]
    },
    {
     "data": {
      "application/vnd.jupyter.widget-view+json": {
       "model_id": "dda883d205c746d9bf7977f67eedd514",
       "version_major": 2,
       "version_minor": 0
      },
      "text/plain": [
       "  0%|          | 0/498 [00:00<?, ?it/s]"
      ]
     },
     "metadata": {},
     "output_type": "display_data"
    },
    {
     "name": "stderr",
     "output_type": "stream",
     "text": [
      "PartitionExplainer explainer: 2it [00:31, 31.03s/it]               \n"
     ]
    },
    {
     "data": {
      "application/vnd.jupyter.widget-view+json": {
       "model_id": "791fa38fb4ca4ec8840b7d2f71f5b93d",
       "version_major": 2,
       "version_minor": 0
      },
      "text/plain": [
       "  0%|          | 0/498 [00:00<?, ?it/s]"
      ]
     },
     "metadata": {},
     "output_type": "display_data"
    },
    {
     "name": "stderr",
     "output_type": "stream",
     "text": [
      "PartitionExplainer explainer: 2it [00:25, 25.42s/it]               \n"
     ]
    },
    {
     "data": {
      "application/vnd.jupyter.widget-view+json": {
       "model_id": "0dc00edde96a42beb878c81ba26a98a8",
       "version_major": 2,
       "version_minor": 0
      },
      "text/plain": [
       "  0%|          | 0/498 [00:00<?, ?it/s]"
      ]
     },
     "metadata": {},
     "output_type": "display_data"
    },
    {
     "name": "stderr",
     "output_type": "stream",
     "text": [
      "PartitionExplainer explainer: 2it [00:25, 25.41s/it]               \n"
     ]
    },
    {
     "data": {
      "application/vnd.jupyter.widget-view+json": {
       "model_id": "6739f19eb32244c897f236e5fdbb8e42",
       "version_major": 2,
       "version_minor": 0
      },
      "text/plain": [
       "  0%|          | 0/498 [00:00<?, ?it/s]"
      ]
     },
     "metadata": {},
     "output_type": "display_data"
    },
    {
     "name": "stderr",
     "output_type": "stream",
     "text": [
      "PartitionExplainer explainer: 2it [00:15, 15.25s/it]               \n"
     ]
    },
    {
     "data": {
      "application/vnd.jupyter.widget-view+json": {
       "model_id": "a2276fbff6a64b95b5a28f5f8f2826fd",
       "version_major": 2,
       "version_minor": 0
      },
      "text/plain": [
       "  0%|          | 0/498 [00:00<?, ?it/s]"
      ]
     },
     "metadata": {},
     "output_type": "display_data"
    },
    {
     "name": "stderr",
     "output_type": "stream",
     "text": [
      "PartitionExplainer explainer: 2it [00:24, 24.06s/it]               \n"
     ]
    },
    {
     "data": {
      "application/vnd.jupyter.widget-view+json": {
       "model_id": "7883151c358842e68c22cea7ee6b9458",
       "version_major": 2,
       "version_minor": 0
      },
      "text/plain": [
       "  0%|          | 0/498 [00:00<?, ?it/s]"
      ]
     },
     "metadata": {},
     "output_type": "display_data"
    },
    {
     "name": "stderr",
     "output_type": "stream",
     "text": [
      "PartitionExplainer explainer: 2it [00:44, 44.81s/it]               \n",
      "PartitionExplainer explainer: 2it [00:11, 11.60s/it]               \n"
     ]
    },
    {
     "data": {
      "application/vnd.jupyter.widget-view+json": {
       "model_id": "4294969ee5e342aeadc655431b937759",
       "version_major": 2,
       "version_minor": 0
      },
      "text/plain": [
       "  0%|          | 0/498 [00:00<?, ?it/s]"
      ]
     },
     "metadata": {},
     "output_type": "display_data"
    },
    {
     "name": "stderr",
     "output_type": "stream",
     "text": [
      "PartitionExplainer explainer: 2it [00:37, 37.39s/it]               \n"
     ]
    },
    {
     "data": {
      "application/vnd.jupyter.widget-view+json": {
       "model_id": "250a8461e79247b09eeae64ddb9d856e",
       "version_major": 2,
       "version_minor": 0
      },
      "text/plain": [
       "  0%|          | 0/498 [00:00<?, ?it/s]"
      ]
     },
     "metadata": {},
     "output_type": "display_data"
    },
    {
     "name": "stderr",
     "output_type": "stream",
     "text": [
      "PartitionExplainer explainer: 2it [00:21, 21.66s/it]               \n",
      "PartitionExplainer explainer: 2it [00:12, 12.52s/it]               \n"
     ]
    },
    {
     "data": {
      "application/vnd.jupyter.widget-view+json": {
       "model_id": "7273d6ab3ac7427fba8c6c9823699b22",
       "version_major": 2,
       "version_minor": 0
      },
      "text/plain": [
       "  0%|          | 0/498 [00:00<?, ?it/s]"
      ]
     },
     "metadata": {},
     "output_type": "display_data"
    },
    {
     "name": "stderr",
     "output_type": "stream",
     "text": [
      "PartitionExplainer explainer: 2it [00:13, 13.06s/it]               \n"
     ]
    },
    {
     "data": {
      "application/vnd.jupyter.widget-view+json": {
       "model_id": "17f86f13280d4b888ef984ac18ebb20b",
       "version_major": 2,
       "version_minor": 0
      },
      "text/plain": [
       "  0%|          | 0/498 [00:00<?, ?it/s]"
      ]
     },
     "metadata": {},
     "output_type": "display_data"
    },
    {
     "name": "stderr",
     "output_type": "stream",
     "text": [
      "PartitionExplainer explainer: 2it [00:23, 23.01s/it]               \n"
     ]
    },
    {
     "data": {
      "application/vnd.jupyter.widget-view+json": {
       "model_id": "4746f81f7f224b07a849136c1d437048",
       "version_major": 2,
       "version_minor": 0
      },
      "text/plain": [
       "  0%|          | 0/498 [00:00<?, ?it/s]"
      ]
     },
     "metadata": {},
     "output_type": "display_data"
    },
    {
     "name": "stderr",
     "output_type": "stream",
     "text": [
      "PartitionExplainer explainer: 2it [00:28, 28.08s/it]               \n"
     ]
    },
    {
     "data": {
      "application/vnd.jupyter.widget-view+json": {
       "model_id": "b8f73873e39b4d248f628ee60fb278b9",
       "version_major": 2,
       "version_minor": 0
      },
      "text/plain": [
       "  0%|          | 0/498 [00:00<?, ?it/s]"
      ]
     },
     "metadata": {},
     "output_type": "display_data"
    },
    {
     "name": "stderr",
     "output_type": "stream",
     "text": [
      "PartitionExplainer explainer: 2it [00:29, 29.76s/it]               \n"
     ]
    },
    {
     "data": {
      "application/vnd.jupyter.widget-view+json": {
       "model_id": "c8c7a6f51e8e48df814ac2ee968b6621",
       "version_major": 2,
       "version_minor": 0
      },
      "text/plain": [
       "  0%|          | 0/498 [00:00<?, ?it/s]"
      ]
     },
     "metadata": {},
     "output_type": "display_data"
    },
    {
     "name": "stderr",
     "output_type": "stream",
     "text": [
      "PartitionExplainer explainer: 2it [00:19, 19.42s/it]               \n"
     ]
    },
    {
     "data": {
      "application/vnd.jupyter.widget-view+json": {
       "model_id": "bfcad4dc9af842d29e3decb171e540ef",
       "version_major": 2,
       "version_minor": 0
      },
      "text/plain": [
       "  0%|          | 0/498 [00:00<?, ?it/s]"
      ]
     },
     "metadata": {},
     "output_type": "display_data"
    },
    {
     "name": "stderr",
     "output_type": "stream",
     "text": [
      "PartitionExplainer explainer: 2it [00:16, 16.46s/it]               \n"
     ]
    },
    {
     "data": {
      "application/vnd.jupyter.widget-view+json": {
       "model_id": "2b74d9d2baf24c3dbb9d1d3e4579a18c",
       "version_major": 2,
       "version_minor": 0
      },
      "text/plain": [
       "  0%|          | 0/498 [00:00<?, ?it/s]"
      ]
     },
     "metadata": {},
     "output_type": "display_data"
    },
    {
     "name": "stderr",
     "output_type": "stream",
     "text": [
      "PartitionExplainer explainer: 2it [00:22, 22.40s/it]               \n"
     ]
    },
    {
     "data": {
      "application/vnd.jupyter.widget-view+json": {
       "model_id": "21db12e65ec545eeb7a45bab927e7b50",
       "version_major": 2,
       "version_minor": 0
      },
      "text/plain": [
       "  0%|          | 0/498 [00:00<?, ?it/s]"
      ]
     },
     "metadata": {},
     "output_type": "display_data"
    },
    {
     "name": "stderr",
     "output_type": "stream",
     "text": [
      "PartitionExplainer explainer: 2it [00:26, 26.50s/it]               \n"
     ]
    },
    {
     "data": {
      "application/vnd.jupyter.widget-view+json": {
       "model_id": "b890cd047f8e45dbac4ff83d791daf51",
       "version_major": 2,
       "version_minor": 0
      },
      "text/plain": [
       "  0%|          | 0/498 [00:00<?, ?it/s]"
      ]
     },
     "metadata": {},
     "output_type": "display_data"
    },
    {
     "name": "stderr",
     "output_type": "stream",
     "text": [
      "PartitionExplainer explainer: 2it [00:49, 49.72s/it]               \n"
     ]
    },
    {
     "data": {
      "application/vnd.jupyter.widget-view+json": {
       "model_id": "0e08330608df4bfd80c63c1ad6976fb1",
       "version_major": 2,
       "version_minor": 0
      },
      "text/plain": [
       "  0%|          | 0/498 [00:00<?, ?it/s]"
      ]
     },
     "metadata": {},
     "output_type": "display_data"
    },
    {
     "name": "stderr",
     "output_type": "stream",
     "text": [
      "PartitionExplainer explainer: 2it [00:46, 46.51s/it]               \n",
      "PartitionExplainer explainer: 2it [00:10, 10.85s/it]               \n"
     ]
    },
    {
     "data": {
      "application/vnd.jupyter.widget-view+json": {
       "model_id": "b4b8c32780da4326ae41fce505f0d3e5",
       "version_major": 2,
       "version_minor": 0
      },
      "text/plain": [
       "  0%|          | 0/498 [00:00<?, ?it/s]"
      ]
     },
     "metadata": {},
     "output_type": "display_data"
    },
    {
     "name": "stderr",
     "output_type": "stream",
     "text": [
      "PartitionExplainer explainer: 2it [00:20, 20.51s/it]               \n"
     ]
    },
    {
     "data": {
      "application/vnd.jupyter.widget-view+json": {
       "model_id": "169624b183cf471f9a3d065526e62e6b",
       "version_major": 2,
       "version_minor": 0
      },
      "text/plain": [
       "  0%|          | 0/498 [00:00<?, ?it/s]"
      ]
     },
     "metadata": {},
     "output_type": "display_data"
    },
    {
     "name": "stderr",
     "output_type": "stream",
     "text": [
      "PartitionExplainer explainer: 2it [00:31, 31.57s/it]               \n"
     ]
    },
    {
     "data": {
      "application/vnd.jupyter.widget-view+json": {
       "model_id": "bb7226ea4d4a47ac9cf77a9904323a8e",
       "version_major": 2,
       "version_minor": 0
      },
      "text/plain": [
       "  0%|          | 0/498 [00:00<?, ?it/s]"
      ]
     },
     "metadata": {},
     "output_type": "display_data"
    },
    {
     "name": "stderr",
     "output_type": "stream",
     "text": [
      "PartitionExplainer explainer: 2it [00:35, 35.10s/it]               \n"
     ]
    },
    {
     "data": {
      "application/vnd.jupyter.widget-view+json": {
       "model_id": "8bb2a5e22f1e491ea70da09646fa7303",
       "version_major": 2,
       "version_minor": 0
      },
      "text/plain": [
       "  0%|          | 0/498 [00:00<?, ?it/s]"
      ]
     },
     "metadata": {},
     "output_type": "display_data"
    },
    {
     "name": "stderr",
     "output_type": "stream",
     "text": [
      "PartitionExplainer explainer: 2it [00:20, 20.83s/it]               \n"
     ]
    },
    {
     "data": {
      "application/vnd.jupyter.widget-view+json": {
       "model_id": "653c2a28624d452ea82b939d568d6a4b",
       "version_major": 2,
       "version_minor": 0
      },
      "text/plain": [
       "  0%|          | 0/498 [00:00<?, ?it/s]"
      ]
     },
     "metadata": {},
     "output_type": "display_data"
    },
    {
     "name": "stderr",
     "output_type": "stream",
     "text": [
      "PartitionExplainer explainer: 2it [00:40, 40.25s/it]               \n"
     ]
    },
    {
     "data": {
      "application/vnd.jupyter.widget-view+json": {
       "model_id": "d974ec12520e4613be934c7dd97e8235",
       "version_major": 2,
       "version_minor": 0
      },
      "text/plain": [
       "  0%|          | 0/498 [00:00<?, ?it/s]"
      ]
     },
     "metadata": {},
     "output_type": "display_data"
    },
    {
     "name": "stderr",
     "output_type": "stream",
     "text": [
      "PartitionExplainer explainer: 2it [00:23, 23.41s/it]               \n",
      "Testing noise levels:  73%|███████▎  | 11/15 [2:36:40<57:08, 857.16s/it]  "
     ]
    },
    {
     "data": {
      "application/vnd.jupyter.widget-view+json": {
       "model_id": "29a254372b454e9d8ce18610dce7ff55",
       "version_major": 2,
       "version_minor": 0
      },
      "text/plain": [
       "  0%|          | 0/498 [00:00<?, ?it/s]"
      ]
     },
     "metadata": {},
     "output_type": "display_data"
    },
    {
     "name": "stderr",
     "output_type": "stream",
     "text": [
      "PartitionExplainer explainer: 2it [00:31, 31.13s/it]               \n"
     ]
    },
    {
     "data": {
      "application/vnd.jupyter.widget-view+json": {
       "model_id": "bf71fd8f4d394b3abfe497022e8d688b",
       "version_major": 2,
       "version_minor": 0
      },
      "text/plain": [
       "  0%|          | 0/498 [00:00<?, ?it/s]"
      ]
     },
     "metadata": {},
     "output_type": "display_data"
    },
    {
     "name": "stderr",
     "output_type": "stream",
     "text": [
      "PartitionExplainer explainer: 2it [00:30, 30.78s/it]               \n"
     ]
    },
    {
     "data": {
      "application/vnd.jupyter.widget-view+json": {
       "model_id": "6fc74652459740878d084460ca7d4c8f",
       "version_major": 2,
       "version_minor": 0
      },
      "text/plain": [
       "  0%|          | 0/498 [00:00<?, ?it/s]"
      ]
     },
     "metadata": {},
     "output_type": "display_data"
    },
    {
     "name": "stderr",
     "output_type": "stream",
     "text": [
      "PartitionExplainer explainer: 2it [00:25, 25.73s/it]               \n"
     ]
    },
    {
     "data": {
      "application/vnd.jupyter.widget-view+json": {
       "model_id": "bc9452f5fc0f4906aee4120dbcdbb0a5",
       "version_major": 2,
       "version_minor": 0
      },
      "text/plain": [
       "  0%|          | 0/498 [00:00<?, ?it/s]"
      ]
     },
     "metadata": {},
     "output_type": "display_data"
    },
    {
     "name": "stderr",
     "output_type": "stream",
     "text": [
      "PartitionExplainer explainer: 2it [00:24, 24.90s/it]               \n"
     ]
    },
    {
     "data": {
      "application/vnd.jupyter.widget-view+json": {
       "model_id": "d6bbef4802e549aaa7abb21856be139f",
       "version_major": 2,
       "version_minor": 0
      },
      "text/plain": [
       "  0%|          | 0/498 [00:00<?, ?it/s]"
      ]
     },
     "metadata": {},
     "output_type": "display_data"
    },
    {
     "name": "stderr",
     "output_type": "stream",
     "text": [
      "PartitionExplainer explainer: 2it [00:14, 14.95s/it]               \n"
     ]
    },
    {
     "data": {
      "application/vnd.jupyter.widget-view+json": {
       "model_id": "4f18c1ce893d423397c0d2c06812c39f",
       "version_major": 2,
       "version_minor": 0
      },
      "text/plain": [
       "  0%|          | 0/498 [00:00<?, ?it/s]"
      ]
     },
     "metadata": {},
     "output_type": "display_data"
    },
    {
     "name": "stderr",
     "output_type": "stream",
     "text": [
      "PartitionExplainer explainer: 2it [00:22, 22.94s/it]               \n"
     ]
    },
    {
     "data": {
      "application/vnd.jupyter.widget-view+json": {
       "model_id": "9de591f643ba4aea94d232df66c33b3e",
       "version_major": 2,
       "version_minor": 0
      },
      "text/plain": [
       "  0%|          | 0/498 [00:00<?, ?it/s]"
      ]
     },
     "metadata": {},
     "output_type": "display_data"
    },
    {
     "name": "stderr",
     "output_type": "stream",
     "text": [
      "PartitionExplainer explainer: 2it [00:46, 46.71s/it]               \n"
     ]
    },
    {
     "data": {
      "application/vnd.jupyter.widget-view+json": {
       "model_id": "8362abeb54364743805dd45d6e421f02",
       "version_major": 2,
       "version_minor": 0
      },
      "text/plain": [
       "  0%|          | 0/498 [00:00<?, ?it/s]"
      ]
     },
     "metadata": {},
     "output_type": "display_data"
    },
    {
     "name": "stderr",
     "output_type": "stream",
     "text": [
      "PartitionExplainer explainer: 2it [00:11, 11.71s/it]               \n"
     ]
    },
    {
     "data": {
      "application/vnd.jupyter.widget-view+json": {
       "model_id": "e25510557e20417896ce266ea895f9a2",
       "version_major": 2,
       "version_minor": 0
      },
      "text/plain": [
       "  0%|          | 0/498 [00:00<?, ?it/s]"
      ]
     },
     "metadata": {},
     "output_type": "display_data"
    },
    {
     "name": "stderr",
     "output_type": "stream",
     "text": [
      "PartitionExplainer explainer: 2it [00:39, 39.25s/it]               \n"
     ]
    },
    {
     "data": {
      "application/vnd.jupyter.widget-view+json": {
       "model_id": "8f5b5db84dc5490c8b8a9dfa4730d1d5",
       "version_major": 2,
       "version_minor": 0
      },
      "text/plain": [
       "  0%|          | 0/498 [00:00<?, ?it/s]"
      ]
     },
     "metadata": {},
     "output_type": "display_data"
    },
    {
     "name": "stderr",
     "output_type": "stream",
     "text": [
      "PartitionExplainer explainer: 2it [00:21, 21.69s/it]               \n",
      "PartitionExplainer explainer: 2it [00:12, 12.40s/it]               \n"
     ]
    },
    {
     "data": {
      "application/vnd.jupyter.widget-view+json": {
       "model_id": "3dee7c51c08c445bb6ae0691b905955c",
       "version_major": 2,
       "version_minor": 0
      },
      "text/plain": [
       "  0%|          | 0/498 [00:00<?, ?it/s]"
      ]
     },
     "metadata": {},
     "output_type": "display_data"
    },
    {
     "name": "stderr",
     "output_type": "stream",
     "text": [
      "PartitionExplainer explainer: 2it [00:12, 12.83s/it]               \n"
     ]
    },
    {
     "data": {
      "application/vnd.jupyter.widget-view+json": {
       "model_id": "0cada6fb4bec480aae14424869e2388c",
       "version_major": 2,
       "version_minor": 0
      },
      "text/plain": [
       "  0%|          | 0/498 [00:00<?, ?it/s]"
      ]
     },
     "metadata": {},
     "output_type": "display_data"
    },
    {
     "name": "stderr",
     "output_type": "stream",
     "text": [
      "PartitionExplainer explainer: 2it [00:21, 21.56s/it]               \n"
     ]
    },
    {
     "data": {
      "application/vnd.jupyter.widget-view+json": {
       "model_id": "e3ee6915f86841cdb1d0ea6fb6e55c58",
       "version_major": 2,
       "version_minor": 0
      },
      "text/plain": [
       "  0%|          | 0/498 [00:00<?, ?it/s]"
      ]
     },
     "metadata": {},
     "output_type": "display_data"
    },
    {
     "name": "stderr",
     "output_type": "stream",
     "text": [
      "PartitionExplainer explainer: 2it [00:27, 27.66s/it]               \n"
     ]
    },
    {
     "data": {
      "application/vnd.jupyter.widget-view+json": {
       "model_id": "104af3dd3bae44a2b106b90273492764",
       "version_major": 2,
       "version_minor": 0
      },
      "text/plain": [
       "  0%|          | 0/498 [00:00<?, ?it/s]"
      ]
     },
     "metadata": {},
     "output_type": "display_data"
    },
    {
     "name": "stderr",
     "output_type": "stream",
     "text": [
      "PartitionExplainer explainer: 2it [00:29, 29.08s/it]               \n"
     ]
    },
    {
     "data": {
      "application/vnd.jupyter.widget-view+json": {
       "model_id": "83a18b29d527453fbec7666df3180766",
       "version_major": 2,
       "version_minor": 0
      },
      "text/plain": [
       "  0%|          | 0/498 [00:00<?, ?it/s]"
      ]
     },
     "metadata": {},
     "output_type": "display_data"
    },
    {
     "name": "stderr",
     "output_type": "stream",
     "text": [
      "PartitionExplainer explainer: 2it [00:19, 19.78s/it]               \n"
     ]
    },
    {
     "data": {
      "application/vnd.jupyter.widget-view+json": {
       "model_id": "997dffd1ab4d4bdaa2d490bd239d1b32",
       "version_major": 2,
       "version_minor": 0
      },
      "text/plain": [
       "  0%|          | 0/498 [00:00<?, ?it/s]"
      ]
     },
     "metadata": {},
     "output_type": "display_data"
    },
    {
     "name": "stderr",
     "output_type": "stream",
     "text": [
      "PartitionExplainer explainer: 2it [00:16, 16.82s/it]               \n"
     ]
    },
    {
     "data": {
      "application/vnd.jupyter.widget-view+json": {
       "model_id": "4ec55a907ad5448c95d1dab9dc164ffb",
       "version_major": 2,
       "version_minor": 0
      },
      "text/plain": [
       "  0%|          | 0/498 [00:00<?, ?it/s]"
      ]
     },
     "metadata": {},
     "output_type": "display_data"
    },
    {
     "name": "stderr",
     "output_type": "stream",
     "text": [
      "PartitionExplainer explainer: 2it [00:21, 21.73s/it]               \n"
     ]
    },
    {
     "data": {
      "application/vnd.jupyter.widget-view+json": {
       "model_id": "d4c41c56a09d4df590987bd1fc371440",
       "version_major": 2,
       "version_minor": 0
      },
      "text/plain": [
       "  0%|          | 0/498 [00:00<?, ?it/s]"
      ]
     },
     "metadata": {},
     "output_type": "display_data"
    },
    {
     "name": "stderr",
     "output_type": "stream",
     "text": [
      "PartitionExplainer explainer: 2it [00:27, 27.27s/it]               \n"
     ]
    },
    {
     "data": {
      "application/vnd.jupyter.widget-view+json": {
       "model_id": "e5f85729b21b4e019523303554a34cdd",
       "version_major": 2,
       "version_minor": 0
      },
      "text/plain": [
       "  0%|          | 0/498 [00:00<?, ?it/s]"
      ]
     },
     "metadata": {},
     "output_type": "display_data"
    },
    {
     "name": "stderr",
     "output_type": "stream",
     "text": [
      "PartitionExplainer explainer: 2it [00:49, 49.70s/it]               \n"
     ]
    },
    {
     "data": {
      "application/vnd.jupyter.widget-view+json": {
       "model_id": "dcd264ee72854f91b9149403e29afa38",
       "version_major": 2,
       "version_minor": 0
      },
      "text/plain": [
       "  0%|          | 0/498 [00:00<?, ?it/s]"
      ]
     },
     "metadata": {},
     "output_type": "display_data"
    },
    {
     "name": "stderr",
     "output_type": "stream",
     "text": [
      "PartitionExplainer explainer: 2it [00:45, 45.31s/it]               \n",
      "PartitionExplainer explainer: 2it [00:10, 10.79s/it]               \n"
     ]
    },
    {
     "data": {
      "application/vnd.jupyter.widget-view+json": {
       "model_id": "43204c6e3612407cb33abef4ba29d7ba",
       "version_major": 2,
       "version_minor": 0
      },
      "text/plain": [
       "  0%|          | 0/498 [00:00<?, ?it/s]"
      ]
     },
     "metadata": {},
     "output_type": "display_data"
    },
    {
     "name": "stderr",
     "output_type": "stream",
     "text": [
      "PartitionExplainer explainer: 2it [00:20, 20.82s/it]               \n"
     ]
    },
    {
     "data": {
      "application/vnd.jupyter.widget-view+json": {
       "model_id": "e5eed991daaa43e1b02d5aaf9df688f9",
       "version_major": 2,
       "version_minor": 0
      },
      "text/plain": [
       "  0%|          | 0/498 [00:00<?, ?it/s]"
      ]
     },
     "metadata": {},
     "output_type": "display_data"
    },
    {
     "name": "stderr",
     "output_type": "stream",
     "text": [
      "PartitionExplainer explainer: 2it [00:31, 31.95s/it]               \n"
     ]
    },
    {
     "data": {
      "application/vnd.jupyter.widget-view+json": {
       "model_id": "cf9aa408d6b44fc6a798d42d1ac8b094",
       "version_major": 2,
       "version_minor": 0
      },
      "text/plain": [
       "  0%|          | 0/498 [00:00<?, ?it/s]"
      ]
     },
     "metadata": {},
     "output_type": "display_data"
    },
    {
     "name": "stderr",
     "output_type": "stream",
     "text": [
      "PartitionExplainer explainer: 2it [00:36, 36.98s/it]               \n"
     ]
    },
    {
     "data": {
      "application/vnd.jupyter.widget-view+json": {
       "model_id": "198ee3e8637f42dd97f2db5bb4624a4b",
       "version_major": 2,
       "version_minor": 0
      },
      "text/plain": [
       "  0%|          | 0/498 [00:00<?, ?it/s]"
      ]
     },
     "metadata": {},
     "output_type": "display_data"
    },
    {
     "name": "stderr",
     "output_type": "stream",
     "text": [
      "PartitionExplainer explainer: 2it [00:21, 21.93s/it]               \n"
     ]
    },
    {
     "data": {
      "application/vnd.jupyter.widget-view+json": {
       "model_id": "8c51a8bd26df48068fe06657234630c8",
       "version_major": 2,
       "version_minor": 0
      },
      "text/plain": [
       "  0%|          | 0/498 [00:00<?, ?it/s]"
      ]
     },
     "metadata": {},
     "output_type": "display_data"
    },
    {
     "name": "stderr",
     "output_type": "stream",
     "text": [
      "PartitionExplainer explainer: 2it [00:39, 39.84s/it]               \n"
     ]
    },
    {
     "data": {
      "application/vnd.jupyter.widget-view+json": {
       "model_id": "7aca85c2223e49a1be05eddfa7f1d0ac",
       "version_major": 2,
       "version_minor": 0
      },
      "text/plain": [
       "  0%|          | 0/498 [00:00<?, ?it/s]"
      ]
     },
     "metadata": {},
     "output_type": "display_data"
    },
    {
     "name": "stderr",
     "output_type": "stream",
     "text": [
      "PartitionExplainer explainer: 2it [00:22, 22.46s/it]               \n",
      "Testing noise levels:  80%|████████  | 12/15 [2:50:58<42:51, 857.30s/it]"
     ]
    },
    {
     "data": {
      "application/vnd.jupyter.widget-view+json": {
       "model_id": "3628260c9d6d494c91f94498ce3a6cb2",
       "version_major": 2,
       "version_minor": 0
      },
      "text/plain": [
       "  0%|          | 0/498 [00:00<?, ?it/s]"
      ]
     },
     "metadata": {},
     "output_type": "display_data"
    },
    {
     "name": "stderr",
     "output_type": "stream",
     "text": [
      "PartitionExplainer explainer: 2it [00:30, 30.40s/it]               \n"
     ]
    },
    {
     "data": {
      "application/vnd.jupyter.widget-view+json": {
       "model_id": "0e7fe67f0a9d406585d8c0a1e303f392",
       "version_major": 2,
       "version_minor": 0
      },
      "text/plain": [
       "  0%|          | 0/498 [00:00<?, ?it/s]"
      ]
     },
     "metadata": {},
     "output_type": "display_data"
    },
    {
     "name": "stderr",
     "output_type": "stream",
     "text": [
      "PartitionExplainer explainer: 2it [00:30, 30.47s/it]               \n"
     ]
    },
    {
     "data": {
      "application/vnd.jupyter.widget-view+json": {
       "model_id": "e16edb0034594d71a914a8ef72c4cde9",
       "version_major": 2,
       "version_minor": 0
      },
      "text/plain": [
       "  0%|          | 0/498 [00:00<?, ?it/s]"
      ]
     },
     "metadata": {},
     "output_type": "display_data"
    },
    {
     "name": "stderr",
     "output_type": "stream",
     "text": [
      "PartitionExplainer explainer: 2it [00:25, 25.78s/it]               \n"
     ]
    },
    {
     "data": {
      "application/vnd.jupyter.widget-view+json": {
       "model_id": "fc691912f6034be08996c97a00a4fbe1",
       "version_major": 2,
       "version_minor": 0
      },
      "text/plain": [
       "  0%|          | 0/498 [00:00<?, ?it/s]"
      ]
     },
     "metadata": {},
     "output_type": "display_data"
    },
    {
     "name": "stderr",
     "output_type": "stream",
     "text": [
      "PartitionExplainer explainer: 2it [00:25, 25.10s/it]               \n"
     ]
    },
    {
     "data": {
      "application/vnd.jupyter.widget-view+json": {
       "model_id": "750d219ca75049e89eceba99bfbb81bc",
       "version_major": 2,
       "version_minor": 0
      },
      "text/plain": [
       "  0%|          | 0/498 [00:00<?, ?it/s]"
      ]
     },
     "metadata": {},
     "output_type": "display_data"
    },
    {
     "name": "stderr",
     "output_type": "stream",
     "text": [
      "PartitionExplainer explainer: 2it [00:14, 14.82s/it]               \n"
     ]
    },
    {
     "data": {
      "application/vnd.jupyter.widget-view+json": {
       "model_id": "c0a7e50131334d83afe136706f1da1cf",
       "version_major": 2,
       "version_minor": 0
      },
      "text/plain": [
       "  0%|          | 0/498 [00:00<?, ?it/s]"
      ]
     },
     "metadata": {},
     "output_type": "display_data"
    },
    {
     "name": "stderr",
     "output_type": "stream",
     "text": [
      "PartitionExplainer explainer: 2it [00:22, 22.63s/it]               \n"
     ]
    },
    {
     "data": {
      "application/vnd.jupyter.widget-view+json": {
       "model_id": "1ed2de30db7a4be9ab5aaa682a5d8770",
       "version_major": 2,
       "version_minor": 0
      },
      "text/plain": [
       "  0%|          | 0/498 [00:00<?, ?it/s]"
      ]
     },
     "metadata": {},
     "output_type": "display_data"
    },
    {
     "name": "stderr",
     "output_type": "stream",
     "text": [
      "PartitionExplainer explainer: 2it [00:47, 47.64s/it]               \n"
     ]
    },
    {
     "data": {
      "application/vnd.jupyter.widget-view+json": {
       "model_id": "a3d9292d8ebc486b9a279c27d196c8ad",
       "version_major": 2,
       "version_minor": 0
      },
      "text/plain": [
       "  0%|          | 0/498 [00:00<?, ?it/s]"
      ]
     },
     "metadata": {},
     "output_type": "display_data"
    },
    {
     "name": "stderr",
     "output_type": "stream",
     "text": [
      "PartitionExplainer explainer: 2it [00:11, 11.91s/it]               \n"
     ]
    },
    {
     "data": {
      "application/vnd.jupyter.widget-view+json": {
       "model_id": "2abb7e75e2d44366ac9e247cfa09aefd",
       "version_major": 2,
       "version_minor": 0
      },
      "text/plain": [
       "  0%|          | 0/498 [00:00<?, ?it/s]"
      ]
     },
     "metadata": {},
     "output_type": "display_data"
    },
    {
     "name": "stderr",
     "output_type": "stream",
     "text": [
      "PartitionExplainer explainer: 2it [00:40, 40.02s/it]               \n"
     ]
    },
    {
     "data": {
      "application/vnd.jupyter.widget-view+json": {
       "model_id": "09544e2fce7f4a7292d1c1b4f62183e9",
       "version_major": 2,
       "version_minor": 0
      },
      "text/plain": [
       "  0%|          | 0/498 [00:00<?, ?it/s]"
      ]
     },
     "metadata": {},
     "output_type": "display_data"
    },
    {
     "name": "stderr",
     "output_type": "stream",
     "text": [
      "PartitionExplainer explainer: 2it [00:22, 22.15s/it]               \n"
     ]
    },
    {
     "data": {
      "application/vnd.jupyter.widget-view+json": {
       "model_id": "a02bf80a70a44262a809824338edf97b",
       "version_major": 2,
       "version_minor": 0
      },
      "text/plain": [
       "  0%|          | 0/498 [00:00<?, ?it/s]"
      ]
     },
     "metadata": {},
     "output_type": "display_data"
    },
    {
     "name": "stderr",
     "output_type": "stream",
     "text": [
      "PartitionExplainer explainer: 2it [00:12, 12.78s/it]               \n"
     ]
    },
    {
     "data": {
      "application/vnd.jupyter.widget-view+json": {
       "model_id": "5a48d127c4644753b49b941a3163b036",
       "version_major": 2,
       "version_minor": 0
      },
      "text/plain": [
       "  0%|          | 0/498 [00:00<?, ?it/s]"
      ]
     },
     "metadata": {},
     "output_type": "display_data"
    },
    {
     "name": "stderr",
     "output_type": "stream",
     "text": [
      "PartitionExplainer explainer: 2it [00:13, 13.01s/it]               \n"
     ]
    },
    {
     "data": {
      "application/vnd.jupyter.widget-view+json": {
       "model_id": "ceb5ab6782ec4c4e89065e59a322c454",
       "version_major": 2,
       "version_minor": 0
      },
      "text/plain": [
       "  0%|          | 0/498 [00:00<?, ?it/s]"
      ]
     },
     "metadata": {},
     "output_type": "display_data"
    },
    {
     "name": "stderr",
     "output_type": "stream",
     "text": [
      "PartitionExplainer explainer: 2it [00:22, 22.92s/it]               \n"
     ]
    },
    {
     "data": {
      "application/vnd.jupyter.widget-view+json": {
       "model_id": "91c9eadfa6f648238e4fa7f848f5ecca",
       "version_major": 2,
       "version_minor": 0
      },
      "text/plain": [
       "  0%|          | 0/498 [00:00<?, ?it/s]"
      ]
     },
     "metadata": {},
     "output_type": "display_data"
    },
    {
     "name": "stderr",
     "output_type": "stream",
     "text": [
      "PartitionExplainer explainer: 2it [00:27, 27.61s/it]               \n"
     ]
    },
    {
     "data": {
      "application/vnd.jupyter.widget-view+json": {
       "model_id": "1d1d07a2b6ce46c8a68de88a0ed75bf1",
       "version_major": 2,
       "version_minor": 0
      },
      "text/plain": [
       "  0%|          | 0/498 [00:00<?, ?it/s]"
      ]
     },
     "metadata": {},
     "output_type": "display_data"
    },
    {
     "name": "stderr",
     "output_type": "stream",
     "text": [
      "PartitionExplainer explainer: 2it [00:29, 29.44s/it]               \n"
     ]
    },
    {
     "data": {
      "application/vnd.jupyter.widget-view+json": {
       "model_id": "b869bfa7324b441eb474ce0820725736",
       "version_major": 2,
       "version_minor": 0
      },
      "text/plain": [
       "  0%|          | 0/498 [00:00<?, ?it/s]"
      ]
     },
     "metadata": {},
     "output_type": "display_data"
    },
    {
     "name": "stderr",
     "output_type": "stream",
     "text": [
      "PartitionExplainer explainer: 2it [00:19, 19.06s/it]               \n"
     ]
    },
    {
     "data": {
      "application/vnd.jupyter.widget-view+json": {
       "model_id": "0d8a8f9fcd0e40d29f6cd0036b3f3845",
       "version_major": 2,
       "version_minor": 0
      },
      "text/plain": [
       "  0%|          | 0/498 [00:00<?, ?it/s]"
      ]
     },
     "metadata": {},
     "output_type": "display_data"
    },
    {
     "name": "stderr",
     "output_type": "stream",
     "text": [
      "PartitionExplainer explainer: 2it [00:16, 16.85s/it]               \n"
     ]
    },
    {
     "data": {
      "application/vnd.jupyter.widget-view+json": {
       "model_id": "44b673606d4e4761be760a390fe6c9ce",
       "version_major": 2,
       "version_minor": 0
      },
      "text/plain": [
       "  0%|          | 0/498 [00:00<?, ?it/s]"
      ]
     },
     "metadata": {},
     "output_type": "display_data"
    },
    {
     "name": "stderr",
     "output_type": "stream",
     "text": [
      "PartitionExplainer explainer: 2it [00:22, 22.01s/it]               \n"
     ]
    },
    {
     "data": {
      "application/vnd.jupyter.widget-view+json": {
       "model_id": "c0774a396b314c2fba98f3308bb85698",
       "version_major": 2,
       "version_minor": 0
      },
      "text/plain": [
       "  0%|          | 0/498 [00:00<?, ?it/s]"
      ]
     },
     "metadata": {},
     "output_type": "display_data"
    },
    {
     "name": "stderr",
     "output_type": "stream",
     "text": [
      "PartitionExplainer explainer: 2it [00:12, 12.71s/it]               \n"
     ]
    },
    {
     "data": {
      "application/vnd.jupyter.widget-view+json": {
       "model_id": "ac81466ad3084b83a5ffe38e9b468a44",
       "version_major": 2,
       "version_minor": 0
      },
      "text/plain": [
       "  0%|          | 0/498 [00:00<?, ?it/s]"
      ]
     },
     "metadata": {},
     "output_type": "display_data"
    },
    {
     "name": "stderr",
     "output_type": "stream",
     "text": [
      "PartitionExplainer explainer: 2it [00:27, 27.44s/it]               \n"
     ]
    },
    {
     "data": {
      "application/vnd.jupyter.widget-view+json": {
       "model_id": "ed52e3c630ca4f61bb270942ca450ddb",
       "version_major": 2,
       "version_minor": 0
      },
      "text/plain": [
       "  0%|          | 0/498 [00:00<?, ?it/s]"
      ]
     },
     "metadata": {},
     "output_type": "display_data"
    },
    {
     "name": "stderr",
     "output_type": "stream",
     "text": [
      "PartitionExplainer explainer: 2it [00:48, 48.45s/it]               \n"
     ]
    },
    {
     "data": {
      "application/vnd.jupyter.widget-view+json": {
       "model_id": "c90f8118cef74a30b466c5a12e870782",
       "version_major": 2,
       "version_minor": 0
      },
      "text/plain": [
       "  0%|          | 0/498 [00:00<?, ?it/s]"
      ]
     },
     "metadata": {},
     "output_type": "display_data"
    },
    {
     "name": "stderr",
     "output_type": "stream",
     "text": [
      "PartitionExplainer explainer: 2it [00:44, 44.81s/it]               \n",
      "PartitionExplainer explainer: 2it [00:10, 10.88s/it]               \n"
     ]
    },
    {
     "data": {
      "application/vnd.jupyter.widget-view+json": {
       "model_id": "e591387951d94bef9463049b4f17de15",
       "version_major": 2,
       "version_minor": 0
      },
      "text/plain": [
       "  0%|          | 0/498 [00:00<?, ?it/s]"
      ]
     },
     "metadata": {},
     "output_type": "display_data"
    },
    {
     "name": "stderr",
     "output_type": "stream",
     "text": [
      "PartitionExplainer explainer: 2it [00:20, 20.91s/it]               \n"
     ]
    },
    {
     "data": {
      "application/vnd.jupyter.widget-view+json": {
       "model_id": "ec2e8302d74b4ceca0e5a2af7ebdcf17",
       "version_major": 2,
       "version_minor": 0
      },
      "text/plain": [
       "  0%|          | 0/498 [00:00<?, ?it/s]"
      ]
     },
     "metadata": {},
     "output_type": "display_data"
    },
    {
     "name": "stderr",
     "output_type": "stream",
     "text": [
      "PartitionExplainer explainer: 2it [00:31, 31.65s/it]               \n"
     ]
    },
    {
     "data": {
      "application/vnd.jupyter.widget-view+json": {
       "model_id": "dbe45711a3104e54be4eb809378a761d",
       "version_major": 2,
       "version_minor": 0
      },
      "text/plain": [
       "  0%|          | 0/498 [00:00<?, ?it/s]"
      ]
     },
     "metadata": {},
     "output_type": "display_data"
    },
    {
     "name": "stderr",
     "output_type": "stream",
     "text": [
      "PartitionExplainer explainer: 2it [00:35, 35.87s/it]               \n"
     ]
    },
    {
     "data": {
      "application/vnd.jupyter.widget-view+json": {
       "model_id": "0e3a10995048418d98eb1eb3d77e1d73",
       "version_major": 2,
       "version_minor": 0
      },
      "text/plain": [
       "  0%|          | 0/498 [00:00<?, ?it/s]"
      ]
     },
     "metadata": {},
     "output_type": "display_data"
    },
    {
     "name": "stderr",
     "output_type": "stream",
     "text": [
      "PartitionExplainer explainer: 2it [00:22, 22.06s/it]               \n"
     ]
    },
    {
     "data": {
      "application/vnd.jupyter.widget-view+json": {
       "model_id": "1bb58e0964474354a74e7f62efd6e209",
       "version_major": 2,
       "version_minor": 0
      },
      "text/plain": [
       "  0%|          | 0/498 [00:00<?, ?it/s]"
      ]
     },
     "metadata": {},
     "output_type": "display_data"
    },
    {
     "name": "stderr",
     "output_type": "stream",
     "text": [
      "PartitionExplainer explainer: 2it [00:40, 40.43s/it]               \n"
     ]
    },
    {
     "data": {
      "application/vnd.jupyter.widget-view+json": {
       "model_id": "af55c2985025485695a6d5027f119e91",
       "version_major": 2,
       "version_minor": 0
      },
      "text/plain": [
       "  0%|          | 0/498 [00:00<?, ?it/s]"
      ]
     },
     "metadata": {},
     "output_type": "display_data"
    },
    {
     "name": "stderr",
     "output_type": "stream",
     "text": [
      "PartitionExplainer explainer: 2it [00:23, 23.02s/it]               \n",
      "Testing noise levels:  87%|████████▋ | 13/15 [3:05:23<28:38, 859.49s/it]"
     ]
    },
    {
     "data": {
      "application/vnd.jupyter.widget-view+json": {
       "model_id": "2d79d29d46af49f1ba574fa0049e236a",
       "version_major": 2,
       "version_minor": 0
      },
      "text/plain": [
       "  0%|          | 0/498 [00:00<?, ?it/s]"
      ]
     },
     "metadata": {},
     "output_type": "display_data"
    },
    {
     "name": "stderr",
     "output_type": "stream",
     "text": [
      "PartitionExplainer explainer: 2it [00:30, 30.66s/it]               \n"
     ]
    },
    {
     "data": {
      "application/vnd.jupyter.widget-view+json": {
       "model_id": "e3628c9c398640e7b77089f3dd3352bf",
       "version_major": 2,
       "version_minor": 0
      },
      "text/plain": [
       "  0%|          | 0/498 [00:00<?, ?it/s]"
      ]
     },
     "metadata": {},
     "output_type": "display_data"
    },
    {
     "name": "stderr",
     "output_type": "stream",
     "text": [
      "PartitionExplainer explainer: 2it [00:30, 30.14s/it]               \n"
     ]
    },
    {
     "data": {
      "application/vnd.jupyter.widget-view+json": {
       "model_id": "ab0b3b64645849708f4c82e5274642c7",
       "version_major": 2,
       "version_minor": 0
      },
      "text/plain": [
       "  0%|          | 0/498 [00:00<?, ?it/s]"
      ]
     },
     "metadata": {},
     "output_type": "display_data"
    },
    {
     "name": "stderr",
     "output_type": "stream",
     "text": [
      "PartitionExplainer explainer: 2it [00:25, 25.75s/it]               \n"
     ]
    },
    {
     "data": {
      "application/vnd.jupyter.widget-view+json": {
       "model_id": "4e420823fe1448f1a65fe6fb94ca6ef7",
       "version_major": 2,
       "version_minor": 0
      },
      "text/plain": [
       "  0%|          | 0/498 [00:00<?, ?it/s]"
      ]
     },
     "metadata": {},
     "output_type": "display_data"
    },
    {
     "name": "stderr",
     "output_type": "stream",
     "text": [
      "PartitionExplainer explainer: 2it [00:24, 24.61s/it]               \n"
     ]
    },
    {
     "data": {
      "application/vnd.jupyter.widget-view+json": {
       "model_id": "5018d7dfec95463583c95dc973c120a1",
       "version_major": 2,
       "version_minor": 0
      },
      "text/plain": [
       "  0%|          | 0/498 [00:00<?, ?it/s]"
      ]
     },
     "metadata": {},
     "output_type": "display_data"
    },
    {
     "name": "stderr",
     "output_type": "stream",
     "text": [
      "PartitionExplainer explainer: 2it [00:15, 15.61s/it]               \n"
     ]
    },
    {
     "data": {
      "application/vnd.jupyter.widget-view+json": {
       "model_id": "140ef9c6c7e74eaab1d63ad589d86b36",
       "version_major": 2,
       "version_minor": 0
      },
      "text/plain": [
       "  0%|          | 0/498 [00:00<?, ?it/s]"
      ]
     },
     "metadata": {},
     "output_type": "display_data"
    },
    {
     "name": "stderr",
     "output_type": "stream",
     "text": [
      "PartitionExplainer explainer: 2it [00:22, 22.86s/it]               \n"
     ]
    },
    {
     "data": {
      "application/vnd.jupyter.widget-view+json": {
       "model_id": "ee98258ad6d7467e889d6dfaccd1726a",
       "version_major": 2,
       "version_minor": 0
      },
      "text/plain": [
       "  0%|          | 0/498 [00:00<?, ?it/s]"
      ]
     },
     "metadata": {},
     "output_type": "display_data"
    },
    {
     "name": "stderr",
     "output_type": "stream",
     "text": [
      "PartitionExplainer explainer: 2it [00:46, 46.78s/it]               \n",
      "PartitionExplainer explainer: 2it [00:11, 11.67s/it]               \n"
     ]
    },
    {
     "data": {
      "application/vnd.jupyter.widget-view+json": {
       "model_id": "9a23737ed59947fd8f38881e861bd998",
       "version_major": 2,
       "version_minor": 0
      },
      "text/plain": [
       "  0%|          | 0/498 [00:00<?, ?it/s]"
      ]
     },
     "metadata": {},
     "output_type": "display_data"
    },
    {
     "name": "stderr",
     "output_type": "stream",
     "text": [
      "PartitionExplainer explainer: 2it [00:38, 38.78s/it]               \n"
     ]
    },
    {
     "data": {
      "application/vnd.jupyter.widget-view+json": {
       "model_id": "f015ef5991464ed6aa9b0be0988854ba",
       "version_major": 2,
       "version_minor": 0
      },
      "text/plain": [
       "  0%|          | 0/498 [00:00<?, ?it/s]"
      ]
     },
     "metadata": {},
     "output_type": "display_data"
    },
    {
     "name": "stderr",
     "output_type": "stream",
     "text": [
      "PartitionExplainer explainer: 2it [00:22, 22.22s/it]               \n",
      "PartitionExplainer explainer: 2it [00:12, 12.57s/it]               \n"
     ]
    },
    {
     "data": {
      "application/vnd.jupyter.widget-view+json": {
       "model_id": "40acbf92bde54b8d8103e495280d61eb",
       "version_major": 2,
       "version_minor": 0
      },
      "text/plain": [
       "  0%|          | 0/498 [00:00<?, ?it/s]"
      ]
     },
     "metadata": {},
     "output_type": "display_data"
    },
    {
     "name": "stderr",
     "output_type": "stream",
     "text": [
      "PartitionExplainer explainer: 2it [00:12, 13.00s/it]               \n"
     ]
    },
    {
     "data": {
      "application/vnd.jupyter.widget-view+json": {
       "model_id": "c769fbd9e55c496790643ac0e25a579e",
       "version_major": 2,
       "version_minor": 0
      },
      "text/plain": [
       "  0%|          | 0/498 [00:00<?, ?it/s]"
      ]
     },
     "metadata": {},
     "output_type": "display_data"
    },
    {
     "name": "stderr",
     "output_type": "stream",
     "text": [
      "PartitionExplainer explainer: 2it [00:23, 23.04s/it]               \n"
     ]
    },
    {
     "data": {
      "application/vnd.jupyter.widget-view+json": {
       "model_id": "9d63ed9e5d4e40059fa898e38d871bde",
       "version_major": 2,
       "version_minor": 0
      },
      "text/plain": [
       "  0%|          | 0/498 [00:00<?, ?it/s]"
      ]
     },
     "metadata": {},
     "output_type": "display_data"
    },
    {
     "name": "stderr",
     "output_type": "stream",
     "text": [
      "PartitionExplainer explainer: 2it [00:28, 28.20s/it]               \n"
     ]
    },
    {
     "data": {
      "application/vnd.jupyter.widget-view+json": {
       "model_id": "b26e43e0f2994447a7b08d53688d2600",
       "version_major": 2,
       "version_minor": 0
      },
      "text/plain": [
       "  0%|          | 0/498 [00:00<?, ?it/s]"
      ]
     },
     "metadata": {},
     "output_type": "display_data"
    },
    {
     "name": "stderr",
     "output_type": "stream",
     "text": [
      "PartitionExplainer explainer: 2it [00:30, 30.44s/it]               \n"
     ]
    },
    {
     "data": {
      "application/vnd.jupyter.widget-view+json": {
       "model_id": "20f3751781e24558aaa88184d26e5296",
       "version_major": 2,
       "version_minor": 0
      },
      "text/plain": [
       "  0%|          | 0/498 [00:00<?, ?it/s]"
      ]
     },
     "metadata": {},
     "output_type": "display_data"
    },
    {
     "name": "stderr",
     "output_type": "stream",
     "text": [
      "PartitionExplainer explainer: 2it [00:19, 19.44s/it]               \n"
     ]
    },
    {
     "data": {
      "application/vnd.jupyter.widget-view+json": {
       "model_id": "f8122ea1629c4347812fb981db8112b5",
       "version_major": 2,
       "version_minor": 0
      },
      "text/plain": [
       "  0%|          | 0/498 [00:00<?, ?it/s]"
      ]
     },
     "metadata": {},
     "output_type": "display_data"
    },
    {
     "name": "stderr",
     "output_type": "stream",
     "text": [
      "PartitionExplainer explainer: 2it [00:17, 17.05s/it]               \n"
     ]
    },
    {
     "data": {
      "application/vnd.jupyter.widget-view+json": {
       "model_id": "92e342c0555a4119bb87f63944f4cc42",
       "version_major": 2,
       "version_minor": 0
      },
      "text/plain": [
       "  0%|          | 0/498 [00:00<?, ?it/s]"
      ]
     },
     "metadata": {},
     "output_type": "display_data"
    },
    {
     "name": "stderr",
     "output_type": "stream",
     "text": [
      "PartitionExplainer explainer: 2it [00:21, 21.99s/it]               \n"
     ]
    },
    {
     "data": {
      "application/vnd.jupyter.widget-view+json": {
       "model_id": "979417de008d48d883789f3f5cb0d3ca",
       "version_major": 2,
       "version_minor": 0
      },
      "text/plain": [
       "  0%|          | 0/498 [00:00<?, ?it/s]"
      ]
     },
     "metadata": {},
     "output_type": "display_data"
    },
    {
     "name": "stderr",
     "output_type": "stream",
     "text": [
      "PartitionExplainer explainer: 2it [00:27, 27.17s/it]               \n"
     ]
    }
   ],
   "source": [
    "# ================= Setup and Extended Noise Testing =================\n",
    "import matplotlib.pyplot as plt\n",
    "import seaborn as sns\n",
    "import numpy as np\n",
    "import pandas as pd\n",
    "import torch\n",
    "import torch.nn.functional as F\n",
    "from tqdm import tqdm\n",
    "import shap\n",
    "from collections import defaultdict\n",
    "import warnings\n",
    "warnings.filterwarnings('ignore')\n",
    "\n",
    "# Set style for better plots\n",
    "plt.style.use('seaborn-v0_8')\n",
    "sns.set_palette(\"husl\")\n",
    "\n",
    "def extended_noise_vulnerability_test(model, tokenizer, test_sentences, \n",
    "                                    noise_levels=np.arange(0.01, 0.3, 0.02),\n",
    "                                    n_samples=50):\n",
    "    \"\"\"\n",
    "    Extended noise vulnerability testing with more noise levels and samples\n",
    "    \"\"\"\n",
    "    print(f\"Testing noise vulnerability across {len(noise_levels)} noise levels...\")\n",
    "    \n",
    "    # CRITICAL FIX: Set model to evaluation mode\n",
    "    model.eval()\n",
    "    \n",
    "    results = {\n",
    "        'noise_levels': [],\n",
    "        'mean_shap_diff': [],\n",
    "        'std_shap_diff': [],\n",
    "        'prediction_flips': [],\n",
    "        'flip_rates': [],\n",
    "        'confidence_drops': [],\n",
    "        'max_shap_diff': [],\n",
    "        'min_shap_diff': []\n",
    "    }\n",
    "    \n",
    "    base_predict_fn = create_predict_function(model, tokenizer)\n",
    "    base_explainer = shap.Explainer(base_predict_fn, shap.maskers.Text(tokenizer))\n",
    "    \n",
    "    # Get baseline predictions and SHAP values\n",
    "    baseline_predictions = []\n",
    "    baseline_confidences = []\n",
    "    baseline_shap_values = []\n",
    "    \n",
    "    sample_sentences = test_sentences[:n_samples]\n",
    "    \n",
    "    print(\"Computing baseline values...\")\n",
    "    for sentence in tqdm(sample_sentences):\n",
    "        try:\n",
    "            pred_result = base_predict_fn([sentence])\n",
    "            baseline_predictions.append(pred_result.argmax())\n",
    "            baseline_confidences.append(pred_result.max())\n",
    "            \n",
    "            shap_values = base_explainer([sentence])\n",
    "            baseline_shap_values.append(shap_values[0].values)\n",
    "        except Exception as e:\n",
    "            print(f\"Error with sentence: {e}\")\n",
    "            continue\n",
    "    \n",
    "    for noise_std in tqdm(noise_levels, desc=\"Testing noise levels\"):\n",
    "        def noisy_predict_fn(texts):\n",
    "            if isinstance(texts, np.ndarray):\n",
    "                texts = texts.tolist()\n",
    "            inputs = tokenizer(texts, return_tensors=\"pt\", padding=True, \n",
    "                             truncation=True, max_length=512, return_token_type_ids=False)\n",
    "            \n",
    "            # Get device from model\n",
    "            device = next(model.parameters()).device\n",
    "            inputs = {k: v.to(device) for k, v in inputs.items()}\n",
    "            \n",
    "            # Ensure model is in eval mode\n",
    "            model.eval()\n",
    "            \n",
    "            with torch.no_grad():\n",
    "                embeddings = model.bert.embeddings(input_ids=inputs['input_ids'])\n",
    "                noise = torch.randn_like(embeddings) * noise_std\n",
    "                noisy_embeddings = embeddings + noise\n",
    "                \n",
    "                encoder_outputs = model.bert.encoder(noisy_embeddings)\n",
    "                sequence_output = encoder_outputs[0]\n",
    "                \n",
    "                pooled_output, _ = model.attention_pooling(\n",
    "                    sequence_output, sequence_output, sequence_output,\n",
    "                    key_padding_mask=~inputs['attention_mask'].bool()\n",
    "                )\n",
    "                pooled_output = pooled_output.mean(dim=1)\n",
    "                pooled_output = model.layer_norm(pooled_output)\n",
    "                \n",
    "                x = pooled_output\n",
    "                for layer in model.classifier_layers:\n",
    "                    x = layer(x)\n",
    "                logits = model.final_classifier(x)\n",
    "                probs = torch.nn.functional.softmax(logits, dim=1)\n",
    "            return probs.cpu().numpy()\n",
    "        \n",
    "        noisy_explainer = shap.Explainer(noisy_predict_fn, shap.maskers.Text(tokenizer))\n",
    "        \n",
    "        shap_differences = []\n",
    "        prediction_flips = 0\n",
    "        confidence_drops = []\n",
    "        \n",
    "        for i, sentence in enumerate(sample_sentences[:len(baseline_predictions)]):\n",
    "            try:\n",
    "                # Get noisy predictions\n",
    "                noisy_pred_result = noisy_predict_fn([sentence])\n",
    "                noisy_pred = noisy_pred_result.argmax()\n",
    "                noisy_confidence = noisy_pred_result.max()\n",
    "                \n",
    "                # Check prediction flip\n",
    "                if baseline_predictions[i] != noisy_pred:\n",
    "                    prediction_flips += 1\n",
    "                \n",
    "                # Calculate confidence drop\n",
    "                confidence_drop = baseline_confidences[i] - noisy_confidence\n",
    "                confidence_drops.append(confidence_drop)\n",
    "                \n",
    "                # Get SHAP differences\n",
    "                noisy_shap = noisy_explainer([sentence])\n",
    "                base_vals = baseline_shap_values[i]\n",
    "                noisy_vals = noisy_shap[0].values\n",
    "                \n",
    "                # Handle different lengths\n",
    "                min_len = min(len(base_vals), len(noisy_vals))\n",
    "                if min_len > 0:\n",
    "                    diff = np.abs(base_vals[:min_len] - noisy_vals[:min_len])\n",
    "                    shap_differences.extend(diff)\n",
    "                \n",
    "            except Exception as e:\n",
    "                continue\n",
    "        \n",
    "        # Store results\n",
    "        results['noise_levels'].append(noise_std)\n",
    "        results['mean_shap_diff'].append(np.mean(shap_differences) if shap_differences else 0)\n",
    "        results['std_shap_diff'].append(np.std(shap_differences) if shap_differences else 0)\n",
    "        results['prediction_flips'].append(prediction_flips)\n",
    "        results['flip_rates'].append(prediction_flips / len(baseline_predictions))\n",
    "        results['confidence_drops'].append(np.mean(confidence_drops) if confidence_drops else 0)\n",
    "        results['max_shap_diff'].append(np.max(shap_differences) if shap_differences else 0)\n",
    "        results['min_shap_diff'].append(np.min(shap_differences) if shap_differences else 0)\n",
    "    \n",
    "    return results\n",
    "\n",
    "# Alternative: Create a safer predict function that handles batch size issues\n",
    "def create_safe_predict_function(model, tokenizer):\n",
    "    \"\"\"\n",
    "    Create a predict function that handles single samples safely\n",
    "    \"\"\"\n",
    "    def predict_fn(texts):\n",
    "        if isinstance(texts, str):\n",
    "            texts = [texts]\n",
    "        elif isinstance(texts, np.ndarray):\n",
    "            texts = texts.tolist()\n",
    "        \n",
    "        # Ensure we have at least 2 samples for batch norm\n",
    "        original_length = len(texts)\n",
    "        if len(texts) == 1:\n",
    "            texts = texts + texts  # Duplicate the single text\n",
    "        \n",
    "        inputs = tokenizer(texts, return_tensors=\"pt\", padding=True, \n",
    "                         truncation=True, max_length=512, return_token_type_ids=False)\n",
    "        \n",
    "        device = next(model.parameters()).device\n",
    "        inputs = {k: v.to(device) for k, v in inputs.items()}\n",
    "        \n",
    "        model.eval()  # Ensure eval mode\n",
    "        \n",
    "        with torch.no_grad():\n",
    "            embeddings = model.bert.embeddings(input_ids=inputs['input_ids'])\n",
    "            encoder_outputs = model.bert.encoder(embeddings)\n",
    "            sequence_output = encoder_outputs[0]\n",
    "            \n",
    "            pooled_output, _ = model.attention_pooling(\n",
    "                sequence_output, sequence_output, sequence_output,\n",
    "                key_padding_mask=~inputs['attention_mask'].bool()\n",
    "            )\n",
    "            pooled_output = pooled_output.mean(dim=1)\n",
    "            pooled_output = model.layer_norm(pooled_output)\n",
    "            \n",
    "            x = pooled_output\n",
    "            for layer in model.classifier_layers:\n",
    "                x = layer(x)\n",
    "            logits = model.final_classifier(x)\n",
    "            probs = torch.nn.functional.softmax(logits, dim=1)\n",
    "        \n",
    "        # Return only the original number of predictions\n",
    "        return probs[:original_length].cpu().numpy()\n",
    "    \n",
    "    return predict_fn\n",
    "\n",
    "# Run extended noise testing\n",
    "try:\n",
    "    # Load model if not already loaded\n",
    "    if 'model' not in locals():\n",
    "        model, tokenizer, config = ModelSaver.load_model(\"./final_model_checkpoint\")\n",
    "    \n",
    "    # CRITICAL FIX: Set model to evaluation mode\n",
    "    model.eval()\n",
    "    \n",
    "    # Update create_predict_function to use the safe version\n",
    "    create_predict_function = create_safe_predict_function\n",
    "    \n",
    "    # Get test sentences (assuming df_test exists from previous cell)\n",
    "    if 'df_test' not in locals():\n",
    "        print(\"df_test not found. Creating sample sentences...\")\n",
    "        test_sentences = [\n",
    "            \"The petition is allowed after thorough examination of evidence.\",\n",
    "            \"The court dismisses the application due to insufficient grounds.\",\n",
    "            \"Relief is granted considering the compelling arguments presented.\",\n",
    "            \"The motion is denied as it lacks legal merit.\",\n",
    "            \"After review, the court finds the petition has substance.\"\n",
    "        ] * 10  # Repeat to get more samples\n",
    "    else:\n",
    "        test_sentences = df_test['text'].tolist()\n",
    "    \n",
    "    noise_results = extended_noise_vulnerability_test(model, tokenizer, test_sentences)\n",
    "    print(\"Extended noise testing completed!\")\n",
    "    \n",
    "except Exception as e:\n",
    "    print(f\"Error in noise testing: {e}\")\n",
    "    print(\"Make sure the model is trained and saved first.\")\n",
    "\n",
    "# ================= Comprehensive Noise Attack Visualizations =================\n",
    "\n",
    "def plot_noise_attack_results(results):\n",
    "    \"\"\"\n",
    "    Create comprehensive plots for noise attack results\n",
    "    \"\"\"\n",
    "    fig, axes = plt.subplots(2, 3, figsize=(18, 12))\n",
    "    fig.suptitle('Noise Attack Vulnerability Analysis', fontsize=16, fontweight='bold')\n",
    "    \n",
    "    # Plot 1: SHAP Value Changes\n",
    "    axes[0, 0].plot(results['noise_levels'], results['mean_shap_diff'], 'b-', linewidth=2, label='Mean')\n",
    "    axes[0, 0].fill_between(results['noise_levels'], \n",
    "                           np.array(results['mean_shap_diff']) - np.array(results['std_shap_diff']),\n",
    "                           np.array(results['mean_shap_diff']) + np.array(results['std_shap_diff']),\n",
    "                           alpha=0.3, color='blue')\n",
    "    axes[0, 0].plot(results['noise_levels'], results['max_shap_diff'], 'r--', alpha=0.7, label='Max')\n",
    "    axes[0, 0].set_xlabel('Noise Level (σ)')\n",
    "    axes[0, 0].set_ylabel('SHAP Value Difference')\n",
    "    axes[0, 0].set_title('SHAP Stability vs Noise Level')\n",
    "    axes[0, 0].legend()\n",
    "    axes[0, 0].grid(True, alpha=0.3)\n",
    "    \n",
    "    # Plot 2: Prediction Flip Rate\n",
    "    axes[0, 1].plot(results['noise_levels'], results['flip_rates'], 'ro-', linewidth=2, markersize=4)\n",
    "    axes[0, 1].set_xlabel('Noise Level (σ)')\n",
    "    axes[0, 1].set_ylabel('Prediction Flip Rate')\n",
    "    axes[0, 1].set_title('Prediction Stability vs Noise Level')\n",
    "    axes[0, 1].grid(True, alpha=0.3)\n",
    "    \n",
    "    # Plot 3: Confidence Drop\n",
    "    axes[0, 2].plot(results['noise_levels'], results['confidence_drops'], 'g^-', linewidth=2, markersize=4)\n",
    "    axes[0, 2].set_xlabel('Noise Level (σ)')\n",
    "    axes[0, 2].set_ylabel('Average Confidence Drop')\n",
    "    axes[0, 2].set_title('Confidence Degradation vs Noise Level')\n",
    "    axes[0, 2].grid(True, alpha=0.3)\n",
    "    \n",
    "    # Plot 4: Cumulative Flip Rate\n",
    "    cumulative_flips = np.cumsum(results['prediction_flips'])\n",
    "    axes[1, 0].plot(results['noise_levels'], cumulative_flips, 'mo-', linewidth=2, markersize=4)\n",
    "    axes[1, 0].set_xlabel('Noise Level (σ)')\n",
    "    axes[1, 0].set_ylabel('Cumulative Prediction Flips')\n",
    "    axes[1, 0].set_title('Cumulative Prediction Instability')\n",
    "    axes[1, 0].grid(True, alpha=0.3)\n",
    "    \n",
    "    # Plot 5: SHAP Variance\n",
    "    shap_variance = np.array(results['std_shap_diff']) ** 2\n",
    "    axes[1, 1].plot(results['noise_levels'], shap_variance, 'co-', linewidth=2, markersize=4)\n",
    "    axes[1, 1].set_xlabel('Noise Level (σ)')\n",
    "    axes[1, 1].set_ylabel('SHAP Variance')\n",
    "    axes[1, 1].set_title('SHAP Explanation Variance')\n",
    "    axes[1, 1].grid(True, alpha=0.3)\n",
    "    \n",
    "    # Plot 6: Vulnerability Heatmap\n",
    "    vulnerability_matrix = np.array([\n",
    "        results['flip_rates'],\n",
    "        np.array(results['mean_shap_diff']) / np.max(results['mean_shap_diff']),\n",
    "        np.array(results['confidence_drops']) / np.max(results['confidence_drops'])\n",
    "    ])\n",
    "    \n",
    "    im = axes[1, 2].imshow(vulnerability_matrix, cmap='Reds', aspect='auto', interpolation='nearest')\n",
    "    axes[1, 2].set_xlabel('Noise Level Index')\n",
    "    axes[1, 2].set_ylabel('Vulnerability Metric')\n",
    "    axes[1, 2].set_title('Vulnerability Heatmap')\n",
    "    axes[1, 2].set_yticks([0, 1, 2])\n",
    "    axes[1, 2].set_yticklabels(['Flip Rate', 'SHAP Diff', 'Conf. Drop'])\n",
    "    \n",
    "    # Add colorbar\n",
    "    plt.colorbar(im, ax=axes[1, 2], shrink=0.8)\n",
    "    \n",
    "    plt.tight_layout()\n",
    "    plt.savefig('noise_attack_analysis.png', dpi=300, bbox_inches='tight')\n",
    "    plt.show()\n",
    "\n",
    "# Generate plots\n",
    "if 'noise_results' in locals():\n",
    "    plot_noise_attack_results(noise_results)\n",
    "else:\n",
    "    print(\"Run the noise testing first to generate plots.\")\n",
    "\n",
    "# ================= Individual SHAP Visualizations =================\n",
    "\n",
    "def visualize_shap_comparison(model, tokenizer, sentence, noise_levels=[0.0, 0.05, 0.1, 0.2]):\n",
    "    \"\"\"\n",
    "    Visualize SHAP values for the same sentence under different noise levels\n",
    "    \"\"\"\n",
    "    # Set model to evaluation mode\n",
    "    model.eval()\n",
    "    \n",
    "    fig, axes = plt.subplots(len(noise_levels), 1, figsize=(15, 4*len(noise_levels)))\n",
    "    if len(noise_levels) == 1:\n",
    "        axes = [axes]\n",
    "    \n",
    "    for i, noise_std in enumerate(noise_levels):\n",
    "        # Create prediction function with specific noise level\n",
    "        if noise_std == 0.0:\n",
    "            predict_fn = create_safe_predict_function(model, tokenizer)\n",
    "            title = f\"SHAP Values - No Noise (Baseline)\"\n",
    "        else:\n",
    "            def noisy_predict_fn(texts):\n",
    "                if isinstance(texts, str):\n",
    "                    texts = [texts]\n",
    "                elif isinstance(texts, np.ndarray):\n",
    "                    texts = texts.tolist()\n",
    "                \n",
    "                # Handle single sample issue\n",
    "                original_length = len(texts)\n",
    "                if len(texts) == 1:\n",
    "                    texts = texts + texts\n",
    "                \n",
    "                inputs = tokenizer(texts, return_tensors=\"pt\", padding=True, \n",
    "                                 truncation=True, max_length=512, return_token_type_ids=False)\n",
    "                \n",
    "                device = next(model.parameters()).device\n",
    "                inputs = {k: v.to(device) for k, v in inputs.items()}\n",
    "                \n",
    "                model.eval()  # Ensure eval mode\n",
    "                \n",
    "                with torch.no_grad():\n",
    "                    embeddings = model.bert.embeddings(input_ids=inputs['input_ids'])\n",
    "                    noise = torch.randn_like(embeddings) * noise_std\n",
    "                    noisy_embeddings = embeddings + noise\n",
    "                    \n",
    "                    encoder_outputs = model.bert.encoder(noisy_embeddings)\n",
    "                    sequence_output = encoder_outputs[0]\n",
    "                    \n",
    "                    pooled_output, _ = model.attention_pooling(\n",
    "                        sequence_output, sequence_output, sequence_output,\n",
    "                        key_padding_mask=~inputs['attention_mask'].bool()\n",
    "                    )\n",
    "                    pooled_output = pooled_output.mean(dim=1)\n",
    "                    pooled_output = model.layer_norm(pooled_output)\n",
    "                    \n",
    "                    x = pooled_output\n",
    "                    for layer in model.classifier_layers:\n",
    "                        x = layer(x)\n",
    "                    logits = model.final_classifier(x)\n",
    "                    probs = torch.nn.functional.softmax(logits, dim=1)\n",
    "                \n",
    "                return probs[:original_length].cpu().numpy()\n",
    "            \n",
    "            predict_fn = noisy_predict_fn\n",
    "            title = f\"SHAP Values - Noise σ={noise_std:.2f}\"\n",
    "        \n",
    "        # Generate SHAP values\n",
    "        try:\n",
    "            explainer = shap.Explainer(predict_fn, shap.maskers.Text(tokenizer))\n",
    "            shap_values = explainer([sentence])\n",
    "            \n",
    "            # Create waterfall plot\n",
    "            shap.plots.waterfall(shap_values[0][:, 1], show=False)  # Class 1 (positive)\n",
    "            axes[i].set_title(title, fontsize=14, fontweight='bold')\n",
    "            \n",
    "        except Exception as e:\n",
    "            print(f\"Error generating SHAP plot for noise {noise_std}: {e}\")\n",
    "            axes[i].text(0.5, 0.5, f\"Error: {str(e)}\", ha='center', va='center', transform=axes[i].transAxes)\n",
    "            axes[i].set_title(title, fontsize=14, fontweight='bold')\n",
    "    \n",
    "    plt.tight_layout()\n",
    "    plt.savefig(f'shap_noise_comparison.png', dpi=300, bbox_inches='tight')\n",
    "    plt.show()\n",
    "\n",
    "def create_shap_heatmap_comparison(model, tokenizer, sentences, noise_levels=[0.0, 0.1, 0.2]):\n",
    "    \"\"\"\n",
    "    Create heatmap comparing SHAP values across sentences and noise levels\n",
    "    \"\"\"\n",
    "    # Set model to evaluation mode\n",
    "    model.eval()\n",
    "    \n",
    "    shap_data = defaultdict(list)\n",
    "    \n",
    "    for noise_std in tqdm(noise_levels, desc=\"Processing noise levels\"):\n",
    "        if noise_std == 0.0:\n",
    "            predict_fn = create_safe_predict_function(model, tokenizer)\n",
    "        else:\n",
    "            def noisy_predict_fn(texts, noise_level=noise_std):\n",
    "                if isinstance(texts, str):\n",
    "                    texts = [texts]\n",
    "                elif isinstance(texts, np.ndarray):\n",
    "                    texts = texts.tolist()\n",
    "                \n",
    "                original_length = len(texts)\n",
    "                if len(texts) == 1:\n",
    "                    texts = texts + texts\n",
    "                \n",
    "                inputs = tokenizer(texts, return_tensors=\"pt\", padding=True, \n",
    "                                 truncation=True, max_length=512, return_token_type_ids=False)\n",
    "                \n",
    "                device = next(model.parameters()).device\n",
    "                inputs = {k: v.to(device) for k, v in inputs.items()}\n",
    "                \n",
    "                model.eval()\n",
    "                \n",
    "                with torch.no_grad():\n",
    "                    embeddings = model.bert.embeddings(input_ids=inputs['input_ids'])\n",
    "                    noise = torch.randn_like(embeddings) * noise_level\n",
    "                    noisy_embeddings = embeddings + noise\n",
    "                    \n",
    "                    encoder_outputs = model.bert.encoder(noisy_embeddings)\n",
    "                    sequence_output = encoder_outputs[0]\n",
    "                    \n",
    "                    pooled_output, _ = model.attention_pooling(\n",
    "                        sequence_output, sequence_output, sequence_output,\n",
    "                        key_padding_mask=~inputs['attention_mask'].bool()\n",
    "                    )\n",
    "                    pooled_output = pooled_output.mean(dim=1)\n",
    "                    pooled_output = model.layer_norm(pooled_output)\n",
    "                    \n",
    "                    x = pooled_output\n",
    "                    for layer in model.classifier_layers:\n",
    "                        x = layer(x)\n",
    "                    logits = model.final_classifier(x)\n",
    "                    probs = torch.nn.functional.softmax(logits, dim=1)\n",
    "                \n",
    "                return probs[:original_length].cpu().numpy()\n",
    "            \n",
    "            predict_fn = noisy_predict_fn\n",
    "        \n",
    "        explainer = shap.Explainer(predict_fn, shap.maskers.Text(tokenizer))\n",
    "        \n",
    "        for sentence in sentences[:5]:  # Limit to 5 sentences for readability\n",
    "            try:\n",
    "                shap_values = explainer([sentence])\n",
    "                # Store mean absolute SHAP value for this sentence/noise combination\n",
    "                mean_shap = np.mean(np.abs(shap_values[0].values))\n",
    "                shap_data[f\"Noise_{noise_std:.2f}\"].append(mean_shap)\n",
    "            except Exception as e:\n",
    "                print(f\"Error with sentence at noise {noise_std}: {e}\")\n",
    "                shap_data[f\"Noise_{noise_std:.2f}\"].append(0)\n",
    "    \n",
    "    # Create DataFrame for heatmap\n",
    "    df_heatmap = pd.DataFrame(shap_data)\n",
    "    df_heatmap.index = [f\"Sentence_{i+1}\" for i in range(len(sentences[:5]))]\n",
    "    \n",
    "    # Plot heatmap\n",
    "    plt.figure(figsize=(10, 6))\n",
    "    sns.heatmap(df_heatmap, annot=True, cmap='YlOrRd', fmt='.3f', cbar_kws={'label': 'Mean |SHAP Value|'})\n",
    "    plt.title('SHAP Value Intensity Across Noise Levels', fontsize=14, fontweight='bold')\n",
    "    plt.xlabel('Noise Level')\n",
    "    plt.ylabel('Sentences')\n",
    "    plt.xticks(rotation=45)\n",
    "    plt.tight_layout()\n",
    "    plt.savefig('shap_heatmap_noise.png', dpi=300, bbox_inches='tight')\n",
    "    plt.show()\n",
    "    \n",
    "    return df_heatmap\n",
    "\n",
    "# Example usage for SHAP visualizations\n",
    "try:\n",
    "    if 'model' not in locals():\n",
    "        model, tokenizer, config = ModelSaver.load_model(\"./final_model_checkpoint\")\n",
    "    \n",
    "    # CRITICAL FIX: Set model to evaluation mode\n",
    "    model.eval()\n",
    "    \n",
    "    # Select an interesting sentence for detailed analysis\n",
    "    sample_sentence = \"The court finds that the petition has merit and grants the requested relief based on compelling evidence.\"\n",
    "    \n",
    "    print(\"Generating SHAP comparison across noise levels...\")\n",
    "    visualize_shap_comparison(model, tokenizer, sample_sentence)\n",
    "    \n",
    "    # Create heatmap comparison\n",
    "    sample_sentences = [\n",
    "        \"The petition is granted after careful consideration.\",\n",
    "        \"The court dismisses the application without merit.\",\n",
    "        \"Relief is denied due to insufficient evidence.\",\n",
    "        \"The motion is allowed based on legal precedent.\",\n",
    "        \"The appeal is rejected for lack of grounds.\"\n",
    "    ]\n",
    "    \n",
    "    print(\"Creating SHAP intensity heatmap...\")\n",
    "    heatmap_df = create_shap_heatmap_comparison(model, tokenizer, sample_sentences)\n",
    "    \n",
    "except Exception as e:\n",
    "    print(f\"Error in SHAP visualization: {e}\")\n",
    "\n",
    "# ================= Advanced SHAP Attack Analysis =================\n",
    "\n",
    "def analyze_shap_word_importance_shifts(model, tokenizer, sentence, noise_levels=[0.0, 0.05, 0.1, 0.15, 0.2]):\n",
    "    \"\"\"\n",
    "    Analyze how word importance rankings change under noise\n",
    "    \"\"\"\n",
    "    # CRITICAL FIX: Set model to evaluation mode\n",
    "    model.eval()\n",
    "    \n",
    "    word_importance_data = {}\n",
    "    \n",
    "    # Tokenize sentence to get words\n",
    "    tokens = tokenizer.tokenize(sentence)\n",
    "    \n",
    "    for noise_std in noise_levels:\n",
    "        if noise_std == 0.0:\n",
    "            predict_fn = create_safe_predict_function(model, tokenizer)\n",
    "        else:\n",
    "            def noisy_predict_fn(texts, noise_level=noise_std):\n",
    "                if isinstance(texts, str):\n",
    "                    texts = [texts]\n",
    "                elif isinstance(texts, np.ndarray):\n",
    "                    texts = texts.tolist()\n",
    "                \n",
    "                original_length = len(texts)\n",
    "                if len(texts) == 1:\n",
    "                    texts = texts + texts\n",
    "                \n",
    "                inputs = tokenizer(texts, return_tensors=\"pt\", padding=True, \n",
    "                                 truncation=True, max_length=512, return_token_type_ids=False)\n",
    "                \n",
    "                device = next(model.parameters()).device\n",
    "                inputs = {k: v.to(device) for k, v in inputs.items()}\n",
    "                \n",
    "                model.eval()\n",
    "                \n",
    "                with torch.no_grad():\n",
    "                    embeddings = model.bert.embeddings(input_ids=inputs['input_ids'])\n",
    "                    noise = torch.randn_like(embeddings) * noise_level\n",
    "                    noisy_embeddings = embeddings + noise\n",
    "                    \n",
    "                    encoder_outputs = model.bert.encoder(noisy_embeddings)\n",
    "                    sequence_output = encoder_outputs[0]\n",
    "                    \n",
    "                    pooled_output, _ = model.attention_pooling(\n",
    "                        sequence_output, sequence_output, sequence_output,\n",
    "                        key_padding_mask=~inputs['attention_mask'].bool()\n",
    "                    )\n",
    "                    pooled_output = pooled_output.mean(dim=1)\n",
    "                    pooled_output = model.layer_norm(pooled_output)\n",
    "                    \n",
    "                    x = pooled_output\n",
    "                    for layer in model.classifier_layers:\n",
    "                        x = layer(x)\n",
    "                    logits = model.final_classifier(x)\n",
    "                    probs = torch.nn.functional.softmax(logits, dim=1)\n",
    "                \n",
    "                return probs[:original_length].cpu().numpy()\n",
    "            \n",
    "            predict_fn = noisy_predict_fn\n",
    "        \n",
    "        try:\n",
    "            explainer = shap.Explainer(predict_fn, shap.maskers.Text(tokenizer))\n",
    "            shap_values = explainer([sentence])\n",
    "            \n",
    "            # Get word importance (absolute SHAP values)\n",
    "            word_importance = np.abs(shap_values[0].values)\n",
    "            word_importance_data[f\"noise_{noise_std:.2f}\"] = word_importance\n",
    "            \n",
    "        except Exception as e:\n",
    "            print(f\"Error at noise {noise_std}: {e}\")\n",
    "            continue\n",
    "    \n",
    "    # Create visualization\n",
    "    if word_importance_data:\n",
    "        plt.figure(figsize=(15, 8))\n",
    "        \n",
    "        # Plot word importance across noise levels\n",
    "        for i, (noise_level, importance) in enumerate(word_importance_data.items()):\n",
    "            plt.plot(range(len(importance)), importance, 'o-', label=noise_level, alpha=0.7)\n",
    "        \n",
    "        plt.xlabel('Token Position')\n",
    "        plt.ylabel('Absolute SHAP Value')\n",
    "        plt.title('Word Importance Changes Across Noise Levels', fontsize=14, fontweight='bold')\n",
    "        plt.legend()\n",
    "        plt.grid(True, alpha=0.3)\n",
    "        \n",
    "        # Add token labels on x-axis (if not too many)\n",
    "        if len(tokens) <= 20:\n",
    "            plt.xticks(range(len(tokens)), tokens, rotation=45, ha='right')\n",
    "        \n",
    "        plt.tight_layout()\n",
    "        plt.savefig('word_importance_shifts.png', dpi=300, bbox_inches='tight')\n",
    "        plt.show()\n",
    "        \n",
    "        # Create ranking stability analysis\n",
    "        plt.figure(figsize=(12, 6))\n",
    "        \n",
    "        # Calculate ranking correlations\n",
    "        baseline_importance = word_importance_data['noise_0.00']\n",
    "        correlations = []\n",
    "        noise_vals = []\n",
    "        \n",
    "        for noise_level, importance in word_importance_data.items():\n",
    "            if noise_level != 'noise_0.00':\n",
    "                corr = np.corrcoef(baseline_importance, importance)[0, 1]\n",
    "                correlations.append(corr)\n",
    "                noise_vals.append(float(noise_level.split('_')[1]))\n",
    "        \n",
    "        plt.plot(noise_vals, correlations, 'ro-', linewidth=2, markersize=6)\n",
    "        plt.xlabel('Noise Level (σ)')\n",
    "        plt.ylabel('Ranking Correlation with Baseline')\n",
    "        plt.title('SHAP Ranking Stability Under Noise', fontsize=14, fontweight='bold')\n",
    "        plt.grid(True, alpha=0.3)\n",
    "        plt.ylim([0, 1])\n",
    "        \n",
    "        plt.tight_layout()\n",
    "        plt.savefig('ranking_stability.png', dpi=300, bbox_inches='tight')\n",
    "        plt.show()\n",
    "\n",
    "# Run advanced analysis\n",
    "try:\n",
    "    if 'model' not in locals():\n",
    "        model, tokenizer, config = ModelSaver.load_model(\"./final_model_checkpoint\")\n",
    "    \n",
    "    # CRITICAL FIX: Set model to evaluation mode\n",
    "    model.eval()\n",
    "    \n",
    "    analysis_sentence = \"The court carefully reviewed all evidence and determined that the petition should be granted due to compelling legal arguments.\"\n",
    "    \n",
    "    print(\"Analyzing word importance shifts under noise...\")\n",
    "    analyze_shap_word_importance_shifts(model, tokenizer, analysis_sentence)\n",
    "    \n",
    "except Exception as e:\n",
    "    print(f\"Error in advanced analysis: {e}\")\n",
    "\n",
    "print(\"All noise attack and SHAP visualization experiments completed!\")\n",
    "print(\"Generated plots:\")\n",
    "print(\"- noise_attack_analysis.png: Comprehensive noise vulnerability analysis\")\n",
    "print(\"- shap_noise_comparison.png: SHAP values comparison across noise levels\")\n",
    "print(\"- shap_heatmap_noise.png: SHAP intensity heatmap\")\n",
    "print(\"- word_importance_shifts.png: Word importance changes\")\n",
    "print(\"- ranking_stability.png: SHAP ranking stability\")"
   ]
  },
  {
   "cell_type": "code",
   "execution_count": 5,
   "id": "34e9f265",
   "metadata": {},
   "outputs": [],
   "source": [
    "# ================= Interactive SHAP Dashboard =================\n",
    "\n",
    "import ipywidgets as widgets\n",
    "from IPython.display import display, clear_output\n",
    "import matplotlib.pyplot as plt\n",
    "import numpy as np\n",
    "import shap\n",
    "\n",
    "def create_interactive_shap_explorer(model, tokenizer, test_sentences):\n",
    "    \"\"\"\n",
    "    Create an interactive widget for exploring SHAP values under different conditions\n",
    "    \"\"\"\n",
    "    # Use first 5 sentences from test_sentences for quick testing\n",
    "    sample_sentences = test_sentences[:5] if len(test_sentences) >= 5 else test_sentences\n",
    "    \n",
    "    # Create widgets\n",
    "    sentence_dropdown = widgets.Dropdown(\n",
    "        options=[(f\"Sample {i+1}: {sent[:60]}...\", sent) for i, sent in enumerate(sample_sentences)],\n",
    "        description='Sentence:',\n",
    "        style={'description_width': 'initial'},\n",
    "        layout=widgets.Layout(width='800px')\n",
    "    )\n",
    "    \n",
    "    custom_text = widgets.Textarea(\n",
    "        placeholder='Or enter your own legal text here...',\n",
    "        description='Custom Text:',\n",
    "        style={'description_width': 'initial'},\n",
    "        layout=widgets.Layout(width='800px', height='100px')\n",
    "    )\n",
    "    \n",
    "    noise_slider = widgets.FloatSlider(\n",
    "        value=0.0,\n",
    "        min=0.0,\n",
    "        max=0.3,\n",
    "        step=0.01,\n",
    "        description='Noise Level:',\n",
    "        style={'description_width': 'initial'}\n",
    "    )\n",
    "    \n",
    "    analysis_type = widgets.Dropdown(\n",
    "        options=['Waterfall Plot', 'Bar Plot', 'Text Highlighting', 'Force Plot'],\n",
    "        description='Plot Type:',\n",
    "        style={'description_width': 'initial'}\n",
    "    )\n",
    "    \n",
    "    analyze_button = widgets.Button(\n",
    "        description='Analyze SHAP',\n",
    "        button_style='primary',\n",
    "        layout=widgets.Layout(width='200px')\n",
    "    )\n",
    "    \n",
    "    output = widgets.Output()\n",
    "    \n",
    "    def on_analyze_click(b):\n",
    "        with output:\n",
    "            clear_output(wait=True)\n",
    "            \n",
    "            # Get text to analyze\n",
    "            if custom_text.value.strip():\n",
    "                text = custom_text.value.strip()\n",
    "            else:\n",
    "                text = sentence_dropdown.value\n",
    "            \n",
    "            noise_level = noise_slider.value\n",
    "            plot_type = analysis_type.value\n",
    "            \n",
    "            print(f\"Analyzing: {text[:100]}...\")\n",
    "            print(f\"Noise level: {noise_level}\")\n",
    "            print(f\"Plot type: {plot_type}\")\n",
    "            print(\"-\" * 50)\n",
    "            \n",
    "            try:\n",
    "                # Create prediction function\n",
    "                if noise_level == 0.0:\n",
    "                    predict_fn = create_predict_function(model, tokenizer)\n",
    "                else:\n",
    "                    def noisy_predict_fn(texts):\n",
    "                        if isinstance(texts, np.ndarray):\n",
    "                            texts = texts.tolist()\n",
    "                        inputs = tokenizer(texts, return_tensors=\"pt\", padding=True, \n",
    "                                         truncation=True, max_length=512, return_token_type_ids=False)\n",
    "                        inputs = {k: v.to(device) for k, v in inputs.items()}\n",
    "                        \n",
    "                        with torch.no_grad():\n",
    "                            embeddings = model.bert.embeddings(input_ids=inputs['input_ids'])\n",
    "                            noise = torch.randn_like(embeddings) * noise_level\n",
    "                            noisy_embeddings = embeddings + noise\n",
    "                            \n",
    "                            encoder_outputs = model.bert.encoder(noisy_embeddings)\n",
    "                            sequence_output = encoder_outputs[0]\n",
    "                            \n",
    "                            pooled_output, _ = model.attention_pooling(\n",
    "                                sequence_output, sequence_output, sequence_output,\n",
    "                                key_padding_mask=~inputs['attention_mask'].bool()\n",
    "                            )\n",
    "                            pooled_output = pooled_output.mean(dim=1)\n",
    "                            pooled_output = model.layer_norm(pooled_output)\n",
    "                            \n",
    "                            x = pooled_output\n",
    "                            for layer in model.classifier_layers:\n",
    "                                x = layer(x)\n",
    "                            logits = model.final_classifier(x)\n",
    "                            probs = torch.nn.functional.softmax(logits, dim=1)\n",
    "                        return probs.cpu().numpy()\n",
    "                    \n",
    "                    predict_fn = noisy_predict_fn\n",
    "                \n",
    "                # Generate prediction and SHAP values\n",
    "                prediction = predict_fn([text])\n",
    "                pred_class = prediction.argmax()\n",
    "                confidence = prediction.max()\n",
    "                \n",
    "                print(f\"Prediction: {'POSITIVE' if pred_class == 1 else 'NEGATIVE'}\")\n",
    "                print(f\"Confidence: {confidence:.3f}\")\n",
    "                print()\n",
    "                \n",
    "                explainer = shap.Explainer(predict_fn, shap.maskers.Text(tokenizer))\n",
    "                shap_values = explainer([text])\n",
    "                \n",
    "                # Create visualization based on selected type\n",
    "                plt.figure(figsize=(12, 6))\n",
    "                \n",
    "                if plot_type == 'Waterfall Plot':\n",
    "                    shap.plots.waterfall(shap_values[0][:, pred_class], show=False)\n",
    "                    plt.title(f'SHAP Waterfall Plot - Class {pred_class} (Noise: {noise_level})')\n",
    "                \n",
    "                elif plot_type == 'Bar Plot':\n",
    "                    shap.plots.bar(shap_values[0][:, pred_class], show=False)\n",
    "                    plt.title(f'SHAP Bar Plot - Class {pred_class} (Noise: {noise_level})')\n",
    "                \n",
    "                elif plot_type == 'Text Highlighting':\n",
    "                    # Create a simple text highlighting plot\n",
    "                    tokens = shap_values[0].data\n",
    "                    values = shap_values[0].values\n",
    "                    \n",
    "                    plt.figure(figsize=(15, 3))\n",
    "                    colors = ['red' if v < 0 else 'green' for v in values]\n",
    "                    sizes = [abs(v) * 1000 + 10 for v in values]\n",
    "                    \n",
    "                    for i, (token, value, color, size) in enumerate(zip(tokens, values, colors, sizes)):\n",
    "                        plt.scatter(i, 0, c=color, s=size, alpha=0.7)\n",
    "                        plt.text(i, 0.1, token, rotation=45, ha='right', va='bottom', fontsize=8)\n",
    "                    \n",
    "                    plt.xlim(-1, len(tokens))\n",
    "                    plt.ylim(-0.2, 0.5)\n",
    "                    plt.xlabel('Token Position')\n",
    "                    plt.title(f'SHAP Token Importance (Green=Positive, Red=Negative, Size=Magnitude)')\n",
    "                    plt.grid(True, alpha=0.3)\n",
    "                \n",
    "                elif plot_type == 'Force Plot':\n",
    "                    # Create force plot equivalent\n",
    "                    shap.plots.force(shap_values[0][:, pred_class], show=False)\n",
    "                    plt.title(f'SHAP Force Plot - Class {pred_class} (Noise: {noise_level})')\n",
    "                \n",
    "                plt.tight_layout()\n",
    "                plt.show()\n",
    "                \n",
    "            except Exception as e:\n",
    "                print(f\"Error in analysis: {e}\")\n",
    "                import traceback\n",
    "                traceback.print_exc()\n",
    "    \n",
    "    analyze_button.on_click(on_analyze_click)\n",
    "    \n",
    "    # Layout\n",
    "    ui = widgets.VBox([\n",
    "        widgets.HTML(\"<h3>Interactive SHAP Explorer</h3>\"),\n",
    "        sentence_dropdown,\n",
    "        custom_text,\n",
    "        widgets.HBox([noise_slider, analysis_type]),\n",
    "        analyze_button,\n",
    "        output\n",
    "    ])\n",
    "    \n",
    "    display(ui)\n"
   ]
  },
  {
   "cell_type": "code",
   "execution_count": null,
   "id": "6ec3837c",
   "metadata": {},
   "outputs": [],
   "source": [
    "# ================= Robustness Metrics and Statistical Analysis =================\n",
    "\n",
    "def compute_robustness_metrics(model, tokenizer, test_sentences, noise_levels=np.arange(0.0, 0.25, 0.05)):\n",
    "    \"\"\"\n",
    "    Compute comprehensive robustness metrics\n",
    "    \"\"\"\n",
    "    metrics = {\n",
    "        'lipschitz_constant': [],\n",
    "        'shap_stability_index': [],\n",
    "        'prediction_consistency': [],\n",
    "        'confidence_variance': [],\n",
    "        'ranking_kendall_tau': []\n",
    "    }\n",
    "    \n",
    "    print(\"Computing robustness metrics...\")\n",
    "    \n",
    "    base_predict_fn = create_predict_function(model, tokenizer)\n",
    "    base_explainer = shap.Explainer(base_predict_fn, shap.maskers.Text(tokenizer))\n",
    "    \n",
    "    # Get baseline values\n",
    "    baseline_predictions = []\n",
    "    baseline_confidences = []\n",
    "    baseline_shap_values = []\n",
    "    \n",
    "    sample_sentences = test_sentences[:20]  # Use first 20 sentences for statistical significance\n",
    "    \n",
    "    for sentence in tqdm(sample_sentences, desc=\"Computing baselines\"):\n",
    "        try:\n",
    "            pred = base_predict_fn([sentence])\n",
    "            baseline_predictions.append(pred.argmax())\n",
    "            baseline_confidences.append(pred.max())\n",
    "            \n",
    "            shap_vals = base_explainer([sentence])\n",
    "            baseline_shap_values.append(shap_vals[0].values)\n",
    "        except:\n",
    "            continue\n",
    "    \n",
    "    for noise_std in tqdm(noise_levels[1:], desc=\"Computing metrics\"):  # Skip 0.0 noise\n",
    "        # Create noisy prediction function\n",
    "        def noisy_predict_fn(texts):\n",
    "            if isinstance(texts, np.ndarray):\n",
    "                texts = texts.tolist()\n",
    "            inputs = tokenizer(texts, return_tensors=\"pt\", padding=True, \n",
    "                             truncation=True, max_length=512, return_token_type_ids=False)\n",
    "            inputs = {k: v.to(device) for k, v in inputs.items()}\n",
    "            \n",
    "            with torch.no_grad():\n",
    "                embeddings = model.bert.embeddings(input_ids=inputs['input_ids'])\n",
    "                noise = torch.randn_like(embeddings) * noise_std\n",
    "                noisy_embeddings = embeddings + noise\n",
    "                \n",
    "                encoder_outputs = model.bert.encoder(noisy_embeddings)\n",
    "                sequence_output = encoder_outputs[0]\n",
    "                \n",
    "                pooled_output, _ = model.attention_pooling(\n",
    "                    sequence_output, sequence_output, sequence_output,\n",
    "                    key_padding_mask=~inputs['attention_mask'].bool()\n",
    "                )\n",
    "                pooled_output = pooled_output.mean(dim=1)\n",
    "                pooled_output = model.layer_norm(pooled_output)\n",
    "                \n",
    "                x = pooled_output\n",
    "                for layer in model.classifier_layers:\n",
    "                    x = layer(x)\n",
    "                logits = model.final_classifier(x)\n",
    "                probs = torch.nn.functional.softmax(logits, dim=1)\n",
    "            return probs.cpu().numpy()\n",
    "        \n",
    "        noisy_explainer = shap.Explainer(noisy_predict_fn, shap.maskers.Text(tokenizer))\n",
    "        \n",
    "        # Compute metrics for this noise level\n",
    "        lipschitz_vals = []\n",
    "        shap_stabilities = []\n",
    "        pred_consistencies = []\n",
    "        conf_variances = []\n",
    "        ranking_taus = []\n",
    "        \n",
    "        for i, sentence in enumerate(sample_sentences[:len(baseline_predictions)]):\n",
    "            try:\n",
    "                # Noisy prediction\n",
    "                noisy_pred = noisy_predict_fn([sentence])\n",
    "                noisy_class = noisy_pred.argmax()\n",
    "                noisy_conf = noisy_pred.max()\n",
    "                \n",
    "                # Noisy SHAP values\n",
    "                noisy_shap = noisy_explainer([sentence])\n",
    "                noisy_shap_vals = noisy_shap[0].values\n",
    "                \n",
    "                # 1. Lipschitz constant approximation\n",
    "                conf_diff = abs(baseline_confidences[i] - noisy_conf)\n",
    "                lipschitz_vals.append(conf_diff / noise_std if noise_std > 0 else 0)\n",
    "                \n",
    "                # 2. SHAP stability\n",
    "                base_shap = baseline_shap_values[i]\n",
    "                min_len = min(len(base_shap), len(noisy_shap_vals))\n",
    "                if min_len > 0:\n",
    "                    shap_diff = np.mean(np.abs(base_shap[:min_len] - noisy_shap_vals[:min_len]))\n",
    "                    shap_stabilities.append(shap_diff)\n",
    "                \n",
    "                # 3. Prediction consistency\n",
    "                pred_consistencies.append(1.0 if baseline_predictions[i] == noisy_class else 0.0)\n",
    "                \n",
    "                # 4. Confidence variance\n",
    "                conf_variances.append((baseline_confidences[i] - noisy_conf) ** 2)\n",
    "                \n",
    "                # 5. Ranking correlation (Kendall's tau)\n",
    "                if min_len > 0:\n",
    "                    from scipy.stats import kendalltau\n",
    "                    tau, _ = kendalltau(np.abs(base_shap[:min_len]), np.abs(noisy_shap_vals[:min_len]))\n",
    "                    ranking_taus.append(tau if not np.isnan(tau) else 0)\n",
    "                \n",
    "            except Exception as e:\n",
    "                continue\n",
    "        \n",
    "        # Store average metrics for this noise level\n",
    "        metrics['lipschitz_constant'].append(np.mean(lipschitz_vals) if lipschitz_vals else 0)\n",
    "        metrics['shap_stability_index'].append(np.mean(shap_stabilities) if shap_stabilities else 0)\n",
    "        metrics['prediction_consistency'].append(np.mean(pred_consistencies) if pred_consistencies else 0)\n",
    "        metrics['confidence_variance'].append(np.mean(conf_variances) if conf_variances else 0)\n",
    "        metrics['ranking_kendall_tau'].append(np.mean(ranking_taus) if ranking_taus else 0)\n",
    "    \n",
    "    return metrics, noise_levels[1:]\n",
    "\n",
    "def plot_robustness_metrics(metrics, noise_levels):\n",
    "    \"\"\"\n",
    "    Plot comprehensive robustness metrics\n",
    "    \"\"\"\n",
    "    fig, axes = plt.subplots(2, 3, figsize=(18, 12))\n",
    "    fig.suptitle('Model Robustness Metrics Under Noise Attacks', fontsize=16, fontweight='bold')\n",
    "    \n",
    "    # Plot 1: Lipschitz Constant\n",
    "    axes[0, 0].plot(noise_levels, metrics['lipschitz_constant'], 'b-o', linewidth=2, markersize=5)\n",
    "    axes[0, 0].set_xlabel('Noise Level (σ)')\n",
    "    axes[0, 0].set_ylabel('Lipschitz Constant')\n",
    "    axes[0, 0].set_title('Lipschitz Stability')\n",
    "    axes[0, 0].grid(True, alpha=0.3)\n",
    "    \n",
    "    # Plot 2: SHAP Stability Index\n",
    "    axes[0, 1].plot(noise_levels, metrics['shap_stability_index'], 'r-s', linewidth=2, markersize=5)\n",
    "    axes[0, 1].set_xlabel('Noise Level (σ)')\n",
    "    axes[0, 1].set_ylabel('SHAP Stability Index')\n",
    "    axes[0, 1].set_title('SHAP Explanation Stability')\n",
    "    axes[0, 1].grid(True, alpha=0.3)\n",
    "    \n",
    "    # Plot 3: Prediction Consistency\n",
    "    axes[0, 2].plot(noise_levels, metrics['prediction_consistency'], 'g-^', linewidth=2, markersize=5)\n",
    "    axes[0, 2].set_xlabel('Noise Level (σ)')\n",
    "    axes[0, 2].set_ylabel('Prediction Consistency')\n",
    "    axes[0, 2].set_title('Prediction Stability')\n",
    "    axes[0, 2].grid(True, alpha=0.3)\n",
    "    axes[0, 2].set_ylim([0, 1])\n",
    "    \n",
    "    # Plot 4: Confidence Variance\n",
    "    axes[1, 0].plot(noise_levels, metrics['confidence_variance'], 'm-d', linewidth=2, markersize=5)\n",
    "    axes[1, 0].set_xlabel('Noise Level (σ)')\n",
    "    axes[1, 0].set_ylabel('Confidence Variance')\n",
    "    axes[1, 0].set_title('Confidence Stability')\n",
    "    axes[1, 0].grid(True, alpha=0.3)\n",
    "    \n",
    "    # Plot 5: Ranking Correlation\n",
    "    axes[1, 1].plot(noise_levels, metrics['ranking_kendall_tau'], 'c-p', linewidth=2, markersize=5)\n",
    "    axes[1, 1].set_xlabel('Noise Level (σ)')\n",
    "    axes[1, 1].set_ylabel('Kendall Tau')\n",
    "    axes[1, 1].set_title('Feature Ranking Stability')\n",
    "    axes[1, 1].grid(True, alpha=0.3)\n",
    "    axes[1, 1].set_ylim([-1, 1])\n",
    "    \n",
    "    # Plot 6: Combined Robustness Score\n",
    "    # Normalize all metrics to [0, 1] and compute average\n",
    "    normalized_metrics = {}\n",
    "    for key, values in metrics.items():\n",
    "        if key == 'ranking_kendall_tau':\n",
    "            # Convert tau from [-1, 1] to [0, 1]\n",
    "            normalized_metrics[key] = [(v + 1) / 2 for v in values]\n",
    "        elif key == 'prediction_consistency':\n",
    "            # Already in [0, 1]\n",
    "            normalized_metrics[key] = values\n",
    "        else:\n",
    "            # Invert and normalize (lower is better for these metrics)\n",
    "            max_val = max(values) if values else 1\n",
    "            normalized_metrics[key] = [1 - (v / max_val) for v in values]\n",
    "    \n",
    "    # Compute combined score\n",
    "    combined_score = []\n",
    "    for i in range(len(noise_levels)):\n",
    "        score = np.mean([\n",
    "            normalized_metrics['lipschitz_constant'][i],\n",
    "            normalized_metrics['shap_stability_index'][i],\n",
    "            normalized_metrics['prediction_consistency'][i],\n",
    "            normalized_metrics['confidence_variance'][i],\n",
    "            normalized_metrics['ranking_kendall_tau'][i]\n",
    "        ])\n",
    "        combined_score.append(score)\n",
    "    \n",
    "    axes[1, 2].plot(noise_levels, combined_score, 'k-o', linewidth=3, markersize=6)\n",
    "    axes[1, 2].set_xlabel('Noise Level (σ)')\n",
    "    axes[1, 2].set_ylabel('Combined Robustness Score')\n",
    "    axes[1, 2].set_title('Overall Robustness Score')\n",
    "    axes[1, 2].grid(True, alpha=0.3)\n",
    "    axes[1, 2].set_ylim([0, 1])\n",
    "    \n",
    "    plt.tight_layout()\n",
    "    plt.savefig('robustness_metrics_comprehensive.png', dpi=300, bbox_inches='tight')\n",
    "    plt.show()\n",
    "    \n",
    "    return combined_score\n"
   ]
  },
  {
   "cell_type": "code",
   "execution_count": null,
   "id": "85595578",
   "metadata": {},
   "outputs": [],
   "source": [
    "# ================= Attack Success Rate Analysis =================\n",
    "\n",
    "def analyze_attack_success_rates(model, tokenizer, test_sentences, attack_types=['noise', 'synonym', 'paraphrase']):\n",
    "    \"\"\"\n",
    "    Analyze success rates of different types of attacks\n",
    "    \"\"\"\n",
    "    attack_results = {}\n",
    "    base_predict_fn = create_predict_function(model, tokenizer)\n",
    "    \n",
    "    # Get baseline predictions\n",
    "    baseline_predictions = []\n",
    "    baseline_confidences = []\n",
    "    \n",
    "    sample_sentences = test_sentences[:30]  # Use first 30 sentences from test_sentences\n",
    "    \n",
    "    for sentence in tqdm(sample_sentences, desc=\"Getting baselines\"):\n",
    "        try:\n",
    "            pred = base_predict_fn([sentence])\n",
    "            baseline_predictions.append(pred.argmax())\n",
    "            baseline_confidences.append(pred.max())\n",
    "        except:\n",
    "            continue\n",
    "    \n",
    "    # Attack 1: Noise Attack (various levels)\n",
    "    if 'noise' in attack_types:\n",
    "        noise_levels = [0.05, 0.1, 0.15, 0.2, 0.25]\n",
    "        noise_success_rates = []\n",
    "        \n",
    "        for noise_std in noise_levels:\n",
    "            def noisy_predict_fn(texts):\n",
    "                if isinstance(texts, np.ndarray):\n",
    "                    texts = texts.tolist()\n",
    "                inputs = tokenizer(texts, return_tensors=\"pt\", padding=True, \n",
    "                                 truncation=True, max_length=512, return_token_type_ids=False)\n",
    "                inputs = {k: v.to(device) for k, v in inputs.items()}\n",
    "                \n",
    "                with torch.no_grad():\n",
    "                    embeddings = model.bert.embeddings(input_ids=inputs['input_ids'])\n",
    "                    noise = torch.randn_like(embeddings) * noise_std\n",
    "                    noisy_embeddings = embeddings + noise\n",
    "                    \n",
    "                    encoder_outputs = model.bert.encoder(noisy_embeddings)\n",
    "                    sequence_output = encoder_outputs[0]\n",
    "                    \n",
    "                    pooled_output, _ = model.attention_pooling(\n",
    "                        sequence_output, sequence_output, sequence_output,\n",
    "                        key_padding_mask=~inputs['attention_mask'].bool()\n",
    "                    )\n",
    "                    pooled_output = pooled_output.mean(dim=1)\n",
    "                    pooled_output = model.layer_norm(pooled_output)\n",
    "                    \n",
    "                    x = pooled_output\n",
    "                    for layer in model.classifier_layers:\n",
    "                        x = layer(x)\n",
    "                    logits = model.final_classifier(x)\n",
    "                    probs = torch.nn.functional.softmax(logits, dim=1)\n",
    "                return probs.cpu().numpy()\n",
    "            \n",
    "            flips = 0\n",
    "            for i, sentence in enumerate(sample_sentences[:len(baseline_predictions)]):\n",
    "                try:\n",
    "                    noisy_pred = noisy_predict_fn([sentence])\n",
    "                    if noisy_pred.argmax() != baseline_predictions[i]:\n",
    "                        flips += 1\n",
    "                except:\n",
    "                    continue\n",
    "            \n",
    "            success_rate = flips / len(baseline_predictions)\n",
    "            noise_success_rates.append(success_rate)\n",
    "        \n",
    "        attack_results['noise'] = {\n",
    "            'levels': noise_levels,\n",
    "            'success_rates': noise_success_rates\n",
    "        }\n",
    "    \n",
    "    # Attack 2: Synonym Replacement\n",
    "    if 'synonym' in attack_types:\n",
    "        synonym_replacements = {\n",
    "            'granted': ['allowed', 'approved', 'permitted', 'accepted'],\n",
    "            'dismissed': ['rejected', 'denied', 'refused', 'declined'],\n",
    "            'petition': ['application', 'request', 'appeal', 'motion'],\n",
    "            'court': ['tribunal', 'judge', 'judicial body', 'bench'],\n",
    "            'evidence': ['proof', 'testimony', 'documentation', 'facts']\n",
    "        }\n",
    "        \n",
    "        synonym_success_rates = []\n",
    "        replacement_counts = [1, 2, 3, 4, 5]  # Number of replacements\n",
    "        \n",
    "        for num_replacements in replacement_counts:\n",
    "            flips = 0\n",
    "            for i, sentence in enumerate(sample_sentences[:len(baseline_predictions)]):\n",
    "                try:\n",
    "                    # Apply synonym replacements\n",
    "                    modified_sentence = sentence\n",
    "                    replacements_made = 0\n",
    "                    \n",
    "                    for original, synonyms in synonym_replacements.items():\n",
    "                        if original in modified_sentence.lower() and replacements_made < num_replacements:\n",
    "                            synonym = np.random.choice(synonyms)\n",
    "                            modified_sentence = modified_sentence.replace(original, synonym)\n",
    "                            replacements_made += 1\n",
    "                    \n",
    "                    if modified_sentence != sentence:  # Only test if changes were made\n",
    "                        pred = base_predict_fn([modified_sentence])\n",
    "                        if pred.argmax() != baseline_predictions[i]:\n",
    "                            flips += 1\n",
    "                except:\n",
    "                    continue\n",
    "            \n",
    "            success_rate = flips / len(baseline_predictions)\n",
    "            synonym_success_rates.append(success_rate)\n",
    "        \n",
    "        attack_results['synonym'] = {\n",
    "            'levels': replacement_counts,\n",
    "            'success_rates': synonym_success_rates\n",
    "        }\n",
    "    \n",
    "    # Attack 3: Paraphrase Attack (simple)\n",
    "    if 'paraphrase' in attack_types:\n",
    "        paraphrase_patterns = [\n",
    "            (r'The court finds', 'It is determined by the court'),\n",
    "            (r'is granted', 'shall be allowed'),\n",
    "            (r'is dismissed', 'shall be rejected'),\n",
    "            (r'petition', 'formal request'),\n",
    "            (r'after consideration', 'following review')\n",
    "        ]\n",
    "        \n",
    "        paraphrase_success_rates = []\n",
    "        pattern_counts = [1, 2, 3, 4, 5]\n",
    "        \n",
    "        for num_patterns in pattern_counts:\n",
    "            flips = 0\n",
    "            for i, sentence in enumerate(sample_sentences[:len(baseline_predictions)]):\n",
    "                try:\n",
    "                    modified_sentence = sentence\n",
    "                    patterns_applied = 0\n",
    "                    \n",
    "                    for pattern, replacement in paraphrase_patterns[:num_patterns]:\n",
    "                        if patterns_applied < num_patterns:\n",
    "                            modified_sentence = re.sub(pattern, replacement, modified_sentence, flags=re.IGNORECASE)\n",
    "                            patterns_applied += 1\n",
    "                    \n",
    "                    if modified_sentence != sentence:\n",
    "                        pred = base_predict_fn([modified_sentence])\n",
    "                        if pred.argmax() != baseline_predictions[i]:\n",
    "                            flips += 1\n",
    "                except:\n",
    "                    continue\n",
    "            \n",
    "            success_rate = flips / len(baseline_predictions)\n",
    "            paraphrase_success_rates.append(success_rate)\n",
    "        \n",
    "        attack_results['paraphrase'] = {\n",
    "            'levels': pattern_counts,\n",
    "            'success_rates': paraphrase_success_rates\n",
    "        }\n",
    "    \n",
    "    return attack_results\n",
    "\n",
    "def plot_attack_success_rates(attack_results):\n",
    "    \"\"\"\n",
    "    Plot success rates for different attack types\n",
    "    \"\"\"\n",
    "    plt.figure(figsize=(15, 5))\n",
    "    \n",
    "    colors = ['red', 'blue', 'green', 'orange', 'purple']\n",
    "    \n",
    "    for i, (attack_type, results) in enumerate(attack_results.items()):\n",
    "        plt.subplot(1, len(attack_results), i + 1)\n",
    "        \n",
    "        plt.plot(results['levels'], results['success_rates'], \n",
    "                'o-', color=colors[i], linewidth=2, markersize=6)\n",
    "        \n",
    "        plt.xlabel('Attack Intensity')\n",
    "        plt.ylabel('Success Rate')\n",
    "        plt.title(f'{attack_type.capitalize()} Attack Success Rate')\n",
    "        plt.grid(True, alpha=0.3)\n",
    "        plt.ylim([0, 1])\n",
    "        \n",
    "        # Add percentage labels\n",
    "        for x, y in zip(results['levels'], results['success_rates']):\n",
    "            plt.annotate(f'{y:.1%}', (x, y), textcoords=\"offset points\", \n",
    "                        xytext=(0,10), ha='center', fontsize=9)\n",
    "    \n",
    "    plt.tight_layout()\n",
    "    plt.savefig('attack_success_rates.png', dpi=300, bbox_inches='tight')\n",
    "    plt.show()"
   ]
  },
  {
   "cell_type": "code",
   "execution_count": null,
   "id": "fab96502",
   "metadata": {},
   "outputs": [],
   "source": [
    "def run_comprehensive_experiments(test_sentences):\n",
    "    \"\"\"\n",
    "    Run all experiments and generate comprehensive report\n",
    "    \"\"\"\n",
    "    try:\n",
    "        # Load model\n",
    "        if 'model' not in locals():\n",
    "            model, tokenizer, config = ModelSaver.load_model(\"./final_model_checkpoint\")\n",
    "        \n",
    "        print(\"=\" * 60)\n",
    "        print(\"COMPREHENSIVE ROBUSTNESS AND ATTACK ANALYSIS\")\n",
    "        print(\"=\" * 60)\n",
    "        \n",
    "        # 1. Compute robustness metrics\n",
    "        print(\"\\n1. Computing robustness metrics...\")\n",
    "        metrics, noise_levels = compute_robustness_metrics(model, tokenizer, test_sentences)\n",
    "        combined_scores = plot_robustness_metrics(metrics, noise_levels)\n",
    "        \n",
    "        # 2. Analyze attack success rates\n",
    "        print(\"\\n2. Analyzing attack success rates...\")\n",
    "        attack_results = analyze_attack_success_rates(model, tokenizer, test_sentences)\n",
    "        plot_attack_success_rates(attack_results)\n",
    "        \n",
    "        # 3. Generate summary report\n",
    "        print(\"\\n3. Generating summary report...\")\n",
    "        \n",
    "        print(\"\\n\" + \"=\"*50)\n",
    "        print(\"EXECUTIVE SUMMARY\")\n",
    "        print(\"=\"*50)\n",
    "        \n",
    "        # Robustness summary\n",
    "        avg_robustness = np.mean(combined_scores)\n",
    "        print(f\"Overall Robustness Score: {avg_robustness:.3f}/1.000\")\n",
    "        \n",
    "        if avg_robustness > 0.8:\n",
    "            robustness_level = \"HIGH\"\n",
    "        elif avg_robustness > 0.6:\n",
    "            robustness_level = \"MODERATE\"\n",
    "        else:\n",
    "            robustness_level = \"LOW\"\n",
    "        \n",
    "        print(f\"Robustness Level: {robustness_level}\")\n",
    "        \n",
    "        # Attack success summary\n",
    "        print(f\"\\nAttack Success Rates (at maximum intensity):\")\n",
    "        for attack_type, results in attack_results.items():\n",
    "            max_success_rate = max(results['success_rates'])\n",
    "            print(f\"  {attack_type.capitalize()} Attack: {max_success_rate:.1%}\")\n",
    "        \n",
    "        # Recommendations\n",
    "        print(f\"\\nRECOMMENDATIONS:\")\n",
    "        if avg_robustness < 0.7:\n",
    "            print(\"- Consider adversarial training to improve robustness\")\n",
    "            print(\"- Implement input preprocessing to detect attacks\")\n",
    "            print(\"- Use ensemble methods for more stable predictions\")\n",
    "        \n",
    "        if any(max(results['success_rates']) > 0.3 for results in attack_results.values()):\n",
    "            print(\"- High vulnerability to certain attacks detected\")\n",
    "            print(\"- Implement input sanitization mechanisms\")\n",
    "            print(\"- Consider confidence thresholding for uncertain predictions\")\n",
    "        \n",
    "        print(\"\\nGenerated visualizations:\")\n",
    "        print(\"- robustness_metrics_comprehensive.png\")\n",
    "        print(\"- attack_success_rates.png\")\n",
    "        \n",
    "    except Exception as e:\n",
    "        print(f\"Error in comprehensive experiments: {e}\")\n",
    "        import traceback\n",
    "        traceback.print_exc()\n",
    "\n",
    "print(\"All experiment functions loaded successfully!\")\n",
    "print(\"\\nTo run experiments, execute:\")\n",
    "print(\"1. run_comprehensive_experiments(test_sentences) - for full analysis\")\n",
    "print(\"2. create_interactive_shap_explorer(model, tokenizer, test_sentences) - for interactive exploration\")"
   ]
  },
  {
   "cell_type": "code",
   "execution_count": null,
   "id": "d15453a5",
   "metadata": {},
   "outputs": [],
   "source": [
    "# Temporal analysis and FGSM attack success rates\n",
    "def plot_temporal_fgsm_analysis(fgsm_results, temporal_results):\n",
    "    \"\"\"\n",
    "    Plot only temporal analysis and FGSM results\n",
    "    \"\"\"\n",
    "    plt.figure(figsize=(15, 10))\n",
    "    \n",
    "    # Plot 1: FGSM Success Rate vs Epsilon\n",
    "    plt.subplot(2, 3, 1)\n",
    "    plt.plot(fgsm_results['epsilons'], fgsm_results['success_rates'], 'r-o', linewidth=2, markersize=6)\n",
    "    plt.xlabel('Epsilon Value')\n",
    "    plt.ylabel('Attack Success Rate')\n",
    "    plt.title('FGSM Attack Success vs Epsilon')\n",
    "    plt.grid(True, alpha=0.3)\n",
    "    \n",
    "    # Highlight optimal epsilon\n",
    "    if fgsm_results['success_rates']:\n",
    "        max_idx = np.argmax(fgsm_results['success_rates'])\n",
    "        plt.axvline(x=fgsm_results['epsilons'][max_idx], color='red', linestyle='--', alpha=0.7)\n",
    "        plt.text(fgsm_results['epsilons'][max_idx], fgsm_results['success_rates'][max_idx], \n",
    "                f'  Max: {fgsm_results[\"success_rates\"][max_idx]:.2%}', \n",
    "                verticalalignment='bottom')\n",
    "    \n",
    "    # Plot 2: FGSM Confidence Drop\n",
    "    plt.subplot(2, 3, 2)\n",
    "    plt.plot(fgsm_results['epsilons'], fgsm_results['confidence_drops'], 'b-s', linewidth=2, markersize=6)\n",
    "    plt.xlabel('Epsilon Value')\n",
    "    plt.ylabel('Average Confidence Drop')\n",
    "    plt.title('FGSM Confidence Impact')\n",
    "    plt.grid(True, alpha=0.3)\n",
    "    \n",
    "    # Plot 3: Temporal - Cumulative flips over time\n",
    "    plt.subplot(2, 3, 3)\n",
    "    plt.plot(temporal_results['time_steps'], temporal_results['cumulative_flips'], 'g-o', linewidth=2)\n",
    "    plt.xlabel('Time Step (Increasing Noise)')\n",
    "    plt.ylabel('Cumulative Flipped Predictions')\n",
    "    plt.title('Cumulative Prediction Instability')\n",
    "    plt.grid(True, alpha=0.3)\n",
    "    \n",
    "    # Plot 4: Temporal - New flips per step\n",
    "    plt.subplot(2, 3, 4)\n",
    "    plt.bar(temporal_results['time_steps'], temporal_results['new_flips_per_step'], \n",
    "            color='orange', alpha=0.7)\n",
    "    plt.xlabel('Time Step')\n",
    "    plt.ylabel('New Flips')\n",
    "    plt.title('New Prediction Flips per Step')\n",
    "    plt.grid(True, alpha=0.3)\n",
    "    \n",
    "    # Plot 5: Temporal - Stability recovery\n",
    "    plt.subplot(2, 3, 5)\n",
    "    plt.plot(temporal_results['time_steps'], temporal_results['stability_recovery'], 'purple', \n",
    "             marker='s', linewidth=2)\n",
    "    plt.xlabel('Time Step')\n",
    "    plt.ylabel('Recovery Rate')\n",
    "    plt.title('Stability Recovery Rate')\n",
    "    plt.grid(True, alpha=0.3)\n",
    "    \n",
    "    # Plot 6: Combined Analysis Summary\n",
    "    plt.subplot(2, 3, 6)\n",
    "    plt.axis('off')\n",
    "    \n",
    "    # Create summary statistics\n",
    "    max_fgsm_success = max(fgsm_results['success_rates']) if fgsm_results['success_rates'] else 0\n",
    "    optimal_epsilon = fgsm_results['epsilons'][np.argmax(fgsm_results['success_rates'])] if fgsm_results['success_rates'] else 0\n",
    "    final_cumulative_flips = temporal_results['cumulative_flips'][-1] if temporal_results['cumulative_flips'] else 0\n",
    "    max_new_flips = max(temporal_results['new_flips_per_step']) if temporal_results['new_flips_per_step'] else 0\n",
    "    avg_recovery = np.mean(temporal_results['stability_recovery']) if temporal_results['stability_recovery'] else 0\n",
    "    \n",
    "    summary_text = f\"\"\"\n",
    "    TEMPORAL & FGSM ANALYSIS SUMMARY\n",
    "    \n",
    "    FGSM Attack Results:\n",
    "    Max Success Rate: {max_fgsm_success:.2%}\n",
    "    Optimal Epsilon: {optimal_epsilon:.4f}\n",
    "    Avg Confidence Drop: {np.mean(fgsm_results['confidence_drops']):.3f}\n",
    "    \n",
    "    Temporal Robustness:\n",
    "    Total Cumulative Flips: {final_cumulative_flips}\n",
    "    Max New Flips/Step: {max_new_flips}\n",
    "    Avg Recovery Rate: {avg_recovery:.2%}\n",
    "    \n",
    "    Model Robustness Assessment:\n",
    "    FGSM Vulnerability: {'HIGH' if max_fgsm_success > 0.5 else 'MODERATE' if max_fgsm_success > 0.2 else 'LOW'}\n",
    "    Temporal Stability: {'LOW' if final_cumulative_flips > 7 else 'MODERATE' if final_cumulative_flips > 3 else 'HIGH'}\n",
    "    \"\"\"\n",
    "    \n",
    "    plt.text(0.05, 0.95, summary_text, transform=plt.gca().transAxes, \n",
    "             fontsize=10, verticalalignment='top', fontfamily='monospace',\n",
    "             bbox=dict(boxstyle='round', facecolor='lightblue', alpha=0.8))\n",
    "    \n",
    "    plt.suptitle('Temporal Analysis and FGSM Attack Study', fontsize=16, fontweight='bold')\n",
    "    plt.tight_layout()\n",
    "    plt.savefig('temporal_fgsm_analysis.png', dpi=300, bbox_inches='tight')\n",
    "    plt.show()\n",
    "\n",
    "# ================= MAIN EXECUTION FUNCTION (SIMPLIFIED) =================\n",
    "def run_temporal_fgsm_experiments(model, tokenizer, test_sentences):\n",
    "    \"\"\"\n",
    "    Run only temporal analysis and FGSM experiments\n",
    "    \"\"\"\n",
    "    print(\"TEMPORAL ANALYSIS & FGSM EXPERIMENTS\")\n",
    "    print(\"=\" * 50)\n",
    "    \n",
    "    # 1. FGSM Attacks\n",
    "    print(\"\\n1. Running FGSM attacks...\")\n",
    "    fgsm_results = test_fgsm_attacks(model, tokenizer, test_sentences)\n",
    "    \n",
    "    # 2. Temporal Robustness Analysis\n",
    "    print(\"\\n2. Running temporal robustness analysis...\")\n",
    "    temporal_results = temporal_robustness_test(model, tokenizer, test_sentences)\n",
    "    \n",
    "    # 3. Generate visualizations\n",
    "    print(\"\\n3. Generating visualizations...\")\n",
    "    plot_temporal_fgsm_analysis(fgsm_results, temporal_results)\n",
    "    \n",
    "    # 4. Generate focused report\n",
    "    print(\"\\n4. Generating focused report...\")\n",
    "    generate_temporal_fgsm_report(fgsm_results, temporal_results)\n",
    "    \n",
    "    return {\n",
    "        'fgsm_results': fgsm_results,\n",
    "        'temporal_results': temporal_results\n",
    "    }\n",
    "\n",
    "def generate_temporal_fgsm_report(fgsm_results, temporal_results):\n",
    "    \"\"\"\n",
    "    Generate a focused report on temporal and FGSM analysis\n",
    "    \"\"\"\n",
    "    print(\"\\n\" + \"=\"*60)\n",
    "    print(\"TEMPORAL & FGSM ROBUSTNESS ANALYSIS REPORT\")\n",
    "    print(\"=\"*60)\n",
    "    \n",
    "    # Executive Summary\n",
    "    print(\"\\nEXECUTIVE SUMMARY\")\n",
    "    print(\"-\" * 30)\n",
    "    \n",
    "    max_fgsm_success = max(fgsm_results['success_rates']) if fgsm_results['success_rates'] else 0\n",
    "    final_temporal_flips = temporal_results['cumulative_flips'][-1] if temporal_results['cumulative_flips'] else 0\n",
    "    \n",
    "    print(f\"Maximum FGSM attack success rate: {max_fgsm_success:.2%}\")\n",
    "    print(f\"Total temporal prediction flips: {final_temporal_flips}\")\n",
    "    \n",
    "    # Overall robustness assessment\n",
    "    fgsm_vulnerability = \"HIGH\" if max_fgsm_success > 0.5 else \"MODERATE\" if max_fgsm_success > 0.2 else \"LOW\"\n",
    "    temporal_stability = \"LOW\" if final_temporal_flips > 7 else \"MODERATE\" if final_temporal_flips > 3 else \"HIGH\"\n",
    "    \n",
    "    print(f\"FGSM vulnerability level: {fgsm_vulnerability}\")\n",
    "    print(f\"Temporal stability level: {temporal_stability}\")\n",
    "    \n",
    "    # FGSM Attack Analysis\n",
    "    print(f\"\\n1. GRADIENT-BASED ATTACKS (FGSM)\")\n",
    "    print(\"-\" * 30)\n",
    "    \n",
    "    optimal_epsilon = fgsm_results['epsilons'][np.argmax(fgsm_results['success_rates'])] if fgsm_results['success_rates'] else 0\n",
    "    avg_conf_drop = np.mean(fgsm_results['confidence_drops']) if fgsm_results['confidence_drops'] else 0\n",
    "    \n",
    "    print(f\"Optimal epsilon value: {optimal_epsilon:.4f}\")\n",
    "    print(f\"Maximum attack success rate: {max_fgsm_success:.2%}\")\n",
    "    print(f\"Average confidence drop: {avg_conf_drop:.3f}\")\n",
    "    \n",
    "    # Show progression of attack success\n",
    "    print(f\"\\nFGSM attack progression:\")\n",
    "    for i, (eps, success) in enumerate(zip(fgsm_results['epsilons'], fgsm_results['success_rates'])):\n",
    "        if i % 2 == 0:  # Show every other epsilon for brevity\n",
    "            status = \"🔴\" if success > 0.5 else \"🟡\" if success > 0.2 else \"🟢\"\n",
    "            print(f\"  ε={eps:.3f}: {success:.2%} {status}\")\n",
    "    \n",
    "    # Temporal Analysis\n",
    "    print(f\"\\n2. TEMPORAL ROBUSTNESS ANALYSIS\")\n",
    "    print(\"-\" * 30)\n",
    "    \n",
    "    max_new_flips = max(temporal_results['new_flips_per_step']) if temporal_results['new_flips_per_step'] else 0\n",
    "    avg_recovery = np.mean(temporal_results['stability_recovery']) if temporal_results['stability_recovery'] else 0\n",
    "    \n",
    "    print(f\"Total cumulative flips: {final_temporal_flips}\")\n",
    "    print(f\"Maximum new flips in single step: {max_new_flips}\")\n",
    "    print(f\"Average stability recovery rate: {avg_recovery:.2%}\")\n",
    "    \n",
    "    # Show temporal progression\n",
    "    print(f\"\\nTemporal flip progression:\")\n",
    "    for step, (cumulative, new_flips) in enumerate(zip(temporal_results['cumulative_flips'], \n",
    "                                                      temporal_results['new_flips_per_step'])):\n",
    "        if step % 2 == 0:  # Show every other step for brevity\n",
    "            noise_level = 0.05 + (step * 0.01)\n",
    "            print(f\"  Step {step} (σ={noise_level:.3f}): {cumulative} total, {new_flips} new\")\n",
    "    \n",
    "    # Risk Assessment\n",
    "    print(f\"\\n3. RISK ASSESSMENT\")\n",
    "    print(\"-\" * 30)\n",
    "    \n",
    "    risk_factors = []\n",
    "    recommendations = []\n",
    "    \n",
    "    if max_fgsm_success > 0.3:\n",
    "        risk_factors.append(\"🔴 HIGH: Vulnerable to gradient-based attacks\")\n",
    "        recommendations.append(\"Implement adversarial training with FGSM\")\n",
    "    \n",
    "    if final_temporal_flips > 5:\n",
    "        risk_factors.append(\"🟡 MODERATE: Temporal instability under noise\")\n",
    "        recommendations.append(\"Add input preprocessing/denoising\")\n",
    "    \n",
    "    if avg_recovery < 0.3:\n",
    "        risk_factors.append(\"🟡 MODERATE: Poor stability recovery\")\n",
    "        recommendations.append(\"Improve model regularization\")\n",
    "    \n",
    "    if max_new_flips > 3:\n",
    "        risk_factors.append(\"🟡 MODERATE: Sudden instability spikes\")\n",
    "        recommendations.append(\"Monitor for adversarial patterns\")\n",
    "    \n",
    "    print(\"Identified Risk Factors:\")\n",
    "    if risk_factors:\n",
    "        for risk in risk_factors:\n",
    "            print(f\"  {risk}\")\n",
    "    else:\n",
    "        print(\"  🟢 No significant risk factors identified\")\n",
    "    \n",
    "    print(f\"\\nRecommendations:\")\n",
    "    if recommendations:\n",
    "        for i, rec in enumerate(recommendations, 1):\n",
    "            print(f\"  {i}. {rec}\")\n",
    "    else:\n",
    "        print(\"  Model shows good robustness - continue monitoring\")\n",
    "    \n",
    "    # Statistical Insights\n",
    "    print(f\"\\n4. STATISTICAL INSIGHTS\")\n",
    "    print(\"-\" * 30)\n",
    "    \n",
    "    # FGSM epsilon-success correlation\n",
    "    if len(fgsm_results['epsilons']) > 2:\n",
    "        from scipy.stats import spearmanr\n",
    "        fgsm_corr, fgsm_p = spearmanr(fgsm_results['epsilons'], fgsm_results['success_rates'])\n",
    "        print(f\"FGSM epsilon-success correlation: r={fgsm_corr:.3f} (p={fgsm_p:.4f})\")\n",
    "    \n",
    "    # Temporal noise-flip correlation\n",
    "    noise_levels = [0.05 + (step * 0.01) for step in temporal_results['time_steps']]\n",
    "    if len(noise_levels) > 2:\n",
    "        temporal_corr, temporal_p = spearmanr(noise_levels, temporal_results['cumulative_flips'])\n",
    "        print(f\"Temporal noise-flip correlation: r={temporal_corr:.3f} (p={temporal_p:.4f})\")\n",
    "    \n",
    "    # Implementation Priority\n",
    "    print(f\"\\n5. IMPLEMENTATION PRIORITY\")\n",
    "    print(\"-\" * 30)\n",
    "    \n",
    "    high_priority = any(\"HIGH\" in risk for risk in risk_factors)\n",
    "    moderate_priority = any(\"MODERATE\" in risk for risk in risk_factors)\n",
    "    \n",
    "    if high_priority:\n",
    "        print(\"  🔴 URGENT: Address high-risk vulnerabilities immediately\")\n",
    "        print(\"     Focus on adversarial training and gradient masking\")\n",
    "    elif moderate_priority:\n",
    "        print(\"  🟡 MODERATE: Plan improvements in next development cycle\")\n",
    "        print(\"     Focus on input preprocessing and regularization\")\n",
    "    else:\n",
    "        print(\"  🟢 LOW: Maintain current robustness with regular monitoring\")\n",
    "        print(\"     Continue periodic temporal and FGSM testing\")\n",
    "    \n",
    "    print(\"\\n\" + \"=\"*60)\n",
    "    print(\"END OF FOCUSED REPORT\")\n",
    "    print(\"=\"*60)\n",
    "\n",
    "# ================= TEMPORAL ROBUSTNESS ANALYSIS (UNCHANGED) =================\n",
    "def temporal_robustness_test(model, tokenizer, test_sentences, time_steps=10):\n",
    "    \"\"\"\n",
    "    Test how robustness changes over multiple attack iterations\n",
    "    \"\"\"\n",
    "    results = {\n",
    "        'time_steps': list(range(time_steps)),\n",
    "        'cumulative_flips': [],\n",
    "        'new_flips_per_step': [],\n",
    "        'stability_recovery': []\n",
    "    }\n",
    "    \n",
    "    base_predict_fn = create_predict_function(model, tokenizer)\n",
    "    sample_sentences = test_sentences[:10]\n",
    "    \n",
    "    # Get baseline predictions\n",
    "    baseline_preds = []\n",
    "    for sentence in sample_sentences:\n",
    "        try:\n",
    "            pred = base_predict_fn([sentence])\n",
    "            baseline_preds.append(pred.argmax())\n",
    "        except:\n",
    "            continue\n",
    "    \n",
    "    cumulative_flipped = set()\n",
    "    \n",
    "    for step in range(time_steps):\n",
    "        noise_std = 0.05 + (step * 0.01)  # Gradually increasing noise\n",
    "        \n",
    "        def noisy_predict_fn(texts):\n",
    "            if isinstance(texts, np.ndarray):\n",
    "                texts = texts.tolist()\n",
    "            inputs = tokenizer(texts, return_tensors=\"pt\", padding=True, \n",
    "                             truncation=True, max_length=512, return_token_type_ids=False)\n",
    "            inputs = {k: v.to(device) for k, v in inputs.items()}\n",
    "            \n",
    "            with torch.no_grad():\n",
    "                embeddings = model.bert.embeddings(input_ids=inputs['input_ids'])\n",
    "                noise = torch.randn_like(embeddings) * noise_std\n",
    "                noisy_embeddings = embeddings + noise\n",
    "                \n",
    "                encoder_outputs = model.bert.encoder(noisy_embeddings)\n",
    "                sequence_output = encoder_outputs[0]\n",
    "                \n",
    "                # Use attention pooling or simple mean pooling\n",
    "                if hasattr(model, 'attention_pooling'):\n",
    "                    pooled_output = model.attention_pooling(\n",
    "                        sequence_output, sequence_output, sequence_output,\n",
    "                        key_padding_mask=~inputs['attention_mask'].bool()\n",
    "                    )[0]\n",
    "                    pooled_output = pooled_output.mean(dim=1)\n",
    "                else:\n",
    "                    # Fallback to mean pooling\n",
    "                    pooled_output = sequence_output.mean(dim=1)\n",
    "                pooled_output = model.layer_norm(pooled_output)\n",
    "                \n",
    "                x = pooled_output\n",
    "                for layer in model.classifier_layers:\n",
    "                    x = layer(x)\n",
    "                logits = model.final_classifier(x)\n",
    "                probs = torch.nn.functional.softmax(logits, dim=1)\n",
    "            return probs.cpu().numpy()\n",
    "        \n",
    "        # Test current step\n",
    "        step_flipped = set()\n",
    "        for i, sentence in enumerate(sample_sentences[:len(baseline_preds)]):\n",
    "            try:\n",
    "                pred = noisy_predict_fn([sentence])\n",
    "                if pred.argmax() != baseline_preds[i]:\n",
    "                    step_flipped.add(i)\n",
    "            except:\n",
    "                continue\n",
    "        \n",
    "        # Update results\n",
    "        new_flips = len(step_flipped - cumulative_flipped)\n",
    "        cumulative_flipped.update(step_flipped)\n",
    "        \n",
    "        results['cumulative_flips'].append(len(cumulative_flipped))\n",
    "        results['new_flips_per_step'].append(new_flips)\n",
    "        \n",
    "        # Check stability recovery (sentences that were flipped before but stable now)\n",
    "        previously_flipped = cumulative_flipped - step_flipped\n",
    "        recovery_rate = len(previously_flipped) / len(cumulative_flipped) if cumulative_flipped else 0\n",
    "        results['stability_recovery'].append(recovery_rate)\n",
    "    \n",
    "    return results\n",
    "\n",
    "print(\"Focused experiments module loaded successfully!\")\n",
    "print(\"\\nAvailable experiments:\")\n",
    "print(\"1. run_temporal_fgsm_experiments(model, tokenizer, test_sentences)\")\n",
    "print(\"2. temporal_robustness_test(model, tokenizer, test_sentences)\")\n",
    "print(\"\\nTo run focused experiments:\")\n",
    "print(\"results = run_temporal_fgsm_experiments(model, tokenizer, test_sentences)\")"
   ]
  }
 ],
 "metadata": {
  "kernelspec": {
   "display_name": "ml-env",
   "language": "python",
   "name": "python3"
  },
  "language_info": {
   "codemirror_mode": {
    "name": "ipython",
    "version": 3
   },
   "file_extension": ".py",
   "mimetype": "text/x-python",
   "name": "python",
   "nbconvert_exporter": "python",
   "pygments_lexer": "ipython3",
   "version": "3.12.7"
  }
 },
 "nbformat": 4,
 "nbformat_minor": 5
}
